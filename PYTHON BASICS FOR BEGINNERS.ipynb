{
 "cells": [
  {
   "cell_type": "code",
   "execution_count": 1,
   "id": "dca15b3f",
   "metadata": {},
   "outputs": [
    {
     "name": "stdout",
     "output_type": "stream",
     "text": [
      "Hello World\n"
     ]
    }
   ],
   "source": [
    "print(\"Hello World\")"
   ]
  },
  {
   "cell_type": "code",
   "execution_count": 2,
   "id": "1c9866f5",
   "metadata": {},
   "outputs": [
    {
     "data": {
      "text/plain": [
       "1"
      ]
     },
     "execution_count": 2,
     "metadata": {},
     "output_type": "execute_result"
    }
   ],
   "source": [
    "a=1\n",
    "a"
   ]
  },
  {
   "cell_type": "code",
   "execution_count": 3,
   "id": "c79aa1fe",
   "metadata": {},
   "outputs": [
    {
     "data": {
      "text/plain": [
       "2"
      ]
     },
     "execution_count": 3,
     "metadata": {},
     "output_type": "execute_result"
    }
   ],
   "source": [
    "a=2\n",
    "a"
   ]
  },
  {
   "cell_type": "code",
   "execution_count": 4,
   "id": "c60a7da0",
   "metadata": {},
   "outputs": [
    {
     "data": {
      "text/plain": [
       "3.4"
      ]
     },
     "execution_count": 4,
     "metadata": {},
     "output_type": "execute_result"
    }
   ],
   "source": [
    "b=3.4\n",
    "b"
   ]
  },
  {
   "cell_type": "code",
   "execution_count": 5,
   "id": "cd320f3b",
   "metadata": {},
   "outputs": [
    {
     "data": {
      "text/plain": [
       "(2+5j)"
      ]
     },
     "execution_count": 5,
     "metadata": {},
     "output_type": "execute_result"
    }
   ],
   "source": [
    "c=2+5j\n",
    "c"
   ]
  },
  {
   "cell_type": "code",
   "execution_count": 6,
   "id": "02d35212",
   "metadata": {},
   "outputs": [
    {
     "data": {
      "text/plain": [
       "list"
      ]
     },
     "execution_count": 6,
     "metadata": {},
     "output_type": "execute_result"
    }
   ],
   "source": [
    "l=[1,2.3,3+5j,'suraj']\n",
    "type(l)"
   ]
  },
  {
   "cell_type": "code",
   "execution_count": 7,
   "id": "783a5d98",
   "metadata": {},
   "outputs": [],
   "source": [
    "t=(1,2.4,3+5j,'suraj')"
   ]
  },
  {
   "cell_type": "code",
   "execution_count": 8,
   "id": "12910eae",
   "metadata": {},
   "outputs": [
    {
     "data": {
      "text/plain": [
       "tuple"
      ]
     },
     "execution_count": 8,
     "metadata": {},
     "output_type": "execute_result"
    }
   ],
   "source": [
    "type(t)"
   ]
  },
  {
   "cell_type": "code",
   "execution_count": 9,
   "id": "ab308b03",
   "metadata": {},
   "outputs": [],
   "source": [
    "z=True\n",
    "y=False"
   ]
  },
  {
   "cell_type": "code",
   "execution_count": 10,
   "id": "4848d046",
   "metadata": {},
   "outputs": [],
   "source": [
    "name=\"suraj veggalam\""
   ]
  },
  {
   "cell_type": "code",
   "execution_count": 11,
   "id": "edb32985",
   "metadata": {},
   "outputs": [],
   "source": [
    "n='suraj veggalam'"
   ]
  },
  {
   "cell_type": "code",
   "execution_count": 12,
   "id": "4931a737",
   "metadata": {},
   "outputs": [],
   "source": [
    "y='1'"
   ]
  },
  {
   "cell_type": "code",
   "execution_count": 13,
   "id": "122eedf5",
   "metadata": {},
   "outputs": [],
   "source": [
    "y='2.3'"
   ]
  },
  {
   "cell_type": "code",
   "execution_count": 14,
   "id": "78bad997",
   "metadata": {},
   "outputs": [],
   "source": [
    "f='1+3j'"
   ]
  },
  {
   "cell_type": "code",
   "execution_count": 15,
   "id": "d52d35c4",
   "metadata": {},
   "outputs": [],
   "source": [
    "firstname='suraj'"
   ]
  },
  {
   "cell_type": "code",
   "execution_count": 16,
   "id": "44b9fc6d",
   "metadata": {},
   "outputs": [
    {
     "data": {
      "text/plain": [
       "'suraj'"
      ]
     },
     "execution_count": 16,
     "metadata": {},
     "output_type": "execute_result"
    }
   ],
   "source": [
    "firstname"
   ]
  },
  {
   "cell_type": "code",
   "execution_count": 17,
   "id": "61f753d6",
   "metadata": {},
   "outputs": [
    {
     "data": {
      "text/plain": [
       "'suraj'"
      ]
     },
     "execution_count": 17,
     "metadata": {},
     "output_type": "execute_result"
    }
   ],
   "source": [
    "first_name='suraj'\n",
    "first_name"
   ]
  },
  {
   "cell_type": "code",
   "execution_count": 18,
   "id": "edbe979a",
   "metadata": {},
   "outputs": [
    {
     "data": {
      "text/plain": [
       "'emmanuel'"
      ]
     },
     "execution_count": 18,
     "metadata": {},
     "output_type": "execute_result"
    }
   ],
   "source": [
    "x=\"emmanuel\"\n",
    "x"
   ]
  },
  {
   "cell_type": "code",
   "execution_count": 19,
   "id": "15a317d2",
   "metadata": {},
   "outputs": [
    {
     "data": {
      "text/plain": [
       "str"
      ]
     },
     "execution_count": 19,
     "metadata": {},
     "output_type": "execute_result"
    }
   ],
   "source": [
    "type(x)"
   ]
  },
  {
   "cell_type": "code",
   "execution_count": 20,
   "id": "bff15617",
   "metadata": {},
   "outputs": [
    {
     "name": "stdout",
     "output_type": "stream",
     "text": [
      "emmanuel\n"
     ]
    }
   ],
   "source": [
    "print(x)"
   ]
  },
  {
   "cell_type": "code",
   "execution_count": 21,
   "id": "34aae8fb",
   "metadata": {},
   "outputs": [
    {
     "data": {
      "text/plain": [
       "8"
      ]
     },
     "execution_count": 21,
     "metadata": {},
     "output_type": "execute_result"
    }
   ],
   "source": [
    "len(x)"
   ]
  },
  {
   "cell_type": "markdown",
   "id": "3081f6b8",
   "metadata": {},
   "source": [
    "# indexing the strings\n",
    "syntax=[start:stop:step]\n",
    "accessing values inside the string"
   ]
  },
  {
   "cell_type": "code",
   "execution_count": 22,
   "id": "4f7ae958",
   "metadata": {},
   "outputs": [
    {
     "data": {
      "text/plain": [
       "'e'"
      ]
     },
     "execution_count": 22,
     "metadata": {},
     "output_type": "execute_result"
    }
   ],
   "source": [
    "x='emmanuel'\n",
    "x\n",
    "x[0]"
   ]
  },
  {
   "cell_type": "code",
   "execution_count": 25,
   "id": "0e4a8f02",
   "metadata": {},
   "outputs": [
    {
     "data": {
      "text/plain": [
       "'e'"
      ]
     },
     "execution_count": 25,
     "metadata": {},
     "output_type": "execute_result"
    }
   ],
   "source": [
    "x[6]"
   ]
  },
  {
   "cell_type": "code",
   "execution_count": 26,
   "id": "3afd61de",
   "metadata": {},
   "outputs": [
    {
     "data": {
      "text/plain": [
       "'l'"
      ]
     },
     "execution_count": 26,
     "metadata": {},
     "output_type": "execute_result"
    }
   ],
   "source": [
    "x[7]"
   ]
  },
  {
   "cell_type": "code",
   "execution_count": 27,
   "id": "1a6a0f31",
   "metadata": {},
   "outputs": [
    {
     "data": {
      "text/plain": [
       "'l'"
      ]
     },
     "execution_count": 27,
     "metadata": {},
     "output_type": "execute_result"
    }
   ],
   "source": [
    "x[-1]"
   ]
  },
  {
   "cell_type": "code",
   "execution_count": 28,
   "id": "a52d68e8",
   "metadata": {},
   "outputs": [
    {
     "data": {
      "text/plain": [
       "'e'"
      ]
     },
     "execution_count": 28,
     "metadata": {},
     "output_type": "execute_result"
    }
   ],
   "source": [
    "x[-2]"
   ]
  },
  {
   "cell_type": "code",
   "execution_count": 29,
   "id": "82a56ddf",
   "metadata": {},
   "outputs": [
    {
     "data": {
      "text/plain": [
       "'m'"
      ]
     },
     "execution_count": 29,
     "metadata": {},
     "output_type": "execute_result"
    }
   ],
   "source": [
    "x[-7]"
   ]
  },
  {
   "cell_type": "code",
   "execution_count": 30,
   "id": "f0493cb1",
   "metadata": {},
   "outputs": [
    {
     "data": {
      "text/plain": [
       "'e'"
      ]
     },
     "execution_count": 30,
     "metadata": {},
     "output_type": "execute_result"
    }
   ],
   "source": [
    "x[-8]"
   ]
  },
  {
   "cell_type": "code",
   "execution_count": 31,
   "id": "8efa967d",
   "metadata": {},
   "outputs": [
    {
     "data": {
      "text/plain": [
       "9"
      ]
     },
     "execution_count": 31,
     "metadata": {},
     "output_type": "execute_result"
    }
   ],
   "source": [
    "s=\"E mmanuel\"\n",
    "len(s)"
   ]
  },
  {
   "cell_type": "code",
   "execution_count": 32,
   "id": "e15a2f66",
   "metadata": {},
   "outputs": [
    {
     "data": {
      "text/plain": [
       "'m'"
      ]
     },
     "execution_count": 32,
     "metadata": {},
     "output_type": "execute_result"
    }
   ],
   "source": [
    "s[2]"
   ]
  },
  {
   "cell_type": "code",
   "execution_count": 33,
   "id": "0824937a",
   "metadata": {},
   "outputs": [
    {
     "data": {
      "text/plain": [
       "' '"
      ]
     },
     "execution_count": 33,
     "metadata": {},
     "output_type": "execute_result"
    }
   ],
   "source": [
    "s[1]"
   ]
  },
  {
   "cell_type": "code",
   "execution_count": 34,
   "id": "037eac2b",
   "metadata": {},
   "outputs": [],
   "source": [
    "n='Anil'"
   ]
  },
  {
   "cell_type": "code",
   "execution_count": 35,
   "id": "47027fff",
   "metadata": {},
   "outputs": [
    {
     "data": {
      "text/plain": [
       "4"
      ]
     },
     "execution_count": 35,
     "metadata": {},
     "output_type": "execute_result"
    }
   ],
   "source": [
    "len(n)"
   ]
  },
  {
   "cell_type": "code",
   "execution_count": 36,
   "id": "a5bb8d9f",
   "metadata": {},
   "outputs": [
    {
     "data": {
      "text/plain": [
       "'A'"
      ]
     },
     "execution_count": 36,
     "metadata": {},
     "output_type": "execute_result"
    }
   ],
   "source": [
    "n[0]"
   ]
  },
  {
   "cell_type": "code",
   "execution_count": 37,
   "id": "0dd81bc8",
   "metadata": {},
   "outputs": [
    {
     "data": {
      "text/plain": [
       "'n'"
      ]
     },
     "execution_count": 37,
     "metadata": {},
     "output_type": "execute_result"
    }
   ],
   "source": [
    "n[1]"
   ]
  },
  {
   "cell_type": "code",
   "execution_count": 38,
   "id": "4b992b5e",
   "metadata": {},
   "outputs": [
    {
     "data": {
      "text/plain": [
       "'i'"
      ]
     },
     "execution_count": 38,
     "metadata": {},
     "output_type": "execute_result"
    }
   ],
   "source": [
    "n[2]"
   ]
  },
  {
   "cell_type": "code",
   "execution_count": 39,
   "id": "e7dcc53a",
   "metadata": {},
   "outputs": [
    {
     "data": {
      "text/plain": [
       "'l'"
      ]
     },
     "execution_count": 39,
     "metadata": {},
     "output_type": "execute_result"
    }
   ],
   "source": [
    "n[3]"
   ]
  },
  {
   "cell_type": "code",
   "execution_count": 40,
   "id": "5ba83fb1",
   "metadata": {},
   "outputs": [
    {
     "data": {
      "text/plain": [
       "'An'"
      ]
     },
     "execution_count": 40,
     "metadata": {},
     "output_type": "execute_result"
    }
   ],
   "source": [
    "n[0:2]"
   ]
  },
  {
   "cell_type": "code",
   "execution_count": 41,
   "id": "d9e67268",
   "metadata": {},
   "outputs": [
    {
     "data": {
      "text/plain": [
       "'Anil'"
      ]
     },
     "execution_count": 41,
     "metadata": {},
     "output_type": "execute_result"
    }
   ],
   "source": [
    "n[0:4]"
   ]
  },
  {
   "cell_type": "code",
   "execution_count": 42,
   "id": "5aa31122",
   "metadata": {},
   "outputs": [],
   "source": [
    "n=\"yaswanth\""
   ]
  },
  {
   "cell_type": "code",
   "execution_count": 43,
   "id": "8a68173a",
   "metadata": {},
   "outputs": [
    {
     "data": {
      "text/plain": [
       "'swa'"
      ]
     },
     "execution_count": 43,
     "metadata": {},
     "output_type": "execute_result"
    }
   ],
   "source": [
    "n[2:5]"
   ]
  },
  {
   "cell_type": "code",
   "execution_count": 44,
   "id": "6a99700b",
   "metadata": {},
   "outputs": [
    {
     "data": {
      "text/plain": [
       "'anth'"
      ]
     },
     "execution_count": 44,
     "metadata": {},
     "output_type": "execute_result"
    }
   ],
   "source": [
    "n[4:8]"
   ]
  },
  {
   "cell_type": "code",
   "execution_count": 45,
   "id": "bd1004f7",
   "metadata": {},
   "outputs": [],
   "source": [
    "s='Emmanuel'"
   ]
  },
  {
   "cell_type": "code",
   "execution_count": 46,
   "id": "2307418e",
   "metadata": {},
   "outputs": [
    {
     "name": "stdout",
     "output_type": "stream",
     "text": [
      "Emmanuel\n"
     ]
    }
   ],
   "source": [
    "print(s)"
   ]
  },
  {
   "cell_type": "code",
   "execution_count": 47,
   "id": "62f51b84",
   "metadata": {},
   "outputs": [],
   "source": [
    "s1='suraj'\n",
    "s2='veggalam'"
   ]
  },
  {
   "cell_type": "code",
   "execution_count": 48,
   "id": "1df40203",
   "metadata": {},
   "outputs": [
    {
     "name": "stdout",
     "output_type": "stream",
     "text": [
      "suraj veggalam\n"
     ]
    }
   ],
   "source": [
    "print(s1,s2)"
   ]
  },
  {
   "cell_type": "code",
   "execution_count": 49,
   "id": "125646ad",
   "metadata": {},
   "outputs": [
    {
     "data": {
      "text/plain": [
       "'suraj'"
      ]
     },
     "execution_count": 49,
     "metadata": {},
     "output_type": "execute_result"
    }
   ],
   "source": [
    "s1"
   ]
  },
  {
   "cell_type": "code",
   "execution_count": 50,
   "id": "9c1d39a1",
   "metadata": {},
   "outputs": [
    {
     "data": {
      "text/plain": [
       "'veggalam'"
      ]
     },
     "execution_count": 50,
     "metadata": {},
     "output_type": "execute_result"
    }
   ],
   "source": [
    "s2"
   ]
  },
  {
   "cell_type": "code",
   "execution_count": 51,
   "id": "35954d3b",
   "metadata": {},
   "outputs": [
    {
     "data": {
      "text/plain": [
       "-1"
      ]
     },
     "execution_count": 51,
     "metadata": {},
     "output_type": "execute_result"
    }
   ],
   "source": [
    "s1=1\n",
    "s2=2\n",
    "s1-s2"
   ]
  },
  {
   "cell_type": "code",
   "execution_count": 52,
   "id": "a9dee96c",
   "metadata": {},
   "outputs": [
    {
     "data": {
      "text/plain": [
       "1"
      ]
     },
     "execution_count": 52,
     "metadata": {},
     "output_type": "execute_result"
    }
   ],
   "source": [
    "s2-s1"
   ]
  },
  {
   "cell_type": "code",
   "execution_count": 53,
   "id": "89a15334",
   "metadata": {},
   "outputs": [
    {
     "data": {
      "text/plain": [
       "3"
      ]
     },
     "execution_count": 53,
     "metadata": {},
     "output_type": "execute_result"
    }
   ],
   "source": [
    "w=s1+s2\n",
    "w"
   ]
  },
  {
   "cell_type": "code",
   "execution_count": 54,
   "id": "63b39228",
   "metadata": {},
   "outputs": [],
   "source": [
    "a,b,c=1,2,3"
   ]
  },
  {
   "cell_type": "code",
   "execution_count": 55,
   "id": "b60c07c5",
   "metadata": {},
   "outputs": [
    {
     "data": {
      "text/plain": [
       "1"
      ]
     },
     "execution_count": 55,
     "metadata": {},
     "output_type": "execute_result"
    }
   ],
   "source": [
    "a"
   ]
  },
  {
   "cell_type": "code",
   "execution_count": 56,
   "id": "1c388e36",
   "metadata": {},
   "outputs": [
    {
     "data": {
      "text/plain": [
       "2"
      ]
     },
     "execution_count": 56,
     "metadata": {},
     "output_type": "execute_result"
    }
   ],
   "source": [
    "b"
   ]
  },
  {
   "cell_type": "code",
   "execution_count": 57,
   "id": "fea8f320",
   "metadata": {},
   "outputs": [
    {
     "data": {
      "text/plain": [
       "3"
      ]
     },
     "execution_count": 57,
     "metadata": {},
     "output_type": "execute_result"
    }
   ],
   "source": [
    "c"
   ]
  },
  {
   "cell_type": "code",
   "execution_count": 58,
   "id": "82911440",
   "metadata": {},
   "outputs": [],
   "source": [
    "a=b=c=100"
   ]
  },
  {
   "cell_type": "code",
   "execution_count": 59,
   "id": "7bb853b4",
   "metadata": {},
   "outputs": [
    {
     "data": {
      "text/plain": [
       "100"
      ]
     },
     "execution_count": 59,
     "metadata": {},
     "output_type": "execute_result"
    }
   ],
   "source": [
    "a"
   ]
  },
  {
   "cell_type": "code",
   "execution_count": 61,
   "id": "370e462b",
   "metadata": {},
   "outputs": [
    {
     "data": {
      "text/plain": [
       "100"
      ]
     },
     "execution_count": 61,
     "metadata": {},
     "output_type": "execute_result"
    }
   ],
   "source": [
    "b"
   ]
  },
  {
   "cell_type": "code",
   "execution_count": 62,
   "id": "1ee2340c",
   "metadata": {},
   "outputs": [
    {
     "data": {
      "text/plain": [
       "100"
      ]
     },
     "execution_count": 62,
     "metadata": {},
     "output_type": "execute_result"
    }
   ],
   "source": [
    "c"
   ]
  },
  {
   "cell_type": "code",
   "execution_count": 63,
   "id": "0499e5a7",
   "metadata": {},
   "outputs": [],
   "source": [
    "g,h=20,30"
   ]
  },
  {
   "cell_type": "code",
   "execution_count": 64,
   "id": "3ff0b61e",
   "metadata": {},
   "outputs": [
    {
     "data": {
      "text/plain": [
       "20"
      ]
     },
     "execution_count": 64,
     "metadata": {},
     "output_type": "execute_result"
    }
   ],
   "source": [
    "g"
   ]
  },
  {
   "cell_type": "code",
   "execution_count": 65,
   "id": "af856634",
   "metadata": {},
   "outputs": [
    {
     "data": {
      "text/plain": [
       "30"
      ]
     },
     "execution_count": 65,
     "metadata": {},
     "output_type": "execute_result"
    }
   ],
   "source": [
    "h"
   ]
  },
  {
   "cell_type": "code",
   "execution_count": 66,
   "id": "16fdc2eb",
   "metadata": {},
   "outputs": [],
   "source": [
    "x=y=z=200"
   ]
  },
  {
   "cell_type": "code",
   "execution_count": 67,
   "id": "37990a13",
   "metadata": {},
   "outputs": [
    {
     "data": {
      "text/plain": [
       "200"
      ]
     },
     "execution_count": 67,
     "metadata": {},
     "output_type": "execute_result"
    }
   ],
   "source": [
    "x"
   ]
  },
  {
   "cell_type": "code",
   "execution_count": 68,
   "id": "bfbaaa98",
   "metadata": {},
   "outputs": [
    {
     "data": {
      "text/plain": [
       "200"
      ]
     },
     "execution_count": 68,
     "metadata": {},
     "output_type": "execute_result"
    }
   ],
   "source": [
    "y"
   ]
  },
  {
   "cell_type": "code",
   "execution_count": 69,
   "id": "e90f3a1b",
   "metadata": {},
   "outputs": [
    {
     "data": {
      "text/plain": [
       "200"
      ]
     },
     "execution_count": 69,
     "metadata": {},
     "output_type": "execute_result"
    }
   ],
   "source": [
    "z"
   ]
  },
  {
   "cell_type": "code",
   "execution_count": 70,
   "id": "70996b8b",
   "metadata": {},
   "outputs": [],
   "source": [
    "a=1\n",
    "b=2\n",
    "a,b=b,a"
   ]
  },
  {
   "cell_type": "code",
   "execution_count": 71,
   "id": "aacb8f48",
   "metadata": {},
   "outputs": [
    {
     "data": {
      "text/plain": [
       "2"
      ]
     },
     "execution_count": 71,
     "metadata": {},
     "output_type": "execute_result"
    }
   ],
   "source": [
    "a"
   ]
  },
  {
   "cell_type": "code",
   "execution_count": 72,
   "id": "f12a8fe8",
   "metadata": {},
   "outputs": [
    {
     "data": {
      "text/plain": [
       "1"
      ]
     },
     "execution_count": 72,
     "metadata": {},
     "output_type": "execute_result"
    }
   ],
   "source": [
    "b"
   ]
  },
  {
   "cell_type": "code",
   "execution_count": 73,
   "id": "39c40a40",
   "metadata": {},
   "outputs": [],
   "source": [
    "s1=\"Emmanuel\"\n",
    "s2=\" Mitra\""
   ]
  },
  {
   "cell_type": "code",
   "execution_count": 74,
   "id": "e35aa05a",
   "metadata": {},
   "outputs": [
    {
     "data": {
      "text/plain": [
       "'Emmanuel Mitra'"
      ]
     },
     "execution_count": 74,
     "metadata": {},
     "output_type": "execute_result"
    }
   ],
   "source": [
    "w=s1+s2\n",
    "w"
   ]
  },
  {
   "cell_type": "code",
   "execution_count": 75,
   "id": "3439dd03",
   "metadata": {},
   "outputs": [],
   "source": [
    "a=1\n",
    "b=2\n",
    "a,b=b,a"
   ]
  },
  {
   "cell_type": "code",
   "execution_count": 76,
   "id": "6152f71d",
   "metadata": {},
   "outputs": [
    {
     "data": {
      "text/plain": [
       "2"
      ]
     },
     "execution_count": 76,
     "metadata": {},
     "output_type": "execute_result"
    }
   ],
   "source": [
    "a"
   ]
  },
  {
   "cell_type": "code",
   "execution_count": 77,
   "id": "917aad18",
   "metadata": {},
   "outputs": [
    {
     "data": {
      "text/plain": [
       "1"
      ]
     },
     "execution_count": 77,
     "metadata": {},
     "output_type": "execute_result"
    }
   ],
   "source": [
    "b"
   ]
  },
  {
   "cell_type": "code",
   "execution_count": 78,
   "id": "358e8759",
   "metadata": {},
   "outputs": [],
   "source": [
    "x,y=1,300\n",
    "x,y=y,x"
   ]
  },
  {
   "cell_type": "code",
   "execution_count": 79,
   "id": "0b13052f",
   "metadata": {},
   "outputs": [
    {
     "data": {
      "text/plain": [
       "300"
      ]
     },
     "execution_count": 79,
     "metadata": {},
     "output_type": "execute_result"
    }
   ],
   "source": [
    "x"
   ]
  },
  {
   "cell_type": "code",
   "execution_count": 80,
   "id": "a8b78c5f",
   "metadata": {},
   "outputs": [
    {
     "data": {
      "text/plain": [
       "1"
      ]
     },
     "execution_count": 80,
     "metadata": {},
     "output_type": "execute_result"
    }
   ],
   "source": [
    "y"
   ]
  },
  {
   "cell_type": "code",
   "execution_count": 81,
   "id": "14349a74",
   "metadata": {},
   "outputs": [
    {
     "data": {
      "text/plain": [
       "120"
      ]
     },
     "execution_count": 81,
     "metadata": {},
     "output_type": "execute_result"
    }
   ],
   "source": [
    "a=100\n",
    "b=20\n",
    "a+b"
   ]
  },
  {
   "cell_type": "code",
   "execution_count": 82,
   "id": "e33095e8",
   "metadata": {},
   "outputs": [
    {
     "data": {
      "text/plain": [
       "80"
      ]
     },
     "execution_count": 82,
     "metadata": {},
     "output_type": "execute_result"
    }
   ],
   "source": [
    "a-b"
   ]
  },
  {
   "cell_type": "code",
   "execution_count": 83,
   "id": "253395f8",
   "metadata": {},
   "outputs": [
    {
     "data": {
      "text/plain": [
       "-80"
      ]
     },
     "execution_count": 83,
     "metadata": {},
     "output_type": "execute_result"
    }
   ],
   "source": [
    "b-a"
   ]
  },
  {
   "cell_type": "code",
   "execution_count": 84,
   "id": "1513d048",
   "metadata": {},
   "outputs": [],
   "source": [
    "x=3"
   ]
  },
  {
   "cell_type": "code",
   "execution_count": 85,
   "id": "5120fe03",
   "metadata": {},
   "outputs": [],
   "source": [
    "x+=4"
   ]
  },
  {
   "cell_type": "code",
   "execution_count": 86,
   "id": "62bdce0a",
   "metadata": {},
   "outputs": [
    {
     "data": {
      "text/plain": [
       "7"
      ]
     },
     "execution_count": 86,
     "metadata": {},
     "output_type": "execute_result"
    }
   ],
   "source": [
    "x"
   ]
  },
  {
   "cell_type": "code",
   "execution_count": 87,
   "id": "9fe01aa7",
   "metadata": {},
   "outputs": [
    {
     "data": {
      "text/plain": [
       "3"
      ]
     },
     "execution_count": 87,
     "metadata": {},
     "output_type": "execute_result"
    }
   ],
   "source": [
    "x=0\n",
    "x+=3\n",
    "x"
   ]
  },
  {
   "cell_type": "code",
   "execution_count": 88,
   "id": "f5a7c3d9",
   "metadata": {},
   "outputs": [],
   "source": [
    "x=\"360DigitMg\""
   ]
  },
  {
   "cell_type": "code",
   "execution_count": 89,
   "id": "b0bba216",
   "metadata": {},
   "outputs": [
    {
     "data": {
      "text/plain": [
       "'360DigitMg'"
      ]
     },
     "execution_count": 89,
     "metadata": {},
     "output_type": "execute_result"
    }
   ],
   "source": [
    "x"
   ]
  },
  {
   "cell_type": "code",
   "execution_count": 90,
   "id": "129a2c68",
   "metadata": {},
   "outputs": [
    {
     "data": {
      "text/plain": [
       "'g'"
      ]
     },
     "execution_count": 90,
     "metadata": {},
     "output_type": "execute_result"
    }
   ],
   "source": [
    "x[9]"
   ]
  },
  {
   "cell_type": "code",
   "execution_count": 91,
   "id": "94f019fb",
   "metadata": {},
   "outputs": [
    {
     "data": {
      "text/plain": [
       "5"
      ]
     },
     "execution_count": 91,
     "metadata": {},
     "output_type": "execute_result"
    }
   ],
   "source": [
    "x.index('g')"
   ]
  },
  {
   "cell_type": "code",
   "execution_count": 92,
   "id": "667e5630",
   "metadata": {},
   "outputs": [
    {
     "data": {
      "text/plain": [
       "1"
      ]
     },
     "execution_count": 92,
     "metadata": {},
     "output_type": "execute_result"
    }
   ],
   "source": [
    "x.index('6')"
   ]
  },
  {
   "cell_type": "code",
   "execution_count": 93,
   "id": "d03e0a1d",
   "metadata": {},
   "outputs": [
    {
     "data": {
      "text/plain": [
       "2"
      ]
     },
     "execution_count": 93,
     "metadata": {},
     "output_type": "execute_result"
    }
   ],
   "source": [
    "x.index('0')"
   ]
  },
  {
   "cell_type": "code",
   "execution_count": 94,
   "id": "21713035",
   "metadata": {},
   "outputs": [
    {
     "data": {
      "text/plain": [
       "4"
      ]
     },
     "execution_count": 94,
     "metadata": {},
     "output_type": "execute_result"
    }
   ],
   "source": [
    "x.index('i')"
   ]
  },
  {
   "cell_type": "markdown",
   "id": "a478bbcd",
   "metadata": {},
   "source": [
    "# what are the rule for assigning the valuables\n",
    "1. should be start with numbers or special characters except'\n",
    "2.cannot use space\n",
    "3.prefer using small letters\n",
    "4.avoid using words have special meaning in python like ,list, python, def, lambda."
   ]
  },
  {
   "cell_type": "code",
   "execution_count": 95,
   "id": "45aebce9",
   "metadata": {},
   "outputs": [],
   "source": [
    "a=\"India\""
   ]
  },
  {
   "cell_type": "code",
   "execution_count": 96,
   "id": "fc2c26bd",
   "metadata": {},
   "outputs": [
    {
     "data": {
      "text/plain": [
       "'nd'"
      ]
     },
     "execution_count": 96,
     "metadata": {},
     "output_type": "execute_result"
    }
   ],
   "source": [
    "a[1:3]"
   ]
  },
  {
   "cell_type": "code",
   "execution_count": 97,
   "id": "295ceb8b",
   "metadata": {},
   "outputs": [
    {
     "data": {
      "text/plain": [
       "'INDIA'"
      ]
     },
     "execution_count": 97,
     "metadata": {},
     "output_type": "execute_result"
    }
   ],
   "source": [
    "a.upper()"
   ]
  },
  {
   "cell_type": "code",
   "execution_count": 98,
   "id": "abaee989",
   "metadata": {},
   "outputs": [
    {
     "data": {
      "text/plain": [
       "'india'"
      ]
     },
     "execution_count": 98,
     "metadata": {},
     "output_type": "execute_result"
    }
   ],
   "source": [
    "a.lower()"
   ]
  },
  {
   "cell_type": "code",
   "execution_count": 99,
   "id": "e4de7718",
   "metadata": {},
   "outputs": [
    {
     "data": {
      "text/plain": [
       "'India'"
      ]
     },
     "execution_count": 99,
     "metadata": {},
     "output_type": "execute_result"
    }
   ],
   "source": [
    "a.capitalize()"
   ]
  },
  {
   "cell_type": "code",
   "execution_count": 100,
   "id": "0c57e04f",
   "metadata": {},
   "outputs": [],
   "source": [
    "a=\"India is a country with @ mutliple religions @ therefore it is secular\""
   ]
  },
  {
   "cell_type": "code",
   "execution_count": 101,
   "id": "99a53acc",
   "metadata": {},
   "outputs": [
    {
     "data": {
      "text/plain": [
       "['India is a country with ',\n",
       " ' mutliple religions ',\n",
       " ' therefore it is secular']"
      ]
     },
     "execution_count": 101,
     "metadata": {},
     "output_type": "execute_result"
    }
   ],
   "source": [
    "a.split('@')"
   ]
  },
  {
   "cell_type": "code",
   "execution_count": 102,
   "id": "14041e32",
   "metadata": {},
   "outputs": [
    {
     "data": {
      "text/plain": [
       "'India is a country with @ mutliple religions @ therefore it is secular'"
      ]
     },
     "execution_count": 102,
     "metadata": {},
     "output_type": "execute_result"
    }
   ],
   "source": [
    "a"
   ]
  },
  {
   "cell_type": "code",
   "execution_count": 103,
   "id": "49a25e0f",
   "metadata": {},
   "outputs": [
    {
     "data": {
      "text/plain": [
       "['India is a country with ',\n",
       " ' mutliple religions ',\n",
       " ' therefore it is secular']"
      ]
     },
     "execution_count": 103,
     "metadata": {},
     "output_type": "execute_result"
    }
   ],
   "source": [
    "x=a.split('@')\n",
    "x"
   ]
  },
  {
   "cell_type": "code",
   "execution_count": 104,
   "id": "3d159ba3",
   "metadata": {},
   "outputs": [],
   "source": [
    "states='kar & maha & kerala & UP & MP'"
   ]
  },
  {
   "cell_type": "code",
   "execution_count": 105,
   "id": "504553bb",
   "metadata": {},
   "outputs": [
    {
     "data": {
      "text/plain": [
       "['kar ', ' maha ', ' kerala ', ' UP ', ' MP']"
      ]
     },
     "execution_count": 105,
     "metadata": {},
     "output_type": "execute_result"
    }
   ],
   "source": [
    "states.split('&')"
   ]
  },
  {
   "cell_type": "code",
   "execution_count": 106,
   "id": "fb701a6c",
   "metadata": {},
   "outputs": [],
   "source": [
    "l=[1,2,3,4,5,6]"
   ]
  },
  {
   "cell_type": "code",
   "execution_count": 107,
   "id": "d40b15ca",
   "metadata": {},
   "outputs": [
    {
     "data": {
      "text/plain": [
       "list"
      ]
     },
     "execution_count": 107,
     "metadata": {},
     "output_type": "execute_result"
    }
   ],
   "source": [
    "type(l)"
   ]
  },
  {
   "cell_type": "code",
   "execution_count": 108,
   "id": "de141a76",
   "metadata": {},
   "outputs": [],
   "source": [
    "l1=[1,2,'suraj','India',2+3j,True,False,2.6]"
   ]
  },
  {
   "cell_type": "code",
   "execution_count": 109,
   "id": "76350c69",
   "metadata": {},
   "outputs": [
    {
     "data": {
      "text/plain": [
       "[1, 2, 'suraj', 'India', (2+3j), True, False, 2.6]"
      ]
     },
     "execution_count": 109,
     "metadata": {},
     "output_type": "execute_result"
    }
   ],
   "source": [
    "l1"
   ]
  },
  {
   "cell_type": "code",
   "execution_count": 110,
   "id": "aa4a0298",
   "metadata": {},
   "outputs": [
    {
     "data": {
      "text/plain": [
       "list"
      ]
     },
     "execution_count": 110,
     "metadata": {},
     "output_type": "execute_result"
    }
   ],
   "source": [
    "type(l1)"
   ]
  },
  {
   "cell_type": "code",
   "execution_count": 111,
   "id": "445a1f0b",
   "metadata": {},
   "outputs": [
    {
     "data": {
      "text/plain": [
       "['suraj', 'India']"
      ]
     },
     "execution_count": 111,
     "metadata": {},
     "output_type": "execute_result"
    }
   ],
   "source": [
    "l1[2:4]"
   ]
  },
  {
   "cell_type": "code",
   "execution_count": 112,
   "id": "7303483a",
   "metadata": {},
   "outputs": [
    {
     "data": {
      "text/plain": [
       "2.6"
      ]
     },
     "execution_count": 112,
     "metadata": {},
     "output_type": "execute_result"
    }
   ],
   "source": [
    "l1[-1]"
   ]
  },
  {
   "cell_type": "markdown",
   "id": "37f7fcb6",
   "metadata": {},
   "source": [
    "# operations on list"
   ]
  },
  {
   "cell_type": "code",
   "execution_count": 113,
   "id": "6ff5647f",
   "metadata": {},
   "outputs": [],
   "source": [
    "l=[1,2,3,4,5]"
   ]
  },
  {
   "cell_type": "code",
   "execution_count": 114,
   "id": "b818d4c6",
   "metadata": {},
   "outputs": [],
   "source": [
    "l.append(2999)"
   ]
  },
  {
   "cell_type": "code",
   "execution_count": 115,
   "id": "12333b69",
   "metadata": {},
   "outputs": [
    {
     "data": {
      "text/plain": [
       "[1, 2, 3, 4, 5, 2999]"
      ]
     },
     "execution_count": 115,
     "metadata": {},
     "output_type": "execute_result"
    }
   ],
   "source": [
    "l"
   ]
  },
  {
   "cell_type": "code",
   "execution_count": 116,
   "id": "f454703c",
   "metadata": {},
   "outputs": [],
   "source": [
    "l.append(\"Mumbai\")"
   ]
  },
  {
   "cell_type": "code",
   "execution_count": 117,
   "id": "7803189c",
   "metadata": {},
   "outputs": [
    {
     "data": {
      "text/plain": [
       "[1, 2, 3, 4, 5, 2999, 'Mumbai']"
      ]
     },
     "execution_count": 117,
     "metadata": {},
     "output_type": "execute_result"
    }
   ],
   "source": [
    "l"
   ]
  },
  {
   "cell_type": "code",
   "execution_count": 118,
   "id": "f9572f4d",
   "metadata": {},
   "outputs": [],
   "source": [
    "l1=[1,2,3,4,5]\n",
    "l2=['suraj','superhero','ironman','superman']\n"
   ]
  },
  {
   "cell_type": "code",
   "execution_count": 119,
   "id": "09a0385f",
   "metadata": {},
   "outputs": [],
   "source": [
    "l1.append(l2)"
   ]
  },
  {
   "cell_type": "code",
   "execution_count": 120,
   "id": "f81999b0",
   "metadata": {},
   "outputs": [
    {
     "data": {
      "text/plain": [
       "[1, 2, 3, 4, 5, ['suraj', 'superhero', 'ironman', 'superman']]"
      ]
     },
     "execution_count": 120,
     "metadata": {},
     "output_type": "execute_result"
    }
   ],
   "source": [
    "l1"
   ]
  },
  {
   "cell_type": "code",
   "execution_count": 121,
   "id": "fa98aa6a",
   "metadata": {},
   "outputs": [
    {
     "data": {
      "text/plain": [
       "2"
      ]
     },
     "execution_count": 121,
     "metadata": {},
     "output_type": "execute_result"
    }
   ],
   "source": [
    "l1[1]"
   ]
  },
  {
   "cell_type": "code",
   "execution_count": 122,
   "id": "c6f73e55",
   "metadata": {},
   "outputs": [],
   "source": [
    "l1=[1,2,3,4,5]\n",
    "l2=['suraj','superhero','ironman','superman']"
   ]
  },
  {
   "cell_type": "code",
   "execution_count": 123,
   "id": "b74db7bd",
   "metadata": {},
   "outputs": [],
   "source": [
    "l1.extend(l2)"
   ]
  },
  {
   "cell_type": "code",
   "execution_count": 124,
   "id": "98818298",
   "metadata": {},
   "outputs": [
    {
     "data": {
      "text/plain": [
       "[1, 2, 3, 4, 5, 'suraj', 'superhero', 'ironman', 'superman']"
      ]
     },
     "execution_count": 124,
     "metadata": {},
     "output_type": "execute_result"
    }
   ],
   "source": [
    "l1"
   ]
  },
  {
   "cell_type": "code",
   "execution_count": 125,
   "id": "4031f1bd",
   "metadata": {},
   "outputs": [],
   "source": [
    "e=[1,3,2,5,4,6]\n",
    "e.insert(1,'suraj')"
   ]
  },
  {
   "cell_type": "code",
   "execution_count": 126,
   "id": "a2ef656a",
   "metadata": {},
   "outputs": [
    {
     "data": {
      "text/plain": [
       "[1, 'suraj', 3, 2, 5, 4, 6]"
      ]
     },
     "execution_count": 126,
     "metadata": {},
     "output_type": "execute_result"
    }
   ],
   "source": [
    "e"
   ]
  },
  {
   "cell_type": "code",
   "execution_count": 127,
   "id": "081a3805",
   "metadata": {},
   "outputs": [
    {
     "data": {
      "text/plain": [
       "['india', 1, 'suraj', 3, 2, 5, 4, 6]"
      ]
     },
     "execution_count": 127,
     "metadata": {},
     "output_type": "execute_result"
    }
   ],
   "source": [
    "e.insert(0,'india')\n",
    "e"
   ]
  },
  {
   "cell_type": "code",
   "execution_count": 128,
   "id": "2dc35b1f",
   "metadata": {},
   "outputs": [],
   "source": [
    "e.insert(-2,'hi')"
   ]
  },
  {
   "cell_type": "code",
   "execution_count": 129,
   "id": "7e9eb2b1",
   "metadata": {},
   "outputs": [
    {
     "data": {
      "text/plain": [
       "['india', 1, 'suraj', 3, 2, 5, 'hi', 4, 6]"
      ]
     },
     "execution_count": 129,
     "metadata": {},
     "output_type": "execute_result"
    }
   ],
   "source": [
    "e"
   ]
  },
  {
   "cell_type": "code",
   "execution_count": 130,
   "id": "1b91ebff",
   "metadata": {},
   "outputs": [
    {
     "data": {
      "text/plain": [
       "['india', 1, 'suraj', 3, 2, 5, 'hi', 4, 6, '360DigitMg']"
      ]
     },
     "execution_count": 130,
     "metadata": {},
     "output_type": "execute_result"
    }
   ],
   "source": [
    "e.insert(9,\"360DigitMg\")\n",
    "e"
   ]
  },
  {
   "cell_type": "code",
   "execution_count": 131,
   "id": "057c9dc4",
   "metadata": {},
   "outputs": [
    {
     "data": {
      "text/plain": [
       "['india', 1, 'suraj', 3, 2, 5, 'hi', 4, 6, '360DigitMg', 'suraj Veggalam']"
      ]
     },
     "execution_count": 131,
     "metadata": {},
     "output_type": "execute_result"
    }
   ],
   "source": [
    "e.insert(11,\"suraj Veggalam\")\n",
    "e"
   ]
  },
  {
   "cell_type": "code",
   "execution_count": 132,
   "id": "69cf8416",
   "metadata": {},
   "outputs": [],
   "source": [
    "l=[1,2,3,4,5,6,'name']"
   ]
  },
  {
   "cell_type": "code",
   "execution_count": 133,
   "id": "b9e82f6e",
   "metadata": {},
   "outputs": [],
   "source": [
    "l.remove('name')"
   ]
  },
  {
   "cell_type": "code",
   "execution_count": 134,
   "id": "3b8ae105",
   "metadata": {},
   "outputs": [
    {
     "data": {
      "text/plain": [
       "[1, 2, 3, 4, 5, 6]"
      ]
     },
     "execution_count": 134,
     "metadata": {},
     "output_type": "execute_result"
    }
   ],
   "source": [
    "l"
   ]
  },
  {
   "cell_type": "code",
   "execution_count": 135,
   "id": "6a259064",
   "metadata": {},
   "outputs": [],
   "source": [
    "l.remove(1)"
   ]
  },
  {
   "cell_type": "code",
   "execution_count": 136,
   "id": "9ae40cd4",
   "metadata": {},
   "outputs": [
    {
     "data": {
      "text/plain": [
       "[2, 3, 4, 5, 6]"
      ]
     },
     "execution_count": 136,
     "metadata": {},
     "output_type": "execute_result"
    }
   ],
   "source": [
    "l"
   ]
  },
  {
   "cell_type": "code",
   "execution_count": 137,
   "id": "579d9821",
   "metadata": {},
   "outputs": [],
   "source": [
    "l=['guj','tel','mah','madh']"
   ]
  },
  {
   "cell_type": "code",
   "execution_count": 138,
   "id": "82a99c69",
   "metadata": {},
   "outputs": [
    {
     "data": {
      "text/plain": [
       "'madh'"
      ]
     },
     "execution_count": 138,
     "metadata": {},
     "output_type": "execute_result"
    }
   ],
   "source": [
    "l.pop()"
   ]
  },
  {
   "cell_type": "code",
   "execution_count": 139,
   "id": "06525676",
   "metadata": {},
   "outputs": [
    {
     "data": {
      "text/plain": [
       "'guj'"
      ]
     },
     "execution_count": 139,
     "metadata": {},
     "output_type": "execute_result"
    }
   ],
   "source": [
    "l.pop(0)"
   ]
  },
  {
   "cell_type": "code",
   "execution_count": 140,
   "id": "a8bc736a",
   "metadata": {},
   "outputs": [
    {
     "data": {
      "text/plain": [
       "['__add__',\n",
       " '__class__',\n",
       " '__class_getitem__',\n",
       " '__contains__',\n",
       " '__delattr__',\n",
       " '__delitem__',\n",
       " '__dir__',\n",
       " '__doc__',\n",
       " '__eq__',\n",
       " '__format__',\n",
       " '__ge__',\n",
       " '__getattribute__',\n",
       " '__getitem__',\n",
       " '__gt__',\n",
       " '__hash__',\n",
       " '__iadd__',\n",
       " '__imul__',\n",
       " '__init__',\n",
       " '__init_subclass__',\n",
       " '__iter__',\n",
       " '__le__',\n",
       " '__len__',\n",
       " '__lt__',\n",
       " '__mul__',\n",
       " '__ne__',\n",
       " '__new__',\n",
       " '__reduce__',\n",
       " '__reduce_ex__',\n",
       " '__repr__',\n",
       " '__reversed__',\n",
       " '__rmul__',\n",
       " '__setattr__',\n",
       " '__setitem__',\n",
       " '__sizeof__',\n",
       " '__str__',\n",
       " '__subclasshook__',\n",
       " 'append',\n",
       " 'clear',\n",
       " 'copy',\n",
       " 'count',\n",
       " 'extend',\n",
       " 'index',\n",
       " 'insert',\n",
       " 'pop',\n",
       " 'remove',\n",
       " 'reverse',\n",
       " 'sort']"
      ]
     },
     "execution_count": 140,
     "metadata": {},
     "output_type": "execute_result"
    }
   ],
   "source": [
    "dir(list)"
   ]
  },
  {
   "cell_type": "code",
   "execution_count": 141,
   "id": "e114f40f",
   "metadata": {},
   "outputs": [],
   "source": [
    "l.reverse()"
   ]
  },
  {
   "cell_type": "code",
   "execution_count": 142,
   "id": "4d1e318a",
   "metadata": {},
   "outputs": [
    {
     "data": {
      "text/plain": [
       "['mah', 'tel']"
      ]
     },
     "execution_count": 142,
     "metadata": {},
     "output_type": "execute_result"
    }
   ],
   "source": [
    "l"
   ]
  },
  {
   "cell_type": "code",
   "execution_count": 144,
   "id": "c6e5d361",
   "metadata": {},
   "outputs": [
    {
     "data": {
      "text/plain": [
       "[6, 7, 4, 5, 3, 1, 2]"
      ]
     },
     "execution_count": 144,
     "metadata": {},
     "output_type": "execute_result"
    }
   ],
   "source": [
    "l=[2,1,3,5,4,7,6]\n",
    "l.reverse()\n",
    "l\n"
   ]
  },
  {
   "cell_type": "code",
   "execution_count": 145,
   "id": "77d11631",
   "metadata": {},
   "outputs": [
    {
     "data": {
      "text/plain": [
       "[6, 7, 4, 5, 3, 1, 2]"
      ]
     },
     "execution_count": 145,
     "metadata": {},
     "output_type": "execute_result"
    }
   ],
   "source": [
    "x=l.copy()\n",
    "x"
   ]
  },
  {
   "cell_type": "code",
   "execution_count": 148,
   "id": "44afad84",
   "metadata": {},
   "outputs": [],
   "source": [
    "x.sort()"
   ]
  },
  {
   "cell_type": "code",
   "execution_count": 149,
   "id": "fd75adce",
   "metadata": {},
   "outputs": [
    {
     "data": {
      "text/plain": [
       "[1, 2, 3, 4, 5, 6, 7]"
      ]
     },
     "execution_count": 149,
     "metadata": {},
     "output_type": "execute_result"
    }
   ],
   "source": [
    "x"
   ]
  },
  {
   "cell_type": "code",
   "execution_count": 150,
   "id": "9d464e9a",
   "metadata": {},
   "outputs": [
    {
     "data": {
      "text/plain": [
       "['ironman', 'superman', 'suraj']"
      ]
     },
     "execution_count": 150,
     "metadata": {},
     "output_type": "execute_result"
    }
   ],
   "source": [
    "l=['suraj','superman','ironman']\n",
    "l.reverse()\n",
    "l"
   ]
  },
  {
   "cell_type": "code",
   "execution_count": 151,
   "id": "b2bd97dd",
   "metadata": {},
   "outputs": [
    {
     "data": {
      "text/plain": [
       "['ironman', 'superman', 'suraj']"
      ]
     },
     "execution_count": 151,
     "metadata": {},
     "output_type": "execute_result"
    }
   ],
   "source": [
    "x=l.copy()\n",
    "x"
   ]
  },
  {
   "cell_type": "code",
   "execution_count": 152,
   "id": "b7bcca09",
   "metadata": {},
   "outputs": [
    {
     "name": "stdout",
     "output_type": "stream",
     "text": [
      "['ironman', 'superman', 'suraj'] ['ironman', 'superman', 'suraj']\n"
     ]
    }
   ],
   "source": [
    "print(l,x)"
   ]
  },
  {
   "cell_type": "code",
   "execution_count": 154,
   "id": "082fc44f",
   "metadata": {},
   "outputs": [
    {
     "data": {
      "text/plain": [
       "2"
      ]
     },
     "execution_count": 154,
     "metadata": {},
     "output_type": "execute_result"
    }
   ],
   "source": [
    "l=[1,1,2,2,2,2,2,5,5]\n",
    "l.count(1)\n"
   ]
  },
  {
   "cell_type": "code",
   "execution_count": 155,
   "id": "204e9cda",
   "metadata": {},
   "outputs": [
    {
     "data": {
      "text/plain": [
       "5"
      ]
     },
     "execution_count": 155,
     "metadata": {},
     "output_type": "execute_result"
    }
   ],
   "source": [
    "l.count(2)\n"
   ]
  },
  {
   "cell_type": "code",
   "execution_count": 156,
   "id": "718a70ce",
   "metadata": {},
   "outputs": [
    {
     "data": {
      "text/plain": [
       "2"
      ]
     },
     "execution_count": 156,
     "metadata": {},
     "output_type": "execute_result"
    }
   ],
   "source": [
    "l.count(5)"
   ]
  },
  {
   "cell_type": "code",
   "execution_count": 157,
   "id": "9729b8dd",
   "metadata": {},
   "outputs": [
    {
     "data": {
      "text/plain": [
       "['suraj yadagiri veggalam']"
      ]
     },
     "execution_count": 157,
     "metadata": {},
     "output_type": "execute_result"
    }
   ],
   "source": [
    "l=['suraj yadagiri veggalam']\n",
    "l"
   ]
  },
  {
   "cell_type": "code",
   "execution_count": 158,
   "id": "cd037c59",
   "metadata": {},
   "outputs": [
    {
     "name": "stdout",
     "output_type": "stream",
     "text": [
      "['suraj yadagiri veggalam']\n"
     ]
    }
   ],
   "source": [
    "for i in l:\n",
    "    print(l)"
   ]
  },
  {
   "cell_type": "markdown",
   "id": "c3923602",
   "metadata": {},
   "source": [
    "# features of Tuples\n",
    "#1.Ordered\n",
    "#2.Immutable\n",
    "#3.()\n",
    "#4.Cannot be Changed\n",
    "#5.It can hold many types of data\n",
    "#6.Indexing is possible"
   ]
  },
  {
   "cell_type": "code",
   "execution_count": 159,
   "id": "24b35a63",
   "metadata": {},
   "outputs": [
    {
     "data": {
      "text/plain": [
       "('suraj', 'superman', 'thanos', 'blackwidow', 'doctor')"
      ]
     },
     "execution_count": 159,
     "metadata": {},
     "output_type": "execute_result"
    }
   ],
   "source": [
    "t=('suraj','superman','thanos','blackwidow','doctor')\n",
    "t"
   ]
  },
  {
   "cell_type": "code",
   "execution_count": 160,
   "id": "1dea8351",
   "metadata": {},
   "outputs": [
    {
     "data": {
      "text/plain": [
       "'thanos'"
      ]
     },
     "execution_count": 160,
     "metadata": {},
     "output_type": "execute_result"
    }
   ],
   "source": [
    "t[2]"
   ]
  },
  {
   "cell_type": "code",
   "execution_count": 161,
   "id": "0ce18200",
   "metadata": {},
   "outputs": [
    {
     "data": {
      "text/plain": [
       "'superman'"
      ]
     },
     "execution_count": 161,
     "metadata": {},
     "output_type": "execute_result"
    }
   ],
   "source": [
    "t[1]"
   ]
  },
  {
   "cell_type": "code",
   "execution_count": 162,
   "id": "637819ef",
   "metadata": {},
   "outputs": [],
   "source": [
    "l=[1,1,2,2,2,2,2,5,5]"
   ]
  },
  {
   "cell_type": "code",
   "execution_count": 163,
   "id": "d0fb8db1",
   "metadata": {},
   "outputs": [],
   "source": [
    "l[2]='suraj'"
   ]
  },
  {
   "cell_type": "code",
   "execution_count": 164,
   "id": "346fda46",
   "metadata": {},
   "outputs": [
    {
     "data": {
      "text/plain": [
       "[1, 1, 'suraj', 2, 2, 2, 2, 5, 5]"
      ]
     },
     "execution_count": 164,
     "metadata": {},
     "output_type": "execute_result"
    }
   ],
   "source": [
    "l"
   ]
  },
  {
   "cell_type": "code",
   "execution_count": 165,
   "id": "8e35b1b0",
   "metadata": {},
   "outputs": [
    {
     "data": {
      "text/plain": [
       "1"
      ]
     },
     "execution_count": 165,
     "metadata": {},
     "output_type": "execute_result"
    }
   ],
   "source": [
    "t.count('suraj')"
   ]
  },
  {
   "cell_type": "code",
   "execution_count": 166,
   "id": "22674f73",
   "metadata": {},
   "outputs": [],
   "source": [
    "r=(1,1,1,3,4,5)"
   ]
  },
  {
   "cell_type": "code",
   "execution_count": 167,
   "id": "cb761b59",
   "metadata": {},
   "outputs": [
    {
     "data": {
      "text/plain": [
       "tuple"
      ]
     },
     "execution_count": 167,
     "metadata": {},
     "output_type": "execute_result"
    }
   ],
   "source": [
    "type(r)"
   ]
  },
  {
   "cell_type": "markdown",
   "id": "3ecccf03",
   "metadata": {},
   "source": [
    "# 1.Unordered\n",
    "#2.Unindexed\n",
    "#3.{}\n",
    "#4.duplicates are not allowed\n",
    "#5.{keys: values}\n",
    "#6.Mutable"
   ]
  },
  {
   "cell_type": "code",
   "execution_count": 168,
   "id": "67aa4d23",
   "metadata": {},
   "outputs": [
    {
     "data": {
      "text/plain": [
       "{1: 'suraj', 2: 'veggalam'}"
      ]
     },
     "execution_count": 168,
     "metadata": {},
     "output_type": "execute_result"
    }
   ],
   "source": [
    "d={1:'suraj',2:'veggalam'}\n",
    "d"
   ]
  },
  {
   "cell_type": "code",
   "execution_count": 169,
   "id": "9433b32a",
   "metadata": {},
   "outputs": [
    {
     "data": {
      "text/plain": [
       "dict_items([(1, 'suraj'), (2, 'veggalam')])"
      ]
     },
     "execution_count": 169,
     "metadata": {},
     "output_type": "execute_result"
    }
   ],
   "source": [
    "d.items()"
   ]
  },
  {
   "cell_type": "code",
   "execution_count": 170,
   "id": "28d512e4",
   "metadata": {},
   "outputs": [
    {
     "data": {
      "text/plain": [
       "dict_keys([1, 2])"
      ]
     },
     "execution_count": 170,
     "metadata": {},
     "output_type": "execute_result"
    }
   ],
   "source": [
    "d.keys()"
   ]
  },
  {
   "cell_type": "code",
   "execution_count": 171,
   "id": "520a5a7f",
   "metadata": {},
   "outputs": [
    {
     "data": {
      "text/plain": [
       "dict_values(['suraj', 'veggalam'])"
      ]
     },
     "execution_count": 171,
     "metadata": {},
     "output_type": "execute_result"
    }
   ],
   "source": [
    "d.values()"
   ]
  },
  {
   "cell_type": "code",
   "execution_count": 172,
   "id": "fc389cba",
   "metadata": {},
   "outputs": [],
   "source": [
    "d1={'names':'suraj','age':20,'coursename':'Datascientist'}"
   ]
  },
  {
   "cell_type": "code",
   "execution_count": 173,
   "id": "e5ab3e23",
   "metadata": {},
   "outputs": [
    {
     "data": {
      "text/plain": [
       "dict_items([('names', 'suraj'), ('age', 20), ('coursename', 'Datascientist')])"
      ]
     },
     "execution_count": 173,
     "metadata": {},
     "output_type": "execute_result"
    }
   ],
   "source": [
    "d1.items()"
   ]
  },
  {
   "cell_type": "code",
   "execution_count": 174,
   "id": "11f6f3a8",
   "metadata": {},
   "outputs": [
    {
     "data": {
      "text/plain": [
       "dict_keys(['names', 'age', 'coursename'])"
      ]
     },
     "execution_count": 174,
     "metadata": {},
     "output_type": "execute_result"
    }
   ],
   "source": [
    "d1.keys()"
   ]
  },
  {
   "cell_type": "code",
   "execution_count": 175,
   "id": "4b96c3f0",
   "metadata": {},
   "outputs": [
    {
     "data": {
      "text/plain": [
       "dict_values(['suraj', 20, 'Datascientist'])"
      ]
     },
     "execution_count": 175,
     "metadata": {},
     "output_type": "execute_result"
    }
   ],
   "source": [
    "d1.values()"
   ]
  },
  {
   "cell_type": "code",
   "execution_count": 176,
   "id": "e0826aae",
   "metadata": {},
   "outputs": [],
   "source": [
    "d1['names']='kiran'"
   ]
  },
  {
   "cell_type": "code",
   "execution_count": 177,
   "id": "465db5d6",
   "metadata": {},
   "outputs": [
    {
     "data": {
      "text/plain": [
       "{'names': 'kiran', 'age': 20, 'coursename': 'Datascientist'}"
      ]
     },
     "execution_count": 177,
     "metadata": {},
     "output_type": "execute_result"
    }
   ],
   "source": [
    "d1"
   ]
  },
  {
   "cell_type": "code",
   "execution_count": 178,
   "id": "0c16abec",
   "metadata": {},
   "outputs": [],
   "source": [
    "d1['age']=30"
   ]
  },
  {
   "cell_type": "code",
   "execution_count": 179,
   "id": "2e08a146",
   "metadata": {},
   "outputs": [
    {
     "data": {
      "text/plain": [
       "{'names': 'kiran', 'age': 30, 'coursename': 'Datascientist'}"
      ]
     },
     "execution_count": 179,
     "metadata": {},
     "output_type": "execute_result"
    }
   ],
   "source": [
    "d1"
   ]
  },
  {
   "cell_type": "code",
   "execution_count": 180,
   "id": "a19222ba",
   "metadata": {},
   "outputs": [],
   "source": [
    "d2={'name':'superman','planet':'earth','age':'50'}"
   ]
  },
  {
   "cell_type": "code",
   "execution_count": 181,
   "id": "82b1454f",
   "metadata": {},
   "outputs": [
    {
     "data": {
      "text/plain": [
       "dict_items([('name', 'superman'), ('planet', 'earth'), ('age', '50')])"
      ]
     },
     "execution_count": 181,
     "metadata": {},
     "output_type": "execute_result"
    }
   ],
   "source": [
    "d2.items()"
   ]
  },
  {
   "cell_type": "code",
   "execution_count": 182,
   "id": "d0de62b3",
   "metadata": {},
   "outputs": [
    {
     "data": {
      "text/plain": [
       "dict_keys(['name', 'planet', 'age'])"
      ]
     },
     "execution_count": 182,
     "metadata": {},
     "output_type": "execute_result"
    }
   ],
   "source": [
    "d2.keys()"
   ]
  },
  {
   "cell_type": "code",
   "execution_count": 183,
   "id": "ec5fab16",
   "metadata": {},
   "outputs": [
    {
     "data": {
      "text/plain": [
       "dict_values(['superman', 'earth', '50'])"
      ]
     },
     "execution_count": 183,
     "metadata": {},
     "output_type": "execute_result"
    }
   ],
   "source": [
    "d2.values()"
   ]
  },
  {
   "cell_type": "code",
   "execution_count": 184,
   "id": "5e3f0566",
   "metadata": {},
   "outputs": [
    {
     "name": "stdout",
     "output_type": "stream",
     "text": [
      "<class 'dict'>\n"
     ]
    }
   ],
   "source": [
    "print(type(d2))"
   ]
  },
  {
   "cell_type": "code",
   "execution_count": 185,
   "id": "55540171",
   "metadata": {},
   "outputs": [
    {
     "data": {
      "text/plain": [
       "dict_items([('name', 'superman'), ('planet', 'earth'), ('age', '50')])"
      ]
     },
     "execution_count": 185,
     "metadata": {},
     "output_type": "execute_result"
    }
   ],
   "source": [
    "d2.items()"
   ]
  },
  {
   "cell_type": "code",
   "execution_count": 186,
   "id": "58079dc7",
   "metadata": {},
   "outputs": [
    {
     "data": {
      "text/plain": [
       "dict_keys(['name', 'planet', 'age'])"
      ]
     },
     "execution_count": 186,
     "metadata": {},
     "output_type": "execute_result"
    }
   ],
   "source": [
    "d2.keys()"
   ]
  },
  {
   "cell_type": "code",
   "execution_count": 187,
   "id": "90fa643c",
   "metadata": {},
   "outputs": [
    {
     "data": {
      "text/plain": [
       "dict_values(['superman', 'earth', '50'])"
      ]
     },
     "execution_count": 187,
     "metadata": {},
     "output_type": "execute_result"
    }
   ],
   "source": [
    "d2.values()"
   ]
  },
  {
   "cell_type": "code",
   "execution_count": 188,
   "id": "e61bb26e",
   "metadata": {},
   "outputs": [],
   "source": [
    "d2={'names' :['superman','ironman'], 'planet':['earth','jupiter'], 'age':['50','40']}"
   ]
  },
  {
   "cell_type": "code",
   "execution_count": 189,
   "id": "f3293af3",
   "metadata": {},
   "outputs": [
    {
     "data": {
      "text/plain": [
       "dict_items([('names', ['superman', 'ironman']), ('planet', ['earth', 'jupiter']), ('age', ['50', '40'])])"
      ]
     },
     "execution_count": 189,
     "metadata": {},
     "output_type": "execute_result"
    }
   ],
   "source": [
    "d2.items()"
   ]
  },
  {
   "cell_type": "code",
   "execution_count": 190,
   "id": "12b6e088",
   "metadata": {},
   "outputs": [
    {
     "data": {
      "text/plain": [
       "dict_keys(['names', 'planet', 'age'])"
      ]
     },
     "execution_count": 190,
     "metadata": {},
     "output_type": "execute_result"
    }
   ],
   "source": [
    "d2.keys()"
   ]
  },
  {
   "cell_type": "code",
   "execution_count": 191,
   "id": "241180db",
   "metadata": {},
   "outputs": [
    {
     "data": {
      "text/plain": [
       "dict_values([['superman', 'ironman'], ['earth', 'jupiter'], ['50', '40']])"
      ]
     },
     "execution_count": 191,
     "metadata": {},
     "output_type": "execute_result"
    }
   ],
   "source": [
    "d2.values()"
   ]
  },
  {
   "cell_type": "code",
   "execution_count": 192,
   "id": "e340516e",
   "metadata": {},
   "outputs": [
    {
     "data": {
      "text/plain": [
       "['superman', 'ironman']"
      ]
     },
     "execution_count": 192,
     "metadata": {},
     "output_type": "execute_result"
    }
   ],
   "source": [
    "d2['names']"
   ]
  },
  {
   "cell_type": "code",
   "execution_count": 193,
   "id": "ee230271",
   "metadata": {},
   "outputs": [
    {
     "data": {
      "text/plain": [
       "['50', '40']"
      ]
     },
     "execution_count": 193,
     "metadata": {},
     "output_type": "execute_result"
    }
   ],
   "source": [
    "d2['age']"
   ]
  },
  {
   "cell_type": "code",
   "execution_count": 194,
   "id": "3e994f68",
   "metadata": {},
   "outputs": [
    {
     "data": {
      "text/plain": [
       "['earth', 'jupiter']"
      ]
     },
     "execution_count": 194,
     "metadata": {},
     "output_type": "execute_result"
    }
   ],
   "source": [
    "d2['planet']"
   ]
  },
  {
   "cell_type": "code",
   "execution_count": 195,
   "id": "474a2aba",
   "metadata": {},
   "outputs": [
    {
     "data": {
      "text/plain": [
       "'ironman'"
      ]
     },
     "execution_count": 195,
     "metadata": {},
     "output_type": "execute_result"
    }
   ],
   "source": [
    "d2['names'][1]"
   ]
  },
  {
   "cell_type": "code",
   "execution_count": 196,
   "id": "ea54e0df",
   "metadata": {},
   "outputs": [
    {
     "data": {
      "text/plain": [
       "'jupiter'"
      ]
     },
     "execution_count": 196,
     "metadata": {},
     "output_type": "execute_result"
    }
   ],
   "source": [
    "d2['planet'][1]"
   ]
  },
  {
   "cell_type": "code",
   "execution_count": 197,
   "id": "681a8789",
   "metadata": {},
   "outputs": [
    {
     "data": {
      "text/plain": [
       "'40'"
      ]
     },
     "execution_count": 197,
     "metadata": {},
     "output_type": "execute_result"
    }
   ],
   "source": [
    "d2['age'][1]"
   ]
  },
  {
   "cell_type": "markdown",
   "id": "0a29b1b1",
   "metadata": {},
   "source": [
    "# Features of sets\n",
    "#1.Unordered\n",
    "#2.contains unique elements\n",
    "#3.Duplication is not allowed\n",
    "#4.unindexed\n",
    "#5.Indexing is not possible"
   ]
  },
  {
   "cell_type": "code",
   "execution_count": 198,
   "id": "d9fa0f2e",
   "metadata": {},
   "outputs": [],
   "source": [
    "s={1,2,3,4,5}"
   ]
  },
  {
   "cell_type": "code",
   "execution_count": 199,
   "id": "d6d06f2c",
   "metadata": {},
   "outputs": [
    {
     "data": {
      "text/plain": [
       "set"
      ]
     },
     "execution_count": 199,
     "metadata": {},
     "output_type": "execute_result"
    }
   ],
   "source": [
    "type(s)"
   ]
  },
  {
   "cell_type": "code",
   "execution_count": 200,
   "id": "2039d2cb",
   "metadata": {},
   "outputs": [],
   "source": [
    "s1={1,2,1,1,1,3,4,2,6,7}"
   ]
  },
  {
   "cell_type": "code",
   "execution_count": 201,
   "id": "524df5f5",
   "metadata": {},
   "outputs": [
    {
     "data": {
      "text/plain": [
       "{1, 2, 3, 4, 6, 7}"
      ]
     },
     "execution_count": 201,
     "metadata": {},
     "output_type": "execute_result"
    }
   ],
   "source": [
    "s1"
   ]
  },
  {
   "cell_type": "code",
   "execution_count": 202,
   "id": "13740742",
   "metadata": {},
   "outputs": [],
   "source": [
    "s2={'suraj','veggalam','superman','spyderman'}"
   ]
  },
  {
   "cell_type": "code",
   "execution_count": 203,
   "id": "88320c12",
   "metadata": {},
   "outputs": [],
   "source": [
    "s3=s1.intersection(s2)"
   ]
  },
  {
   "cell_type": "code",
   "execution_count": 204,
   "id": "8dd98f8a",
   "metadata": {},
   "outputs": [
    {
     "data": {
      "text/plain": [
       "set()"
      ]
     },
     "execution_count": 204,
     "metadata": {},
     "output_type": "execute_result"
    }
   ],
   "source": [
    "s3"
   ]
  },
  {
   "cell_type": "code",
   "execution_count": 205,
   "id": "3baa5330",
   "metadata": {},
   "outputs": [
    {
     "data": {
      "text/plain": [
       "{1, 2}"
      ]
     },
     "execution_count": 205,
     "metadata": {},
     "output_type": "execute_result"
    }
   ],
   "source": [
    "s1={1,2,3,4,5}\n",
    "s2={1,8,9,0,2}\n",
    "s1.intersection(s2)"
   ]
  },
  {
   "cell_type": "code",
   "execution_count": 206,
   "id": "41c53b2c",
   "metadata": {},
   "outputs": [
    {
     "data": {
      "text/plain": [
       "{1, 2, 3, 4, 5}"
      ]
     },
     "execution_count": 206,
     "metadata": {},
     "output_type": "execute_result"
    }
   ],
   "source": [
    "s1"
   ]
  },
  {
   "cell_type": "code",
   "execution_count": 207,
   "id": "57e89763",
   "metadata": {},
   "outputs": [
    {
     "data": {
      "text/plain": [
       "{1, 2, 3, 4, 5}"
      ]
     },
     "execution_count": 207,
     "metadata": {},
     "output_type": "execute_result"
    }
   ],
   "source": [
    "s1={1,2,3,4,5,9}\n",
    "s2={4,5,1,3,10,2}\n",
    "s1.intersection(s2)"
   ]
  },
  {
   "cell_type": "code",
   "execution_count": 208,
   "id": "837a9a2d",
   "metadata": {},
   "outputs": [
    {
     "data": {
      "text/plain": [
       "{1, 2, 3, 4, 5, 9}"
      ]
     },
     "execution_count": 208,
     "metadata": {},
     "output_type": "execute_result"
    }
   ],
   "source": [
    "s1"
   ]
  },
  {
   "cell_type": "markdown",
   "id": "2a9d205c",
   "metadata": {},
   "source": [
    "# Arthematic Operators\n",
    "#+\n",
    "#-\n",
    "#*\n",
    "#%"
   ]
  },
  {
   "cell_type": "code",
   "execution_count": 209,
   "id": "4518ff16",
   "metadata": {},
   "outputs": [
    {
     "data": {
      "text/plain": [
       "11"
      ]
     },
     "execution_count": 209,
     "metadata": {},
     "output_type": "execute_result"
    }
   ],
   "source": [
    "a=10\n",
    "b=1\n",
    "a+b"
   ]
  },
  {
   "cell_type": "code",
   "execution_count": 210,
   "id": "b1e6490d",
   "metadata": {},
   "outputs": [
    {
     "data": {
      "text/plain": [
       "9"
      ]
     },
     "execution_count": 210,
     "metadata": {},
     "output_type": "execute_result"
    }
   ],
   "source": [
    "a-b"
   ]
  },
  {
   "cell_type": "code",
   "execution_count": 211,
   "id": "c7f4872f",
   "metadata": {},
   "outputs": [
    {
     "data": {
      "text/plain": [
       "10"
      ]
     },
     "execution_count": 211,
     "metadata": {},
     "output_type": "execute_result"
    }
   ],
   "source": [
    "a*b"
   ]
  },
  {
   "cell_type": "code",
   "execution_count": 212,
   "id": "21fe16db",
   "metadata": {},
   "outputs": [
    {
     "data": {
      "text/plain": [
       "2.0"
      ]
     },
     "execution_count": 212,
     "metadata": {},
     "output_type": "execute_result"
    }
   ],
   "source": [
    "x=4\n",
    "y=2\n",
    "x/y"
   ]
  },
  {
   "cell_type": "code",
   "execution_count": 213,
   "id": "d88f49ff",
   "metadata": {},
   "outputs": [
    {
     "data": {
      "text/plain": [
       "2"
      ]
     },
     "execution_count": 213,
     "metadata": {},
     "output_type": "execute_result"
    }
   ],
   "source": [
    "#floordivision\n",
    "x//2"
   ]
  },
  {
   "cell_type": "code",
   "execution_count": 214,
   "id": "23b1b31a",
   "metadata": {},
   "outputs": [
    {
     "data": {
      "text/plain": [
       "16"
      ]
     },
     "execution_count": 214,
     "metadata": {},
     "output_type": "execute_result"
    }
   ],
   "source": [
    "a=4\n",
    "b=2\n",
    "a**b"
   ]
  },
  {
   "cell_type": "markdown",
   "id": "10a0954f",
   "metadata": {},
   "source": [
    "# Comparison Operators"
   ]
  },
  {
   "cell_type": "code",
   "execution_count": 215,
   "id": "379b39c2",
   "metadata": {},
   "outputs": [],
   "source": [
    "a=1\n",
    "b=2\n"
   ]
  },
  {
   "cell_type": "code",
   "execution_count": 216,
   "id": "9c30d05e",
   "metadata": {},
   "outputs": [
    {
     "data": {
      "text/plain": [
       "True"
      ]
     },
     "execution_count": 216,
     "metadata": {},
     "output_type": "execute_result"
    }
   ],
   "source": [
    "a==1"
   ]
  },
  {
   "cell_type": "code",
   "execution_count": 217,
   "id": "e4407813",
   "metadata": {},
   "outputs": [
    {
     "data": {
      "text/plain": [
       "False"
      ]
     },
     "execution_count": 217,
     "metadata": {},
     "output_type": "execute_result"
    }
   ],
   "source": [
    "a==2"
   ]
  },
  {
   "cell_type": "code",
   "execution_count": 218,
   "id": "3580e589",
   "metadata": {},
   "outputs": [
    {
     "data": {
      "text/plain": [
       "True"
      ]
     },
     "execution_count": 218,
     "metadata": {},
     "output_type": "execute_result"
    }
   ],
   "source": [
    "b==2"
   ]
  },
  {
   "cell_type": "code",
   "execution_count": 219,
   "id": "ea31362d",
   "metadata": {},
   "outputs": [
    {
     "data": {
      "text/plain": [
       "False"
      ]
     },
     "execution_count": 219,
     "metadata": {},
     "output_type": "execute_result"
    }
   ],
   "source": [
    "b==1"
   ]
  },
  {
   "cell_type": "code",
   "execution_count": 220,
   "id": "b5e61f0a",
   "metadata": {},
   "outputs": [
    {
     "data": {
      "text/plain": [
       "False"
      ]
     },
     "execution_count": 220,
     "metadata": {},
     "output_type": "execute_result"
    }
   ],
   "source": [
    "a>b"
   ]
  },
  {
   "cell_type": "code",
   "execution_count": 221,
   "id": "64f26a79",
   "metadata": {},
   "outputs": [
    {
     "data": {
      "text/plain": [
       "True"
      ]
     },
     "execution_count": 221,
     "metadata": {},
     "output_type": "execute_result"
    }
   ],
   "source": [
    "a<b"
   ]
  },
  {
   "cell_type": "code",
   "execution_count": 222,
   "id": "cf5bd4b7",
   "metadata": {},
   "outputs": [
    {
     "data": {
      "text/plain": [
       "True"
      ]
     },
     "execution_count": 222,
     "metadata": {},
     "output_type": "execute_result"
    }
   ],
   "source": [
    "b>a"
   ]
  },
  {
   "cell_type": "code",
   "execution_count": 223,
   "id": "11db0095",
   "metadata": {},
   "outputs": [
    {
     "data": {
      "text/plain": [
       "False"
      ]
     },
     "execution_count": 223,
     "metadata": {},
     "output_type": "execute_result"
    }
   ],
   "source": [
    "b<a"
   ]
  },
  {
   "cell_type": "code",
   "execution_count": 224,
   "id": "2522268d",
   "metadata": {},
   "outputs": [
    {
     "data": {
      "text/plain": [
       "True"
      ]
     },
     "execution_count": 224,
     "metadata": {},
     "output_type": "execute_result"
    }
   ],
   "source": [
    "a!=b"
   ]
  },
  {
   "cell_type": "code",
   "execution_count": 225,
   "id": "de8993be",
   "metadata": {},
   "outputs": [
    {
     "data": {
      "text/plain": [
       "True"
      ]
     },
     "execution_count": 225,
     "metadata": {},
     "output_type": "execute_result"
    }
   ],
   "source": [
    "b!=a"
   ]
  },
  {
   "cell_type": "markdown",
   "id": "7b73f891",
   "metadata": {},
   "source": [
    "# Assignment Operators"
   ]
  },
  {
   "cell_type": "code",
   "execution_count": 226,
   "id": "cfcadef2",
   "metadata": {},
   "outputs": [],
   "source": [
    "a=1\n",
    "b=2\n"
   ]
  },
  {
   "cell_type": "code",
   "execution_count": 227,
   "id": "6eaa74ca",
   "metadata": {},
   "outputs": [
    {
     "data": {
      "text/plain": [
       "3"
      ]
     },
     "execution_count": 227,
     "metadata": {},
     "output_type": "execute_result"
    }
   ],
   "source": [
    "c=a+b\n",
    "c"
   ]
  },
  {
   "cell_type": "code",
   "execution_count": 228,
   "id": "7753db9f",
   "metadata": {},
   "outputs": [],
   "source": [
    "c+=b"
   ]
  },
  {
   "cell_type": "code",
   "execution_count": 229,
   "id": "4f9c08ff",
   "metadata": {},
   "outputs": [
    {
     "data": {
      "text/plain": [
       "5"
      ]
     },
     "execution_count": 229,
     "metadata": {},
     "output_type": "execute_result"
    }
   ],
   "source": [
    "c"
   ]
  },
  {
   "cell_type": "code",
   "execution_count": 230,
   "id": "dd62482a",
   "metadata": {},
   "outputs": [],
   "source": [
    "c=3\n",
    "b=4"
   ]
  },
  {
   "cell_type": "code",
   "execution_count": 231,
   "id": "b49ca00c",
   "metadata": {},
   "outputs": [],
   "source": [
    "c+=b"
   ]
  },
  {
   "cell_type": "code",
   "execution_count": 232,
   "id": "0a4248d4",
   "metadata": {},
   "outputs": [
    {
     "data": {
      "text/plain": [
       "7"
      ]
     },
     "execution_count": 232,
     "metadata": {},
     "output_type": "execute_result"
    }
   ],
   "source": [
    "c"
   ]
  },
  {
   "cell_type": "code",
   "execution_count": 233,
   "id": "c1103c42",
   "metadata": {},
   "outputs": [],
   "source": [
    "a=3\n",
    "b=8\n",
    "a-=b"
   ]
  },
  {
   "cell_type": "code",
   "execution_count": 234,
   "id": "e4a8ef82",
   "metadata": {},
   "outputs": [
    {
     "data": {
      "text/plain": [
       "-5"
      ]
     },
     "execution_count": 234,
     "metadata": {},
     "output_type": "execute_result"
    }
   ],
   "source": [
    "a"
   ]
  },
  {
   "cell_type": "code",
   "execution_count": 235,
   "id": "6e55d00b",
   "metadata": {},
   "outputs": [
    {
     "data": {
      "text/plain": [
       "8"
      ]
     },
     "execution_count": 235,
     "metadata": {},
     "output_type": "execute_result"
    }
   ],
   "source": [
    "b"
   ]
  },
  {
   "cell_type": "code",
   "execution_count": 236,
   "id": "9e9c4b41",
   "metadata": {},
   "outputs": [
    {
     "data": {
      "text/plain": [
       "12"
      ]
     },
     "execution_count": 236,
     "metadata": {},
     "output_type": "execute_result"
    }
   ],
   "source": [
    "a=3\n",
    "b=4\n",
    "a*=b\n",
    "a"
   ]
  },
  {
   "cell_type": "markdown",
   "id": "f2488a4d",
   "metadata": {},
   "source": [
    "# Membership Operators"
   ]
  },
  {
   "cell_type": "code",
   "execution_count": 237,
   "id": "8a54c1b1",
   "metadata": {},
   "outputs": [
    {
     "data": {
      "text/plain": [
       "'suraj'"
      ]
     },
     "execution_count": 237,
     "metadata": {},
     "output_type": "execute_result"
    }
   ],
   "source": [
    "'suraj'"
   ]
  },
  {
   "cell_type": "code",
   "execution_count": 238,
   "id": "14b74363",
   "metadata": {},
   "outputs": [
    {
     "data": {
      "text/plain": [
       "True"
      ]
     },
     "execution_count": 238,
     "metadata": {},
     "output_type": "execute_result"
    }
   ],
   "source": [
    "'s' in 'suraj'"
   ]
  },
  {
   "cell_type": "code",
   "execution_count": 239,
   "id": "a545825e",
   "metadata": {},
   "outputs": [
    {
     "data": {
      "text/plain": [
       "True"
      ]
     },
     "execution_count": 239,
     "metadata": {},
     "output_type": "execute_result"
    }
   ],
   "source": [
    "'u' in 'suraj'"
   ]
  },
  {
   "cell_type": "code",
   "execution_count": 240,
   "id": "6692ab69",
   "metadata": {},
   "outputs": [
    {
     "data": {
      "text/plain": [
       "False"
      ]
     },
     "execution_count": 240,
     "metadata": {},
     "output_type": "execute_result"
    }
   ],
   "source": [
    "'S' in 'suraj'"
   ]
  },
  {
   "cell_type": "code",
   "execution_count": 241,
   "id": "5e6242b2",
   "metadata": {},
   "outputs": [
    {
     "data": {
      "text/plain": [
       "'python'"
      ]
     },
     "execution_count": 241,
     "metadata": {},
     "output_type": "execute_result"
    }
   ],
   "source": [
    "'python'"
   ]
  },
  {
   "cell_type": "code",
   "execution_count": 242,
   "id": "8781257c",
   "metadata": {},
   "outputs": [
    {
     "data": {
      "text/plain": [
       "False"
      ]
     },
     "execution_count": 242,
     "metadata": {},
     "output_type": "execute_result"
    }
   ],
   "source": [
    "'y' not in 'python'"
   ]
  },
  {
   "cell_type": "code",
   "execution_count": 243,
   "id": "441ae041",
   "metadata": {},
   "outputs": [
    {
     "data": {
      "text/plain": [
       "True"
      ]
     },
     "execution_count": 243,
     "metadata": {},
     "output_type": "execute_result"
    }
   ],
   "source": [
    "'y' in 'python'"
   ]
  },
  {
   "cell_type": "code",
   "execution_count": 244,
   "id": "45c4731e",
   "metadata": {},
   "outputs": [],
   "source": [
    "a=1"
   ]
  },
  {
   "cell_type": "code",
   "execution_count": 245,
   "id": "1d238a7c",
   "metadata": {},
   "outputs": [
    {
     "name": "stderr",
     "output_type": "stream",
     "text": [
      "<>:1: SyntaxWarning: \"is\" with a literal. Did you mean \"==\"?\n",
      "<>:1: SyntaxWarning: \"is\" with a literal. Did you mean \"==\"?\n",
      "C:\\Users\\sony\\AppData\\Local\\Temp\\ipykernel_139940\\3222642818.py:1: SyntaxWarning: \"is\" with a literal. Did you mean \"==\"?\n",
      "  a is 1\n"
     ]
    },
    {
     "data": {
      "text/plain": [
       "True"
      ]
     },
     "execution_count": 245,
     "metadata": {},
     "output_type": "execute_result"
    }
   ],
   "source": [
    "a is 1"
   ]
  },
  {
   "cell_type": "code",
   "execution_count": 246,
   "id": "0904a651",
   "metadata": {},
   "outputs": [
    {
     "name": "stderr",
     "output_type": "stream",
     "text": [
      "<>:1: SyntaxWarning: \"is\" with a literal. Did you mean \"==\"?\n",
      "<>:1: SyntaxWarning: \"is\" with a literal. Did you mean \"==\"?\n",
      "C:\\Users\\sony\\AppData\\Local\\Temp\\ipykernel_139940\\3892644797.py:1: SyntaxWarning: \"is\" with a literal. Did you mean \"==\"?\n",
      "  1 is a\n"
     ]
    },
    {
     "data": {
      "text/plain": [
       "True"
      ]
     },
     "execution_count": 246,
     "metadata": {},
     "output_type": "execute_result"
    }
   ],
   "source": [
    "1 is a"
   ]
  },
  {
   "cell_type": "code",
   "execution_count": 247,
   "id": "7f8cf852",
   "metadata": {},
   "outputs": [],
   "source": [
    "a=2"
   ]
  },
  {
   "cell_type": "code",
   "execution_count": 248,
   "id": "a1ed72b9",
   "metadata": {},
   "outputs": [
    {
     "name": "stderr",
     "output_type": "stream",
     "text": [
      "<>:1: SyntaxWarning: \"is\" with a literal. Did you mean \"==\"?\n",
      "<>:1: SyntaxWarning: \"is\" with a literal. Did you mean \"==\"?\n",
      "C:\\Users\\sony\\AppData\\Local\\Temp\\ipykernel_139940\\135120866.py:1: SyntaxWarning: \"is\" with a literal. Did you mean \"==\"?\n",
      "  a is 2\n"
     ]
    },
    {
     "data": {
      "text/plain": [
       "True"
      ]
     },
     "execution_count": 248,
     "metadata": {},
     "output_type": "execute_result"
    }
   ],
   "source": [
    "a is 2"
   ]
  },
  {
   "cell_type": "code",
   "execution_count": 249,
   "id": "108a2f18",
   "metadata": {},
   "outputs": [
    {
     "name": "stderr",
     "output_type": "stream",
     "text": [
      "<>:1: SyntaxWarning: \"is\" with a literal. Did you mean \"==\"?\n",
      "<>:1: SyntaxWarning: \"is\" with a literal. Did you mean \"==\"?\n",
      "C:\\Users\\sony\\AppData\\Local\\Temp\\ipykernel_139940\\1403096933.py:1: SyntaxWarning: \"is\" with a literal. Did you mean \"==\"?\n",
      "  2 is a\n"
     ]
    },
    {
     "data": {
      "text/plain": [
       "True"
      ]
     },
     "execution_count": 249,
     "metadata": {},
     "output_type": "execute_result"
    }
   ],
   "source": [
    "2 is a "
   ]
  },
  {
   "cell_type": "code",
   "execution_count": 250,
   "id": "7fc5ec80",
   "metadata": {},
   "outputs": [
    {
     "name": "stderr",
     "output_type": "stream",
     "text": [
      "<>:2: SyntaxWarning: \"is\" with a literal. Did you mean \"==\"?\n",
      "<>:2: SyntaxWarning: \"is\" with a literal. Did you mean \"==\"?\n",
      "C:\\Users\\sony\\AppData\\Local\\Temp\\ipykernel_139940\\662119662.py:2: SyntaxWarning: \"is\" with a literal. Did you mean \"==\"?\n",
      "  1 is A\n"
     ]
    },
    {
     "data": {
      "text/plain": [
       "True"
      ]
     },
     "execution_count": 250,
     "metadata": {},
     "output_type": "execute_result"
    }
   ],
   "source": [
    "A=1\n",
    "1 is A"
   ]
  },
  {
   "cell_type": "code",
   "execution_count": 251,
   "id": "9e21ce71",
   "metadata": {},
   "outputs": [
    {
     "name": "stderr",
     "output_type": "stream",
     "text": [
      "<>:2: SyntaxWarning: \"is\" with a literal. Did you mean \"==\"?\n",
      "<>:2: SyntaxWarning: \"is\" with a literal. Did you mean \"==\"?\n",
      "C:\\Users\\sony\\AppData\\Local\\Temp\\ipykernel_139940\\476202593.py:2: SyntaxWarning: \"is\" with a literal. Did you mean \"==\"?\n",
      "  2 is a\n"
     ]
    },
    {
     "data": {
      "text/plain": [
       "True"
      ]
     },
     "execution_count": 251,
     "metadata": {},
     "output_type": "execute_result"
    }
   ],
   "source": [
    "a=2 \n",
    "2 is a"
   ]
  },
  {
   "cell_type": "code",
   "execution_count": 252,
   "id": "7877d258",
   "metadata": {},
   "outputs": [
    {
     "name": "stderr",
     "output_type": "stream",
     "text": [
      "<>:2: SyntaxWarning: \"is not\" with a literal. Did you mean \"!=\"?\n",
      "<>:2: SyntaxWarning: \"is not\" with a literal. Did you mean \"!=\"?\n",
      "C:\\Users\\sony\\AppData\\Local\\Temp\\ipykernel_139940\\513449240.py:2: SyntaxWarning: \"is not\" with a literal. Did you mean \"!=\"?\n",
      "  a is not 1\n"
     ]
    },
    {
     "data": {
      "text/plain": [
       "False"
      ]
     },
     "execution_count": 252,
     "metadata": {},
     "output_type": "execute_result"
    }
   ],
   "source": [
    "a=1\n",
    "a is not 1"
   ]
  },
  {
   "cell_type": "markdown",
   "id": "df0422b1",
   "metadata": {},
   "source": [
    "# String Formatting"
   ]
  },
  {
   "cell_type": "code",
   "execution_count": 253,
   "id": "54de484d",
   "metadata": {},
   "outputs": [],
   "source": [
    "a=\"this is python class\""
   ]
  },
  {
   "cell_type": "code",
   "execution_count": 254,
   "id": "0f3b2f39",
   "metadata": {},
   "outputs": [
    {
     "data": {
      "text/plain": [
       "'this is python class'"
      ]
     },
     "execution_count": 254,
     "metadata": {},
     "output_type": "execute_result"
    }
   ],
   "source": [
    "a"
   ]
  },
  {
   "cell_type": "code",
   "execution_count": 255,
   "id": "abb1a1ac",
   "metadata": {},
   "outputs": [
    {
     "data": {
      "text/plain": [
       "str"
      ]
     },
     "execution_count": 255,
     "metadata": {},
     "output_type": "execute_result"
    }
   ],
   "source": [
    "type(a)"
   ]
  },
  {
   "cell_type": "code",
   "execution_count": 256,
   "id": "039f4c24",
   "metadata": {},
   "outputs": [
    {
     "data": {
      "text/plain": [
       "'my name is suraj and age is 22 '"
      ]
     },
     "execution_count": 256,
     "metadata": {},
     "output_type": "execute_result"
    }
   ],
   "source": [
    "'my name is %s and age is %d '%('suraj',22)"
   ]
  },
  {
   "cell_type": "code",
   "execution_count": 257,
   "id": "04f5bde1",
   "metadata": {},
   "outputs": [
    {
     "data": {
      "text/plain": [
       "'my name is superhero and age is 25 '"
      ]
     },
     "execution_count": 257,
     "metadata": {},
     "output_type": "execute_result"
    }
   ],
   "source": [
    "'my name is %s and age is %d '%('superhero',25)"
   ]
  },
  {
   "cell_type": "code",
   "execution_count": 258,
   "id": "1d54aa58",
   "metadata": {},
   "outputs": [
    {
     "data": {
      "text/plain": [
       "'my name is mayur and age is 29 '"
      ]
     },
     "execution_count": 258,
     "metadata": {},
     "output_type": "execute_result"
    }
   ],
   "source": [
    "'my name is %s and age is %d '%('mayur',29)"
   ]
  },
  {
   "cell_type": "code",
   "execution_count": 259,
   "id": "092f0aa5",
   "metadata": {},
   "outputs": [
    {
     "data": {
      "text/plain": [
       "'my name is superman and age is 98 '"
      ]
     },
     "execution_count": 259,
     "metadata": {},
     "output_type": "execute_result"
    }
   ],
   "source": [
    "'my name is %s and age is %d '%('superman',98)"
   ]
  },
  {
   "cell_type": "markdown",
   "id": "16f8e146",
   "metadata": {},
   "source": [
    "# how to take input from user"
   ]
  },
  {
   "cell_type": "code",
   "execution_count": 261,
   "id": "5fab375c",
   "metadata": {},
   "outputs": [
    {
     "name": "stdout",
     "output_type": "stream",
     "text": [
      "enter your namesuraj\n",
      "enter your age98\n"
     ]
    }
   ],
   "source": [
    "name=input('enter your name')\n",
    "age=input('enter your age')"
   ]
  },
  {
   "cell_type": "code",
   "execution_count": 262,
   "id": "ecce5566",
   "metadata": {},
   "outputs": [
    {
     "name": "stdout",
     "output_type": "stream",
     "text": [
      "enter your namekamala Yadagiri Veggalam\n"
     ]
    }
   ],
   "source": [
    "name = input('enter your name')"
   ]
  },
  {
   "cell_type": "code",
   "execution_count": 263,
   "id": "c6694ed5",
   "metadata": {},
   "outputs": [
    {
     "name": "stdout",
     "output_type": "stream",
     "text": [
      "enter your age49\n"
     ]
    }
   ],
   "source": [
    "age = input('enter your age')"
   ]
  },
  {
   "cell_type": "code",
   "execution_count": 264,
   "id": "28162677",
   "metadata": {},
   "outputs": [
    {
     "data": {
      "text/plain": [
       "str"
      ]
     },
     "execution_count": 264,
     "metadata": {},
     "output_type": "execute_result"
    }
   ],
   "source": [
    "type(name)"
   ]
  },
  {
   "cell_type": "code",
   "execution_count": 265,
   "id": "4e0f779c",
   "metadata": {},
   "outputs": [
    {
     "data": {
      "text/plain": [
       "str"
      ]
     },
     "execution_count": 265,
     "metadata": {},
     "output_type": "execute_result"
    }
   ],
   "source": [
    "type(age)"
   ]
  },
  {
   "cell_type": "code",
   "execution_count": 267,
   "id": "ae1f250c",
   "metadata": {},
   "outputs": [
    {
     "name": "stdout",
     "output_type": "stream",
     "text": [
      "enter your age 16\n"
     ]
    }
   ],
   "source": [
    "age=int(input('enter your age '))"
   ]
  },
  {
   "cell_type": "code",
   "execution_count": 271,
   "id": "661e9e59",
   "metadata": {},
   "outputs": [
    {
     "data": {
      "text/plain": [
       "'superman my name is and age is 88 '"
      ]
     },
     "execution_count": 271,
     "metadata": {},
     "output_type": "execute_result"
    }
   ],
   "source": [
    "'%s my name is and age is %d '%('superman',88)"
   ]
  },
  {
   "cell_type": "code",
   "execution_count": 272,
   "id": "ef1d8e45",
   "metadata": {},
   "outputs": [
    {
     "data": {
      "text/plain": [
       "'suraj my name is and age is 25 '"
      ]
     },
     "execution_count": 272,
     "metadata": {},
     "output_type": "execute_result"
    }
   ],
   "source": [
    "'%s my name is and age is %d '%('suraj',25)"
   ]
  },
  {
   "cell_type": "code",
   "execution_count": 273,
   "id": "35c610a9",
   "metadata": {},
   "outputs": [
    {
     "name": "stdout",
     "output_type": "stream",
     "text": [
      "enter your namesuraj\n"
     ]
    }
   ],
   "source": [
    "name = input('enter your name')"
   ]
  },
  {
   "cell_type": "code",
   "execution_count": 274,
   "id": "717e0cb5",
   "metadata": {},
   "outputs": [
    {
     "name": "stdout",
     "output_type": "stream",
     "text": [
      "enter your name suraj y veggalam\n"
     ]
    }
   ],
   "source": [
    "name = input('enter your name ')"
   ]
  },
  {
   "cell_type": "code",
   "execution_count": 275,
   "id": "651ad454",
   "metadata": {},
   "outputs": [
    {
     "name": "stdout",
     "output_type": "stream",
     "text": [
      "enter your name: kamala y veggalam\n",
      "enter your age  51\n",
      "your name is kamala y veggalam and your age is 51\n"
     ]
    }
   ],
   "source": [
    "name = input('enter your name: ')\n",
    "age=int(input('enter your age  '))\n",
    "print('your name is %s and your age is %d' %(name,age))"
   ]
  },
  {
   "cell_type": "code",
   "execution_count": 1,
   "id": "ba4b4869",
   "metadata": {},
   "outputs": [
    {
     "name": "stdout",
     "output_type": "stream",
     "text": [
      "enter your namesuraj\n",
      "enter your age25\n",
      "your name is suraj and your age is 25\n"
     ]
    }
   ],
   "source": [
    "name = input('enter your name')\n",
    "age =input('enter your age')\n",
    "print('your name is {} and your age is {}' .format(name,age))"
   ]
  },
  {
   "cell_type": "code",
   "execution_count": 2,
   "id": "045d64ea",
   "metadata": {},
   "outputs": [
    {
     "name": "stdout",
     "output_type": "stream",
     "text": [
      "enter your name suraj y vegga\n",
      "enter your age28\n",
      "your name is suraj y vegga and your age is 28\n"
     ]
    }
   ],
   "source": [
    "name =input('enter your name ')\n",
    "age =input('enter your age')\n",
    "print('your name is {} and your age is {}' .format(name,age))"
   ]
  },
  {
   "cell_type": "code",
   "execution_count": 3,
   "id": "84be18c2",
   "metadata": {},
   "outputs": [
    {
     "name": "stdout",
     "output_type": "stream",
     "text": [
      "enter your name \n",
      "  @media print {\n",
      "    .ms-editor-squiggles-container {\n",
      "      display:none !important;\n",
      "    }\n",
      "  }\n",
      "  .ms-editor-squiggles-container {\n",
      "    all: initial;\n",
      "  }kiran shirkul\n",
      "enter your age 25\n",
      "your name is kiran shirkul and your age is 25\n"
     ]
    }
   ],
   "source": [
    "name =input('enter your name ')\n",
    "age =input('enter your age ')\n",
    "print('your name is {} and your age is {}' .format(name,age))"
   ]
  },
  {
   "cell_type": "code",
   "execution_count": 4,
   "id": "a9a156c9",
   "metadata": {},
   "outputs": [],
   "source": [
    "def xyz():\n",
    "    \n",
    "    name =input('enter your name ')\n",
    "    age =input('enter your age ')\n",
    "    print('your name is {1} and your age is {0}' .format(name,age))"
   ]
  },
  {
   "cell_type": "code",
   "execution_count": 6,
   "id": "7f9a78b6",
   "metadata": {},
   "outputs": [
    {
     "name": "stdout",
     "output_type": "stream",
     "text": [
      "enter your name: suraj \n",
      "enter your age: 28\n",
      "enter your weight: 70\n",
      "your name is suraj  and your age is 28\n"
     ]
    }
   ],
   "source": [
    "name =input('enter your name: ')\n",
    "age =input('enter your age: ')\n",
    "weight =input('enter your weight: ')\n",
    "print('your name is {} and your age is {}' .format(name,age,weight))"
   ]
  },
  {
   "cell_type": "code",
   "execution_count": 7,
   "id": "a4965bf6",
   "metadata": {},
   "outputs": [
    {
     "name": "stdout",
     "output_type": "stream",
     "text": [
      "enter your name: \n",
      "  @media print {\n",
      "    .ms-editor-squiggles-container {\n",
      "      display:none !important;\n",
      "    }\n",
      "  }\n",
      "  .ms-editor-squiggles-container {\n",
      "    all: initial;\n",
      "  }mayur mirajgaonkar\n",
      "enter your age: 25\n",
      "enter your weight: 70\n",
      "your name is mayur mirajgaonkar and your age is 25 and your weight is 70\n"
     ]
    }
   ],
   "source": [
    "name =input('enter your name: ')\n",
    "age =input('enter your age: ')\n",
    "weight =input('enter your weight: ')\n",
    "print('your name is {} and your age is {} and your weight is {}' .format(name,age,weight))"
   ]
  },
  {
   "cell_type": "code",
   "execution_count": 8,
   "id": "8e470822",
   "metadata": {},
   "outputs": [
    {
     "name": "stdout",
     "output_type": "stream",
     "text": [
      "enter your name: \n",
      "  @media print {\n",
      "    .ms-editor-squiggles-container {\n",
      "      display:none !important;\n",
      "    }\n",
      "  }\n",
      "  .ms-editor-squiggles-container {\n",
      "    all: initial;\n",
      "  }ganesh shahapurkar\n",
      "enter your age: 35\n",
      "enter your weight: 80\n",
      "your name is ganesh shahapurkar and your age is 35 and your weight is 70kgs\n"
     ]
    }
   ],
   "source": [
    "name = input('enter your name: ')\n",
    "age =input('enter your age: ')\n",
    "wight =input('enter your weight: ')\n",
    "print('your name is {} and your age is {} and your weight is {}kgs' .format(name,age,weight))"
   ]
  },
  {
   "cell_type": "code",
   "execution_count": 10,
   "id": "c712e5e8",
   "metadata": {},
   "outputs": [
    {
     "name": "stdout",
     "output_type": "stream",
     "text": [
      "enter your name: suraj y veggalam\n",
      "enter your weight: 31\n",
      "suraj y veggalam is 31kgs\n"
     ]
    }
   ],
   "source": [
    "name =input('enter your name: ')\n",
    "weight =input('enter your weight: ')\n",
    "print(f'{name} is {weight}kgs')"
   ]
  },
  {
   "cell_type": "code",
   "execution_count": 11,
   "id": "e1cca03b",
   "metadata": {},
   "outputs": [
    {
     "name": "stdout",
     "output_type": "stream",
     "text": [
      "Enter username: suraj y veggalam\n",
      "Username is: suraj y veggalam\n"
     ]
    }
   ],
   "source": [
    "username =input('Enter username: ')\n",
    "print('Username is: ' + username)"
   ]
  },
  {
   "cell_type": "code",
   "execution_count": 12,
   "id": "d8bcb392",
   "metadata": {},
   "outputs": [
    {
     "name": "stdout",
     "output_type": "stream",
     "text": [
      "Enter username: \n",
      "  @media print {\n",
      "    .ms-editor-squiggles-container {\n",
      "      display:none !important;\n",
      "    }\n",
      "  }\n",
      "  .ms-editor-squiggles-container {\n",
      "    all: initial;\n",
      "  }Mayuresh v mirajgoankar\n",
      "Username is: Mayuresh v mirajgoankar\n"
     ]
    }
   ],
   "source": [
    "username =input('Enter username: ')\n",
    "print('Username is: '+ username)"
   ]
  },
  {
   "cell_type": "code",
   "execution_count": 13,
   "id": "e2e2e714",
   "metadata": {},
   "outputs": [
    {
     "name": "stdout",
     "output_type": "stream",
     "text": [
      "Enter your value: suraj y veggalam\n",
      "suraj y veggalam\n"
     ]
    }
   ],
   "source": [
    "val = input('Enter your value: ')\n",
    "print(val)"
   ]
  },
  {
   "cell_type": "code",
   "execution_count": 14,
   "id": "41b882f3",
   "metadata": {},
   "outputs": [
    {
     "name": "stdout",
     "output_type": "stream",
     "text": [
      "What is your name?\n",
      "suraj y veggalam\n",
      "suraj y veggalam\n"
     ]
    }
   ],
   "source": [
    "name =input('What is your name?\\n')       #\\n------> newline   ---> It cauuses a line break\n",
    "print(name)"
   ]
  },
  {
   "cell_type": "markdown",
   "id": "dae2fe71",
   "metadata": {},
   "source": [
    "# Program to check input\n",
    "# type in Python"
   ]
  },
  {
   "cell_type": "code",
   "execution_count": 15,
   "id": "51a2f07f",
   "metadata": {},
   "outputs": [
    {
     "name": "stdout",
     "output_type": "stream",
     "text": [
      "Enter number : suraj y veggalam\n",
      "suraj y veggalam\n",
      "Enter name : 123\n",
      "123\n",
      "type of number <class 'str'>\n",
      "type of name <class 'str'>\n"
     ]
    }
   ],
   "source": [
    "number =input('Enter number : ')\n",
    "print(number)\n",
    "\n",
    "name1 =input('Enter name : ')\n",
    "print(name1)\n",
    "\n",
    "\n",
    "## Printing type of input value\n",
    "print('type of number', type(number))\n",
    "print('type of name', type(name1))"
   ]
  },
  {
   "cell_type": "code",
   "execution_count": 18,
   "id": "075dff45",
   "metadata": {},
   "outputs": [
    {
     "name": "stdout",
     "output_type": "stream",
     "text": [
      "Enter your number: 54\n",
      "54   <class 'int'>\n",
      "Enter a decimal number: 1000.001\n",
      "1000.001   <class 'float'>\n"
     ]
    }
   ],
   "source": [
    "num =int(input(\"Enter your number: \"))\n",
    "print(num, \" \", type(num))\n",
    "\n",
    "floatNum = float(input(\"Enter a decimal number: \"))\n",
    "print(floatNum, \" \", type(floatNum))"
   ]
  },
  {
   "cell_type": "code",
   "execution_count": 19,
   "id": "cee3fc92",
   "metadata": {},
   "outputs": [
    {
     "name": "stdout",
     "output_type": "stream",
     "text": [
      "80\n",
      "20\n",
      "100\n"
     ]
    }
   ],
   "source": [
    "num1 = int(input())\n",
    "num2 = int(input())\n",
    "\n",
    "print(num1+num2)"
   ]
  },
  {
   "cell_type": "code",
   "execution_count": 21,
   "id": "9efcc703",
   "metadata": {},
   "outputs": [
    {
     "name": "stdout",
     "output_type": "stream",
     "text": [
      "25\n",
      "4\n",
      "100\n"
     ]
    }
   ],
   "source": [
    "num1 =int(input())\n",
    "num2 =int(input())\n",
    "\n",
    "print(num1*num2)"
   ]
  },
  {
   "cell_type": "code",
   "execution_count": 22,
   "id": "bf94a5b5",
   "metadata": {},
   "outputs": [
    {
     "name": "stdout",
     "output_type": "stream",
     "text": [
      "akash\n",
      "akash\n",
      "raju\n",
      "raju\n"
     ]
    }
   ],
   "source": [
    "string = str(input())\n",
    "\n",
    "print(string)\n",
    "\n",
    "string_default = input()\n",
    "\n",
    "print(string_default)"
   ]
  },
  {
   "cell_type": "markdown",
   "id": "b16d3b63",
   "metadata": {},
   "source": [
    "# Python program showing how to\n",
    "# multiple input using split\n",
    "  \n",
    "# taking two inputs at a time"
   ]
  },
  {
   "cell_type": "code",
   "execution_count": 24,
   "id": "172e124c",
   "metadata": {},
   "outputs": [
    {
     "name": "stdout",
     "output_type": "stream",
     "text": [
      "Enter two values: 25 25\n",
      "Number of boys:  25\n",
      "Number of girls:  25\n",
      "\n"
     ]
    }
   ],
   "source": [
    "x ,y = input(\"Enter two values: \").split()\n",
    "\n",
    "print('Number of boys: ',x)\n",
    "print('Number of girls: ',y)\n",
    "\n",
    "print()"
   ]
  },
  {
   "cell_type": "markdown",
   "id": "ee2aa838",
   "metadata": {},
   "source": [
    "# taking three inputs at a time"
   ]
  },
  {
   "cell_type": "code",
   "execution_count": null,
   "id": "dbf183b6",
   "metadata": {},
   "outputs": [],
   "source": [
    "# x,y,z = input(\"Enter three values: \").split()\n",
    "\n",
    "print('Total number of students: ',x)\n",
    "print('Number of boys is: ',y)\n",
    "print('Number of girls is: ',z)\n",
    "\n",
    "print()"
   ]
  },
  {
   "cell_type": "markdown",
   "id": "a5e61322",
   "metadata": {},
   "source": [
    "# taking two inputs at a time"
   ]
  },
  {
   "cell_type": "code",
   "execution_count": 29,
   "id": "0361b75f",
   "metadata": {},
   "outputs": [
    {
     "name": "stdout",
     "output_type": "stream",
     "text": [
      "Enter two values: 20 30\n",
      "First number is 20 and and second number is 30\n"
     ]
    }
   ],
   "source": [
    "a , b = input(\"Enter two values: \").split()\n",
    "\n",
    "print(\"First number is {} and and second number is {}\" .format(a,b))"
   ]
  },
  {
   "cell_type": "markdown",
   "id": "94e5640c",
   "metadata": {},
   "source": [
    "# taking multiple inputs at a time \n",
    "# and type casting using list() function"
   ]
  },
  {
   "cell_type": "code",
   "execution_count": 30,
   "id": "d0c322e8",
   "metadata": {},
   "outputs": [
    {
     "name": "stdout",
     "output_type": "stream",
     "text": [
      "Enter multiple values: 100 25 80 180 111 125 68 96\n",
      "List of students:  [100, 25, 80, 180, 111, 125, 68, 96]\n"
     ]
    }
   ],
   "source": [
    "x = list(map(int, input('Enter multiple values: ').split()))\n",
    "\n",
    "print(\"List of students: \",x)"
   ]
  },
  {
   "cell_type": "markdown",
   "id": "ff4c9b2d",
   "metadata": {},
   "source": [
    "# Python program showing\n",
    "# how to take multiple input\n",
    "# using List comprehension"
   ]
  },
  {
   "cell_type": "code",
   "execution_count": 37,
   "id": "1abea5b3",
   "metadata": {},
   "outputs": [
    {
     "name": "stdout",
     "output_type": "stream",
     "text": [
      "Enter two values: 5 3\n",
      "First Number is:  5\n",
      "Second Number is:  3\n",
      "\n"
     ]
    }
   ],
   "source": [
    "# taking two input at a time\n",
    "\n",
    "x,  y= [int(x) for x in input(\"Enter two values: \").split()]\n",
    "\n",
    "print(\"First Number is: \",x)\n",
    "print(\"Second Number is: \",y)\n",
    "print()\n"
   ]
  },
  {
   "cell_type": "markdown",
   "id": "ba2f824f",
   "metadata": {},
   "source": [
    "# taking three input at a time"
   ]
  },
  {
   "cell_type": "code",
   "execution_count": 38,
   "id": "f968dfce",
   "metadata": {},
   "outputs": [
    {
     "name": "stdout",
     "output_type": "stream",
     "text": [
      "Enter three values: 100 120 150\n",
      "First Number is:  100\n",
      "Second Number is:  120\n",
      "Third Number is:  150\n",
      "\n"
     ]
    }
   ],
   "source": [
    "\n",
    "\n",
    "x,y,z =[int(x) for x in input(\"Enter three values: \").split()]\n",
    "print(\"First Number is: \",x)\n",
    "print(\"Second Number is: \",y)\n",
    "print(\"Third Number is: \",z)\n",
    "\n",
    "print()"
   ]
  },
  {
   "cell_type": "markdown",
   "id": "c3dc18ab",
   "metadata": {},
   "source": [
    "# taking two inputs at a time\n",
    "\n"
   ]
  },
  {
   "cell_type": "code",
   "execution_count": 39,
   "id": "14acfb5c",
   "metadata": {},
   "outputs": [
    {
     "name": "stdout",
     "output_type": "stream",
     "text": [
      "Enter two values: 20 80\n",
      "First number is 20 and second number is 80\n",
      "\n"
     ]
    }
   ],
   "source": [
    "x,y = [int(x) for x in input(\"Enter two values: \").split()]\n",
    "\n",
    "print(\"First number is {} and second number is {}\".format(x,y))\n",
    "print()"
   ]
  },
  {
   "cell_type": "markdown",
   "id": "6b62e950",
   "metadata": {},
   "source": [
    "# taking multiple inputs at a time"
   ]
  },
  {
   "cell_type": "code",
   "execution_count": 40,
   "id": "0cfb6adb",
   "metadata": {},
   "outputs": [
    {
     "name": "stdout",
     "output_type": "stream",
     "text": [
      "Enter multiple values: 10 20 30 40 50 60 70 80 90 100 110 120 130 140 150 160 \n",
      "Number of list is:  [10, 20, 30, 40, 50, 60, 70, 80, 90, 100, 110, 120, 130, 140, 150, 160]\n"
     ]
    }
   ],
   "source": [
    "x = [int(x) for x in input (\"Enter multiple values: \").split()]\n",
    "\n",
    "print(\"Number of list is: \",x)"
   ]
  },
  {
   "cell_type": "markdown",
   "id": "61234a22",
   "metadata": {},
   "source": [
    "# taking multiple inputs at a time separated by comma"
   ]
  },
  {
   "cell_type": "code",
   "execution_count": null,
   "id": "4dcbecd7",
   "metadata": {},
   "outputs": [],
   "source": []
  },
  {
   "cell_type": "code",
   "execution_count": 4,
   "id": "23a6a239",
   "metadata": {},
   "outputs": [
    {
     "name": "stdout",
     "output_type": "stream",
     "text": [
      "Enter multiple value: 10\n",
      "Number of list is:  [10]\n"
     ]
    }
   ],
   "source": [
    "x =[int(x) for x in input(\"Enter multiple value: \").split(\",\")]\n",
    "\n",
    "print(\"Number of list is: \",x)"
   ]
  },
  {
   "cell_type": "markdown",
   "id": "260b6b0c",
   "metadata": {},
   "source": [
    "# Python code to demonstrate a dictionary\n",
    "# with multiple inputs in a key."
   ]
  },
  {
   "cell_type": "code",
   "execution_count": 5,
   "id": "d0121ddb",
   "metadata": {},
   "outputs": [
    {
     "name": "stdout",
     "output_type": "stream",
     "text": [
      "{(10, 20, 30): 0, (5, 2, 4): 3}\n"
     ]
    }
   ],
   "source": [
    "import random as rn\n",
    "\n",
    "# creating an empty dictionary\n",
    "dict = {}\n",
    "\n",
    "# Insert first triplet in dictionary\n",
    "x, y, z = 10, 20, 30\n",
    "dict[x, y, z] = x + y - z;\n",
    "\n",
    "# Insert second triplet in dictionary\n",
    "x, y, z = 5, 2, 4\n",
    "dict[x, y, z] = x + y - z;\n",
    "\n",
    "# print the dictionary\n",
    "print(dict)\n"
   ]
  },
  {
   "cell_type": "code",
   "execution_count": null,
   "id": "7f6b947d",
   "metadata": {},
   "outputs": [
    {
     "name": "stdout",
     "output_type": "stream",
     "text": [
      "Enter Student Names: \n",
      "suraj\n",
      "kiran\n",
      "mayur\n",
      "akash\n",
      "chandru\n",
      "ganesh\n",
      "ajinkya\n",
      "mahesh\n",
      "aks\n",
      "dhanraj\n",
      "sagar\n",
      "vishwaesh\n",
      "piyush\n"
     ]
    }
   ],
   "source": [
    "total_input = []\n",
    "\n",
    "print(\"Enter Student Names: \")\n",
    "\n",
    "while True:\n",
    "    name=input()\n",
    "    if name:\n",
    "        total_input.append(name)\n",
    "    else:\n",
    "        break\n",
    "        \n",
    "\n",
    "        \n",
    "print(\"Total input received: \")\n",
    "print(total_input)"
   ]
  },
  {
   "cell_type": "code",
   "execution_count": null,
   "id": "adc75386",
   "metadata": {},
   "outputs": [
    {
     "name": "stdout",
     "output_type": "stream",
     "text": [
      "How many data do you want to enter?(numbers only): 30\n",
      "Enter a key\n",
      "1\n",
      "Enter a value\n",
      "1\n",
      "Enter a key\n",
      "1\n",
      "Enter a value\n",
      "2\n",
      "Enter a key\n",
      "3\n",
      "Enter a value\n",
      "5\n",
      "Enter a key\n",
      "1\n",
      "Enter a value\n",
      "5\n",
      "Enter a key\n",
      "1\n",
      "Enter a value\n",
      "1\n",
      "Enter a key\n",
      "5\n",
      "Enter a value\n",
      "5\n",
      "Enter a key\n",
      "6\n",
      "Enter a value\n",
      "7\n",
      "Enter a key\n",
      "8\n",
      "Enter a value\n",
      "10\n",
      "Enter a key\n",
      "10\n",
      "Enter a value\n",
      "11\n",
      "Enter a key\n",
      "1111\n",
      "Enter a value\n"
     ]
    }
   ],
   "source": [
    "d = {}\n",
    "count = 0\n",
    "data = int(input(\"How many data do you want to enter?(numbers only): \"))\n",
    "while count < data:\n",
    "    count = count + 1\n",
    "    print(\"Enter a key\")\n",
    "    key = input()\n",
    "    print(\"Enter a value\")\n",
    "    value = input()\n",
    "    d[key] = value\n",
    "    if count >= data:\n",
    "        break\n",
    "\n",
    "print(d)"
   ]
  },
  {
   "cell_type": "code",
   "execution_count": null,
   "id": "dafe69da",
   "metadata": {},
   "outputs": [],
   "source": [
    "record = int(input(\"Enter the student record need to add :\"))\n",
    "\n",
    "stud_data={}\n",
    "\n",
    "for i in range(0,record):\n",
    "    Name = input(\"Enter the student name :\").split()\n",
    "    Age = input(\"Enter the {} age :\".format(Name))\n",
    "    Grade = input(\"Enter the {} grade :\".format(Name)).split()\n",
    "    Nam_key =  Name[0]\n",
    "    Age_value = Age[0]\n",
    "    Grade_value = Grade[0]\n",
    "    stud_data[Nam_key] = {Age_value,Grade_value}"
   ]
  },
  {
   "cell_type": "markdown",
   "id": "a4fb1165",
   "metadata": {},
   "source": [
    "# Checking the Keys and Values from dictionary by Giving the input "
   ]
  },
  {
   "cell_type": "code",
   "execution_count": 3,
   "id": "116b3160",
   "metadata": {},
   "outputs": [],
   "source": [
    "d = {\"MumbaiIndians\":\"Mumbai\",\"ChennaiSuperKings\":\"Chennai\",\"KingsElevenPunjab\":\"Punjab\",\"RajasthanRoyals\":\"Rajasthan\",\"RoyalChallengersBangalore\":\"Bangalore\",\"KolkataKnightRiders\":\"Kolkata\",\"SunrisersHyerabad\":\"Hyderabad\",\"DelhiCapitals\":\n",
    "     \"Delhi\",\"GujratTitans\":\"Gujrat\",\"LucknowSuperGiants\":\"Lucknow\"}\n"
   ]
  },
  {
   "cell_type": "code",
   "execution_count": 4,
   "id": "68d33b38",
   "metadata": {},
   "outputs": [
    {
     "name": "stdout",
     "output_type": "stream",
     "text": [
      "Enter the key: MumbaiIndians\n",
      "Enter the item: Mumbai\n",
      "Help on class dict in module builtins:\n",
      "\n",
      "class dict(object)\n",
      " |  dict() -> new empty dictionary\n",
      " |  dict(mapping) -> new dictionary initialized from a mapping object's\n",
      " |      (key, value) pairs\n",
      " |  dict(iterable) -> new dictionary initialized as if via:\n",
      " |      d = {}\n",
      " |      for k, v in iterable:\n",
      " |          d[k] = v\n",
      " |  dict(**kwargs) -> new dictionary initialized with the name=value pairs\n",
      " |      in the keyword argument list.  For example:  dict(one=1, two=2)\n",
      " |  \n",
      " |  Built-in subclasses:\n",
      " |      StgDict\n",
      " |  \n",
      " |  Methods defined here:\n",
      " |  \n",
      " |  __contains__(self, key, /)\n",
      " |      True if the dictionary has the specified key, else False.\n",
      " |  \n",
      " |  __delitem__(self, key, /)\n",
      " |      Delete self[key].\n",
      " |  \n",
      " |  __eq__(self, value, /)\n",
      " |      Return self==value.\n",
      " |  \n",
      " |  __ge__(self, value, /)\n",
      " |      Return self>=value.\n",
      " |  \n",
      " |  __getattribute__(self, name, /)\n",
      " |      Return getattr(self, name).\n",
      " |  \n",
      " |  __getitem__(...)\n",
      " |      x.__getitem__(y) <==> x[y]\n",
      " |  \n",
      " |  __gt__(self, value, /)\n",
      " |      Return self>value.\n",
      " |  \n",
      " |  __init__(self, /, *args, **kwargs)\n",
      " |      Initialize self.  See help(type(self)) for accurate signature.\n",
      " |  \n",
      " |  __ior__(self, value, /)\n",
      " |      Return self|=value.\n",
      " |  \n",
      " |  __iter__(self, /)\n",
      " |      Implement iter(self).\n",
      " |  \n",
      " |  __le__(self, value, /)\n",
      " |      Return self<=value.\n",
      " |  \n",
      " |  __len__(self, /)\n",
      " |      Return len(self).\n",
      " |  \n",
      " |  __lt__(self, value, /)\n",
      " |      Return self<value.\n",
      " |  \n",
      " |  __ne__(self, value, /)\n",
      " |      Return self!=value.\n",
      " |  \n",
      " |  __or__(self, value, /)\n",
      " |      Return self|value.\n",
      " |  \n",
      " |  __repr__(self, /)\n",
      " |      Return repr(self).\n",
      " |  \n",
      " |  __reversed__(self, /)\n",
      " |      Return a reverse iterator over the dict keys.\n",
      " |  \n",
      " |  __ror__(self, value, /)\n",
      " |      Return value|self.\n",
      " |  \n",
      " |  __setitem__(self, key, value, /)\n",
      " |      Set self[key] to value.\n",
      " |  \n",
      " |  __sizeof__(...)\n",
      " |      D.__sizeof__() -> size of D in memory, in bytes\n",
      " |  \n",
      " |  clear(...)\n",
      " |      D.clear() -> None.  Remove all items from D.\n",
      " |  \n",
      " |  copy(...)\n",
      " |      D.copy() -> a shallow copy of D\n",
      " |  \n",
      " |  get(self, key, default=None, /)\n",
      " |      Return the value for key if key is in the dictionary, else default.\n",
      " |  \n",
      " |  items(...)\n",
      " |      D.items() -> a set-like object providing a view on D's items\n",
      " |  \n",
      " |  keys(...)\n",
      " |      D.keys() -> a set-like object providing a view on D's keys\n",
      " |  \n",
      " |  pop(...)\n",
      " |      D.pop(k[,d]) -> v, remove specified key and return the corresponding value.\n",
      " |      \n",
      " |      If key is not found, default is returned if given, otherwise KeyError is raised\n",
      " |  \n",
      " |  popitem(self, /)\n",
      " |      Remove and return a (key, value) pair as a 2-tuple.\n",
      " |      \n",
      " |      Pairs are returned in LIFO (last-in, first-out) order.\n",
      " |      Raises KeyError if the dict is empty.\n",
      " |  \n",
      " |  setdefault(self, key, default=None, /)\n",
      " |      Insert key with a value of default if key is not in the dictionary.\n",
      " |      \n",
      " |      Return the value for key if key is in the dictionary, else default.\n",
      " |  \n",
      " |  update(...)\n",
      " |      D.update([E, ]**F) -> None.  Update D from dict/iterable E and F.\n",
      " |      If E is present and has a .keys() method, then does:  for k in E: D[k] = E[k]\n",
      " |      If E is present and lacks a .keys() method, then does:  for k, v in E: D[k] = v\n",
      " |      In either case, this is followed by: for k in F:  D[k] = F[k]\n",
      " |  \n",
      " |  values(...)\n",
      " |      D.values() -> an object providing a view on D's values\n",
      " |  \n",
      " |  ----------------------------------------------------------------------\n",
      " |  Class methods defined here:\n",
      " |  \n",
      " |  __class_getitem__(...) from builtins.type\n",
      " |      See PEP 585\n",
      " |  \n",
      " |  fromkeys(iterable, value=None, /) from builtins.type\n",
      " |      Create a new dictionary with keys from iterable and values set to value.\n",
      " |  \n",
      " |  ----------------------------------------------------------------------\n",
      " |  Static methods defined here:\n",
      " |  \n",
      " |  __new__(*args, **kwargs) from builtins.type\n",
      " |      Create and return a new object.  See help(type) for accurate signature.\n",
      " |  \n",
      " |  ----------------------------------------------------------------------\n",
      " |  Data and other attributes defined here:\n",
      " |  \n",
      " |  __hash__ = None\n",
      "\n",
      "key is True\n",
      "item True\n",
      "key and item is not matched\n",
      "key and item is not matched\n",
      "key and item is not matched\n",
      "key and item is not matched\n",
      "key and item is not matched\n",
      "key and item is not matched\n",
      "key and item is not matched\n",
      "key and item is not matched\n",
      "key and item is not matched\n"
     ]
    }
   ],
   "source": [
    "a=input(\"Enter the key: \")\n",
    "b=input('Enter the item: ')\n",
    "help(dict)\n",
    "\n",
    "for i,j in d.keys() and d.items():\n",
    "    if i == a : \n",
    "        print('key is True')\n",
    "        if j == b:\n",
    "            print('item True')\n",
    "        else:\n",
    "            print('item False')\n",
    "    else:\n",
    "        pass\n",
    "        print('key and item is not matched')"
   ]
  },
  {
   "cell_type": "markdown",
   "id": "d60a1c00",
   "metadata": {},
   "source": [
    "# conditional Statements\n",
    "#whenever your passing conditional statements you have to give :\n",
    "elif used to check multiple statements"
   ]
  },
  {
   "cell_type": "code",
   "execution_count": null,
   "id": "53d71521",
   "metadata": {},
   "outputs": [],
   "source": [
    "if\n",
    "else\n",
    "elif\n",
    "\n",
    "are the conditional statements"
   ]
  },
  {
   "cell_type": "code",
   "execution_count": 6,
   "id": "9948ef3a",
   "metadata": {},
   "outputs": [],
   "source": [
    "is_male = True"
   ]
  },
  {
   "cell_type": "code",
   "execution_count": 8,
   "id": "fa3b6052",
   "metadata": {},
   "outputs": [
    {
     "name": "stdout",
     "output_type": "stream",
     "text": [
      "your male\n"
     ]
    }
   ],
   "source": [
    "if is_male:\n",
    "    print('your male')\n",
    "else:\n",
    "    print('your female')"
   ]
  },
  {
   "cell_type": "code",
   "execution_count": 10,
   "id": "93e14a3e",
   "metadata": {},
   "outputs": [],
   "source": [
    "is_male=True\n",
    "is_tall=False"
   ]
  },
  {
   "cell_type": "code",
   "execution_count": 11,
   "id": "e5d86a40",
   "metadata": {},
   "outputs": [
    {
     "name": "stdout",
     "output_type": "stream",
     "text": [
      "you are input is not correct\n"
     ]
    }
   ],
   "source": [
    "if is_male and is_tall:\n",
    "    print(\"you are tall male\")\n",
    "else:\n",
    "    print(\"you are input is not correct\")"
   ]
  },
  {
   "cell_type": "code",
   "execution_count": 12,
   "id": "cf3b2ea8",
   "metadata": {},
   "outputs": [
    {
     "name": "stdout",
     "output_type": "stream",
     "text": [
      "number is large\n"
     ]
    }
   ],
   "source": [
    "num=10\n",
    "\n",
    "if num>=10:\n",
    "    print('number is large')\n",
    "else:\n",
    "    print('number is small')"
   ]
  },
  {
   "cell_type": "code",
   "execution_count": 13,
   "id": "c5857f98",
   "metadata": {},
   "outputs": [],
   "source": [
    "is_male=True\n",
    "is_tall=False"
   ]
  },
  {
   "cell_type": "code",
   "execution_count": 14,
   "id": "64569770",
   "metadata": {},
   "outputs": [
    {
     "name": "stdout",
     "output_type": "stream",
     "text": [
      "you are short male\n"
     ]
    }
   ],
   "source": [
    "if is_male and is_tall:\n",
    "    print(\"tall male\")\n",
    "elif is_male and not(is_tall):\n",
    "    print(\"you are short male\")\n",
    "elif not(is_male) and is_tall:\n",
    "    print(\"you are male but tall\")\n",
    "else:\n",
    "    print(\"you are not male and not tall\")"
   ]
  },
  {
   "cell_type": "code",
   "execution_count": 15,
   "id": "6fd4fc0d",
   "metadata": {},
   "outputs": [
    {
     "name": "stdout",
     "output_type": "stream",
     "text": [
      "you are short male\n"
     ]
    }
   ],
   "source": [
    "if is_male and is_tall:\n",
    "    print(\"tall male\")\n",
    "elif is_male and not(is_tall):\n",
    "    print(\"you are short male\")\n",
    "else:\n",
    "    print(\"you are not male and not tall\")\n",
    "    "
   ]
  },
  {
   "cell_type": "markdown",
   "id": "2019d7de",
   "metadata": {},
   "source": [
    "# Taking the Prime Numbers from the list with help of for loop"
   ]
  },
  {
   "cell_type": "code",
   "execution_count": 16,
   "id": "80e66904",
   "metadata": {},
   "outputs": [
    {
     "name": "stdout",
     "output_type": "stream",
     "text": [
      "2\n",
      "4\n",
      "6\n",
      "6\n",
      "8\n",
      "10\n",
      "12\n",
      "14\n",
      "16\n"
     ]
    }
   ],
   "source": [
    "l=[1,2,3,4,5,6,6,7,8,9,10,11,12,13,14,15,16]\n",
    "\n",
    "for i in l:\n",
    "    if i%2==0:\n",
    "        print(i)"
   ]
  },
  {
   "cell_type": "markdown",
   "id": "28584536",
   "metadata": {},
   "source": [
    "# Taking the Odd Numbers from the list with the help for Loop"
   ]
  },
  {
   "cell_type": "code",
   "execution_count": 23,
   "id": "0d2dc338",
   "metadata": {},
   "outputs": [
    {
     "name": "stdout",
     "output_type": "stream",
     "text": [
      "1\n",
      "3\n",
      "5\n",
      "7\n",
      "9\n",
      "11\n",
      "13\n",
      "15\n",
      "17\n",
      "19\n",
      "21\n",
      "23\n",
      "25\n"
     ]
    }
   ],
   "source": [
    "l=[1,2,3,4,5,6,7,8,9,10,11,12,13,14,15,16,17,18,19,20,21,22,23,24,25]\n",
    "\n",
    "for i in l:\n",
    "    if i%2==1:\n",
    "        print(i)"
   ]
  },
  {
   "cell_type": "markdown",
   "id": "f5a0b444",
   "metadata": {},
   "source": [
    "# List comprehension\n",
    "list comprehension in Python is an easy and compact syntax for creating a list from a string or another list. it is a very concise way to create a new list by performing an operation on each item in the existing list.\n",
    "List comprehension is considerably faster than processing a list using the for loop \n"
   ]
  },
  {
   "cell_type": "code",
   "execution_count": 24,
   "id": "e627f148",
   "metadata": {},
   "outputs": [
    {
     "name": "stdout",
     "output_type": "stream",
     "text": [
      "1\n",
      "2\n",
      "3\n",
      "4\n",
      "5\n",
      "6\n",
      "7\n",
      "8\n",
      "9\n",
      "10\n",
      "11\n",
      "12\n",
      "13\n",
      "14\n",
      "15\n"
     ]
    }
   ],
   "source": [
    "# Normal For Loop\n",
    "\n",
    "l=[1,2,3,4,5,6,7,8,9,10,11,12,13,14,15]\n",
    "\n",
    "for i in l:\n",
    "    print(i)\n"
   ]
  },
  {
   "cell_type": "markdown",
   "id": "f5047149",
   "metadata": {},
   "source": [
    "# list Comprehension"
   ]
  },
  {
   "cell_type": "code",
   "execution_count": 25,
   "id": "dce8cf39",
   "metadata": {},
   "outputs": [
    {
     "data": {
      "text/plain": [
       "[1, 2, 3, 4, 5, 6, 7, 8, 9, 10, 11, 12, 13, 14, 15]"
      ]
     },
     "execution_count": 25,
     "metadata": {},
     "output_type": "execute_result"
    }
   ],
   "source": [
    "[i for i in l]"
   ]
  },
  {
   "cell_type": "markdown",
   "id": "bce25604",
   "metadata": {},
   "source": [
    "# Add The numbers to list with help of list Comprehension"
   ]
  },
  {
   "cell_type": "code",
   "execution_count": 26,
   "id": "2b1a0dc5",
   "metadata": {},
   "outputs": [
    {
     "data": {
      "text/plain": [
       "[101, 102, 103, 104, 105, 106, 107, 108, 109, 110, 111, 112, 113, 114, 115]"
      ]
     },
     "execution_count": 26,
     "metadata": {},
     "output_type": "execute_result"
    }
   ],
   "source": [
    "[i+100 for i in l]"
   ]
  },
  {
   "cell_type": "markdown",
   "id": "260edbc1",
   "metadata": {},
   "source": [
    "# Multipling the Numbers to list with help of list Comprehension"
   ]
  },
  {
   "cell_type": "code",
   "execution_count": 27,
   "id": "e79527e1",
   "metadata": {},
   "outputs": [
    {
     "data": {
      "text/plain": [
       "[2, 4, 6, 8, 10, 12, 14, 16, 18, 20, 22, 24, 26, 28, 30]"
      ]
     },
     "execution_count": 27,
     "metadata": {},
     "output_type": "execute_result"
    }
   ],
   "source": [
    "[i*2 for i in l]"
   ]
  },
  {
   "cell_type": "markdown",
   "id": "ab82dde5",
   "metadata": {},
   "source": [
    "# Subracting the numbers to list with of list Comprehension"
   ]
  },
  {
   "cell_type": "code",
   "execution_count": 28,
   "id": "411055af",
   "metadata": {},
   "outputs": [
    {
     "data": {
      "text/plain": [
       "[0.5,\n",
       " 1.5,\n",
       " 2.5,\n",
       " 3.5,\n",
       " 4.5,\n",
       " 5.5,\n",
       " 6.5,\n",
       " 7.5,\n",
       " 8.5,\n",
       " 9.5,\n",
       " 10.5,\n",
       " 11.5,\n",
       " 12.5,\n",
       " 13.5,\n",
       " 14.5]"
      ]
     },
     "execution_count": 28,
     "metadata": {},
     "output_type": "execute_result"
    }
   ],
   "source": [
    "[i-0.5 for i in l]"
   ]
  },
  {
   "cell_type": "code",
   "execution_count": 29,
   "id": "875a488f",
   "metadata": {},
   "outputs": [
    {
     "data": {
      "text/plain": [
       "[0, 1, 2, 3, 4, 5, 6, 7, 8, 9, 10, 11, 12, 13, 14]"
      ]
     },
     "execution_count": 29,
     "metadata": {},
     "output_type": "execute_result"
    }
   ],
   "source": [
    "[i-1 for i in l]"
   ]
  },
  {
   "cell_type": "code",
   "execution_count": 31,
   "id": "98eb3415",
   "metadata": {},
   "outputs": [],
   "source": [
    "marks =[52,60,70,48,78,85]"
   ]
  },
  {
   "cell_type": "code",
   "execution_count": 32,
   "id": "24cd542e",
   "metadata": {},
   "outputs": [
    {
     "data": {
      "text/plain": [
       "[0.02,\n",
       " 0.04,\n",
       " 0.06,\n",
       " 0.08,\n",
       " 0.1,\n",
       " 0.12,\n",
       " 0.14,\n",
       " 0.16,\n",
       " 0.18,\n",
       " 0.2,\n",
       " 0.22,\n",
       " 0.24,\n",
       " 0.26,\n",
       " 0.28,\n",
       " 0.3]"
      ]
     },
     "execution_count": 32,
     "metadata": {},
     "output_type": "execute_result"
    }
   ],
   "source": [
    "[i/100*2 for i in l]"
   ]
  },
  {
   "cell_type": "code",
   "execution_count": 33,
   "id": "636e3e55",
   "metadata": {},
   "outputs": [
    {
     "data": {
      "text/plain": [
       "[124, 125, 126, 127, 128, 129, 130, 131, 132, 133, 134, 135, 136, 137, 138]"
      ]
     },
     "execution_count": 33,
     "metadata": {},
     "output_type": "execute_result"
    }
   ],
   "source": [
    "[i+123 for i in l]"
   ]
  },
  {
   "cell_type": "code",
   "execution_count": null,
   "id": "a1d0bea1",
   "metadata": {},
   "outputs": [],
   "source": [
    "## String Comprehension"
   ]
  },
  {
   "cell_type": "code",
   "execution_count": 35,
   "id": "34e7be87",
   "metadata": {},
   "outputs": [
    {
     "data": {
      "text/plain": [
       "['s', 'u', 'r', 'a', 'j']"
      ]
     },
     "execution_count": 35,
     "metadata": {},
     "output_type": "execute_result"
    }
   ],
   "source": [
    "n=\"suraj\"\n",
    "\n",
    "[i for i in n]"
   ]
  },
  {
   "cell_type": "code",
   "execution_count": 37,
   "id": "18d0429e",
   "metadata": {},
   "outputs": [
    {
     "data": {
      "text/plain": [
       "['S',\n",
       " 'a',\n",
       " 'c',\n",
       " 'h',\n",
       " 'i',\n",
       " 'n',\n",
       " ' ',\n",
       " 'T',\n",
       " 'e',\n",
       " 'n',\n",
       " 'd',\n",
       " 'u',\n",
       " 'l',\n",
       " 'k',\n",
       " 'a',\n",
       " 'r',\n",
       " ' ',\n",
       " 'w',\n",
       " 'a',\n",
       " 's',\n",
       " ' ',\n",
       " 't',\n",
       " 'h',\n",
       " 'e',\n",
       " ' ',\n",
       " 'G',\n",
       " 'r',\n",
       " 'e',\n",
       " 'a',\n",
       " 't',\n",
       " 'e',\n",
       " 's',\n",
       " 't',\n",
       " ' ',\n",
       " 'b',\n",
       " 'a',\n",
       " 't',\n",
       " 's',\n",
       " 'm',\n",
       " 'e',\n",
       " 'n',\n",
       " ' ',\n",
       " 'o',\n",
       " 'f',\n",
       " ' ',\n",
       " 'i',\n",
       " 'n',\n",
       " 'd',\n",
       " 'i',\n",
       " 'a',\n",
       " 'n',\n",
       " ' ',\n",
       " 'b',\n",
       " 'u',\n",
       " 't',\n",
       " ' ',\n",
       " 'N',\n",
       " 'o',\n",
       " 'w',\n",
       " ' ',\n",
       " 'V',\n",
       " 'i',\n",
       " 'r',\n",
       " 'a',\n",
       " 't',\n",
       " ' ',\n",
       " 'K',\n",
       " 'o',\n",
       " 'l',\n",
       " 'i',\n",
       " ' ',\n",
       " 'i',\n",
       " 's',\n",
       " ' ',\n",
       " 't',\n",
       " 'h',\n",
       " 'e',\n",
       " ' ',\n",
       " 'b',\n",
       " 'e',\n",
       " 's',\n",
       " 't',\n",
       " ' ',\n",
       " 'B',\n",
       " 'a',\n",
       " 't',\n",
       " 's',\n",
       " 'm',\n",
       " 'e',\n",
       " 'n']"
      ]
     },
     "execution_count": 37,
     "metadata": {},
     "output_type": "execute_result"
    }
   ],
   "source": [
    "m=\"Sachin Tendulkar was the Greatest batsmen of indian but Now Virat Koli is the best Batsmen\"\n",
    "\n",
    "[i for i in m]"
   ]
  },
  {
   "cell_type": "markdown",
   "id": "0726ae3c",
   "metadata": {},
   "source": [
    "# Checking the numbers in the list with the help of Boolean "
   ]
  },
  {
   "cell_type": "code",
   "execution_count": 38,
   "id": "268dbab3",
   "metadata": {},
   "outputs": [
    {
     "data": {
      "text/plain": [
       "[False,\n",
       " True,\n",
       " False,\n",
       " True,\n",
       " False,\n",
       " True,\n",
       " False,\n",
       " True,\n",
       " False,\n",
       " True,\n",
       " False,\n",
       " True,\n",
       " False,\n",
       " True,\n",
       " False,\n",
       " True,\n",
       " False,\n",
       " True,\n",
       " False]"
      ]
     },
     "execution_count": 38,
     "metadata": {},
     "output_type": "execute_result"
    }
   ],
   "source": [
    "l=[1,2,3,4,5,6,7,8,9,10,11,12,13,14,15,16,17,18,19]\n",
    "\n",
    "[i%2==0 for i in l]"
   ]
  },
  {
   "cell_type": "markdown",
   "id": "61bd3f3c",
   "metadata": {},
   "source": [
    "# Checking the Odd Numbers in the list with the help of list comprehension and Output Come Boolean"
   ]
  },
  {
   "cell_type": "code",
   "execution_count": 39,
   "id": "0daa1de7",
   "metadata": {},
   "outputs": [
    {
     "data": {
      "text/plain": [
       "[True,\n",
       " False,\n",
       " True,\n",
       " False,\n",
       " True,\n",
       " False,\n",
       " True,\n",
       " False,\n",
       " True,\n",
       " False,\n",
       " True,\n",
       " False,\n",
       " True,\n",
       " False,\n",
       " True,\n",
       " False,\n",
       " True,\n",
       " False,\n",
       " True,\n",
       " False,\n",
       " True,\n",
       " False,\n",
       " True,\n",
       " False,\n",
       " True,\n",
       " False,\n",
       " True,\n",
       " False,\n",
       " True,\n",
       " False]"
      ]
     },
     "execution_count": 39,
     "metadata": {},
     "output_type": "execute_result"
    }
   ],
   "source": [
    "l=[1,2,3,4,5,6,7,8,9,10,11,12,13,14,15,16,17,18,19,20,21,22,23,24,25,26,27,28,29,30]\n",
    "\n",
    "[i%2==1 for i in l]"
   ]
  },
  {
   "cell_type": "markdown",
   "id": "fbbe8f48",
   "metadata": {},
   "source": [
    "# Checking the prime numbers in the List with list Comprehension by if statement "
   ]
  },
  {
   "cell_type": "code",
   "execution_count": 40,
   "id": "a88a3dd3",
   "metadata": {},
   "outputs": [
    {
     "data": {
      "text/plain": [
       "[2, 4, 6, 8, 10, 12, 14, 16, 18, 20]"
      ]
     },
     "execution_count": 40,
     "metadata": {},
     "output_type": "execute_result"
    }
   ],
   "source": [
    "l=[1,2,3,4,5,6,7,8,9,10,11,12,13,14,15,16,17,18,19,20]\n",
    "\n",
    "[i for i in l if i%2==0]"
   ]
  },
  {
   "cell_type": "markdown",
   "id": "90572803",
   "metadata": {},
   "source": [
    "# Checking the Odd numbers in the List with list Comprehension by if statement "
   ]
  },
  {
   "cell_type": "code",
   "execution_count": 41,
   "id": "41af7df1",
   "metadata": {},
   "outputs": [
    {
     "data": {
      "text/plain": [
       "[1, 3, 5, 7, 9, 11, 13, 15, 17, 19, 21, 23, 25, 27, 29]"
      ]
     },
     "execution_count": 41,
     "metadata": {},
     "output_type": "execute_result"
    }
   ],
   "source": [
    "l=[1,2,3,4,5,6,7,8,9,10,11,12,13,14,15,16,17,18,19,20,21,22,23,24,25,26,27,28,29,30]\n",
    "\n",
    "[i for i in l if i%2==1]"
   ]
  },
  {
   "cell_type": "markdown",
   "id": "439ee93a",
   "metadata": {},
   "source": [
    "# Add the Numbers to list with list comprehension by giving if statement"
   ]
  },
  {
   "cell_type": "code",
   "execution_count": 42,
   "id": "d1ca76e4",
   "metadata": {},
   "outputs": [
    {
     "data": {
      "text/plain": [
       "[12, 14, 16, 18, 20, 22, 24, 26, 28, 30, 32, 34]"
      ]
     },
     "execution_count": 42,
     "metadata": {},
     "output_type": "execute_result"
    }
   ],
   "source": [
    "l=[1,2,3,4,5,6,7,8,9,10,11,12,13,14,15,16,17,18,19,20,21,22,23,24,25]\n",
    "\n",
    "[i+10 for i in l if i%2==0]"
   ]
  },
  {
   "cell_type": "code",
   "execution_count": 43,
   "id": "6a16d6fd",
   "metadata": {},
   "outputs": [
    {
     "name": "stdout",
     "output_type": "stream",
     "text": [
      "13\n",
      "15\n",
      "17\n",
      "19\n",
      "21\n",
      "23\n",
      "25\n",
      "27\n",
      "29\n",
      "31\n",
      "33\n",
      "35\n"
     ]
    }
   ],
   "source": [
    "for i in l:\n",
    "    if i%2==0:\n",
    "        print(i+11)"
   ]
  },
  {
   "cell_type": "code",
   "execution_count": 44,
   "id": "372ac9ab",
   "metadata": {},
   "outputs": [
    {
     "name": "stdout",
     "output_type": "stream",
     "text": [
      "small number\n",
      "small number\n",
      "small number\n",
      "small number\n",
      "small number\n",
      "large number\n",
      "large number\n",
      "large number\n",
      "large number\n",
      "large number\n",
      "large number\n",
      "large number\n",
      "large number\n",
      "large number\n",
      "large number\n",
      "large number\n",
      "large number\n",
      "large number\n",
      "large number\n",
      "large number\n"
     ]
    }
   ],
   "source": [
    "l=[1,2,3,4,5,6,7,8,9,10,11,12,13,14,15,16,17,18,19,20]\n",
    "\n",
    "for i in l:\n",
    "    if i>5:\n",
    "        print(\"large number\")\n",
    "    else:\n",
    "        print(\"small number\")"
   ]
  },
  {
   "cell_type": "code",
   "execution_count": 45,
   "id": "99dc2cca",
   "metadata": {},
   "outputs": [
    {
     "data": {
      "text/plain": [
       "[7, 8, 9, 10, 11, 12, 13, 14, 15, 16, 17, 18, 19, 20]"
      ]
     },
     "execution_count": 45,
     "metadata": {},
     "output_type": "execute_result"
    }
   ],
   "source": [
    "l=[1,2,3,4,5,6,7,8,9,10,11,12,13,14,15,16,17,18,19,20]\n",
    "\n",
    "[i for i in l if i>6]"
   ]
  },
  {
   "cell_type": "code",
   "execution_count": 46,
   "id": "1293830a",
   "metadata": {},
   "outputs": [
    {
     "data": {
      "text/plain": [
       "['largenumber',\n",
       " 'largenumber',\n",
       " 'largenumber',\n",
       " 'largenumber',\n",
       " 'largenumber',\n",
       " 'largenumber',\n",
       " 'largenumber',\n",
       " 'largenumber',\n",
       " 'largenumber',\n",
       " 'largenumber',\n",
       " 'largenumber',\n",
       " 'largenumber',\n",
       " 'largenumber',\n",
       " 'largenumber',\n",
       " 'largenumber']"
      ]
     },
     "execution_count": 46,
     "metadata": {},
     "output_type": "execute_result"
    }
   ],
   "source": [
    "['largenumber' for i in l if i>5]"
   ]
  },
  {
   "cell_type": "code",
   "execution_count": 47,
   "id": "6f692bf7",
   "metadata": {},
   "outputs": [
    {
     "data": {
      "text/plain": [
       "['small',\n",
       " 'small',\n",
       " 'small',\n",
       " 'small',\n",
       " 'small',\n",
       " 'large',\n",
       " 'large',\n",
       " 'large',\n",
       " 'large',\n",
       " 'large',\n",
       " 'large',\n",
       " 'large',\n",
       " 'large',\n",
       " 'large',\n",
       " 'large',\n",
       " 'large',\n",
       " 'large',\n",
       " 'large',\n",
       " 'large',\n",
       " 'large']"
      ]
     },
     "execution_count": 47,
     "metadata": {},
     "output_type": "execute_result"
    }
   ],
   "source": [
    "['large' if i>5 else 'small' for i in l]"
   ]
  },
  {
   "cell_type": "code",
   "execution_count": 48,
   "id": "d1996389",
   "metadata": {},
   "outputs": [
    {
     "data": {
      "text/plain": [
       "['small',\n",
       " 'small',\n",
       " 'small',\n",
       " 'small',\n",
       " 'small',\n",
       " 'large',\n",
       " 'large',\n",
       " 'large',\n",
       " 'large',\n",
       " 'large',\n",
       " 'large',\n",
       " 'large',\n",
       " 'large',\n",
       " 'large',\n",
       " 'large',\n",
       " 'large',\n",
       " 'large',\n",
       " 'large',\n",
       " 'large',\n",
       " 'large']"
      ]
     },
     "execution_count": 48,
     "metadata": {},
     "output_type": "execute_result"
    }
   ],
   "source": [
    "['large' if i>5 else 'small' for i in l]"
   ]
  },
  {
   "cell_type": "code",
   "execution_count": 49,
   "id": "3d9da5c2",
   "metadata": {},
   "outputs": [
    {
     "data": {
      "text/plain": [
       "['largenumber',\n",
       " 'largenumber',\n",
       " 'largenumber',\n",
       " 'largenumber',\n",
       " 'largenumber',\n",
       " 'largenumber',\n",
       " 'largenumber',\n",
       " 'largenumber',\n",
       " 'largenumber',\n",
       " 'largenumber',\n",
       " 'largenumber',\n",
       " 'largenumber',\n",
       " 'largenumber',\n",
       " 'largenumber',\n",
       " 'largenumber',\n",
       " 'largenumber']"
      ]
     },
     "execution_count": 49,
     "metadata": {},
     "output_type": "execute_result"
    }
   ],
   "source": [
    "['largenumber' for i in l if i>=5]"
   ]
  },
  {
   "cell_type": "code",
   "execution_count": 50,
   "id": "b8b4c089",
   "metadata": {},
   "outputs": [
    {
     "data": {
      "text/plain": [
       "[0, 0, 0, 0, 0, 1, 1, 1, 1, 1, 1, 1, 1, 1, 1]"
      ]
     },
     "execution_count": 50,
     "metadata": {},
     "output_type": "execute_result"
    }
   ],
   "source": [
    "l=[1,2,3,4,5,6,7,8,9,10,11,12,13,14,15]\n",
    "\n",
    "[1 if i>5 else 0 for i in l]"
   ]
  },
  {
   "cell_type": "code",
   "execution_count": 51,
   "id": "6d9146a9",
   "metadata": {},
   "outputs": [
    {
     "data": {
      "text/plain": [
       "[0, 0, 0, 1, 1, 1, 1]"
      ]
     },
     "execution_count": 51,
     "metadata": {},
     "output_type": "execute_result"
    }
   ],
   "source": [
    "l=['male','male','male','female','female','female','female']\n",
    "\n",
    "[0 if i== 'male' else 1 for i in l]"
   ]
  },
  {
   "cell_type": "markdown",
   "id": "a108f0cf",
   "metadata": {},
   "source": [
    "# While Loop \n",
    "# always you have to give :"
   ]
  },
  {
   "cell_type": "code",
   "execution_count": 52,
   "id": "b617f11d",
   "metadata": {},
   "outputs": [
    {
     "name": "stdout",
     "output_type": "stream",
     "text": [
      "20\n",
      "19\n",
      "18\n",
      "17\n",
      "16\n",
      "15\n",
      "14\n",
      "13\n",
      "12\n",
      "11\n",
      "10\n",
      "9\n",
      "8\n",
      "7\n",
      "6\n",
      "5\n",
      "4\n",
      "3\n",
      "2\n",
      "1\n"
     ]
    }
   ],
   "source": [
    "while i>0:\n",
    "    print(i)\n",
    "    i=i-1"
   ]
  },
  {
   "cell_type": "code",
   "execution_count": 56,
   "id": "29ed1160",
   "metadata": {},
   "outputs": [],
   "source": [
    "def who_you_are():\n",
    "    is_male=False\n",
    "    is_tall=True\n",
    "    if is_male and is_tall:\n",
    "        print(\"you are BAHUBALI\")\n",
    "    else:\n",
    "        print(\"your are KHATAPPA\")"
   ]
  },
  {
   "cell_type": "code",
   "execution_count": 57,
   "id": "f3ed1790",
   "metadata": {},
   "outputs": [
    {
     "name": "stdout",
     "output_type": "stream",
     "text": [
      "your are KHATAPPA\n"
     ]
    }
   ],
   "source": [
    "who_you_are()"
   ]
  },
  {
   "cell_type": "code",
   "execution_count": 59,
   "id": "c95ce2e8",
   "metadata": {},
   "outputs": [],
   "source": [
    "def suraj():\n",
    "    name=input('enter your name')\n",
    "    age=int(input('enter your age'))\n",
    "    print(f'your name is {name} and your age is {age}')\n",
    "    return(age)\n",
    "    return(name)\n"
   ]
  },
  {
   "cell_type": "code",
   "execution_count": 60,
   "id": "9c7f1739",
   "metadata": {},
   "outputs": [
    {
     "name": "stdout",
     "output_type": "stream",
     "text": [
      "enter your namesuraj y vegga\n",
      "enter your age28\n",
      "your name is suraj y vegga and your age is 28\n"
     ]
    },
    {
     "data": {
      "text/plain": [
       "28"
      ]
     },
     "execution_count": 60,
     "metadata": {},
     "output_type": "execute_result"
    }
   ],
   "source": [
    "suraj()"
   ]
  },
  {
   "cell_type": "code",
   "execution_count": 1,
   "id": "9dec6368",
   "metadata": {},
   "outputs": [],
   "source": [
    "def suraj():\n",
    "    name=input(\"enter your name: \")\n",
    "    age=int(input(\"enter your age: \"))\n",
    "    weight =int(input('enter your weight: '))\n",
    "    print(f\"your name is {name} and your age is {age} and your weight is {weight}\")\n",
    "    return(age)\n",
    "    return(name)\n",
    "    return(weight)\n",
    "\n"
   ]
  },
  {
   "cell_type": "code",
   "execution_count": 2,
   "id": "81e33b9d",
   "metadata": {},
   "outputs": [
    {
     "name": "stdout",
     "output_type": "stream",
     "text": [
      "enter your name: suraj y veggalam\n",
      "enter your age: 21\n",
      "enter your weight: 73\n",
      "your name is suraj y veggalam and your age is 21 and your weight is 73\n"
     ]
    },
    {
     "data": {
      "text/plain": [
       "21"
      ]
     },
     "execution_count": 2,
     "metadata": {},
     "output_type": "execute_result"
    }
   ],
   "source": [
    "suraj()"
   ]
  },
  {
   "cell_type": "code",
   "execution_count": 3,
   "id": "26f09e1a",
   "metadata": {},
   "outputs": [],
   "source": [
    "def suraj():\n",
    "    name=input(\"enter your name: \")\n",
    "    age=int(input(\"enter your age: \"))\n",
    "    weight =int(input('enter your weight: '))\n",
    "    print(f\"your name is {name} and your age is {age} and your weight is {weight}\")\n",
    "    return(age)\n",
    "    return(name)\n",
    "    return(weight)\n",
    "\n"
   ]
  },
  {
   "cell_type": "code",
   "execution_count": 4,
   "id": "6a65137c",
   "metadata": {},
   "outputs": [
    {
     "name": "stdout",
     "output_type": "stream",
     "text": [
      "enter your name: suraj y veggalam\n",
      "enter your age: 29\n",
      "enter your weight: 79\n",
      "your name is suraj y veggalam and your age is 29 and your weight is 79\n"
     ]
    },
    {
     "data": {
      "text/plain": [
       "29"
      ]
     },
     "execution_count": 4,
     "metadata": {},
     "output_type": "execute_result"
    }
   ],
   "source": [
    "suraj()"
   ]
  },
  {
   "cell_type": "code",
   "execution_count": 5,
   "id": "f490f1f4",
   "metadata": {},
   "outputs": [],
   "source": [
    "l=[1,2,3,4,5,6,7,8,9,10,11,12,13,14,15,16,17,18,19,20]\n",
    "\n",
    "def evenid(l):\n",
    "    for i in l:\n",
    "        if i%2==0:\n",
    "            print(i)"
   ]
  },
  {
   "cell_type": "code",
   "execution_count": 7,
   "id": "306c10c6",
   "metadata": {},
   "outputs": [
    {
     "name": "stdout",
     "output_type": "stream",
     "text": [
      "2\n",
      "4\n",
      "6\n",
      "8\n",
      "10\n",
      "12\n",
      "14\n",
      "16\n",
      "18\n",
      "20\n"
     ]
    }
   ],
   "source": [
    "evenid(l)"
   ]
  },
  {
   "cell_type": "code",
   "execution_count": 8,
   "id": "a2f2340e",
   "metadata": {},
   "outputs": [],
   "source": [
    "def evenid(l):\n",
    "    for i in l:\n",
    "        if i%2==1:\n",
    "            print(i)"
   ]
  },
  {
   "cell_type": "code",
   "execution_count": 9,
   "id": "81809f88",
   "metadata": {},
   "outputs": [
    {
     "name": "stdout",
     "output_type": "stream",
     "text": [
      "1\n",
      "3\n",
      "5\n",
      "7\n",
      "9\n",
      "11\n",
      "13\n",
      "15\n",
      "17\n",
      "19\n"
     ]
    }
   ],
   "source": [
    "evenid(l)"
   ]
  },
  {
   "cell_type": "code",
   "execution_count": 13,
   "id": "77b124c7",
   "metadata": {},
   "outputs": [],
   "source": [
    "f = lambda x: x%2==0"
   ]
  },
  {
   "cell_type": "code",
   "execution_count": 14,
   "id": "f43b6554",
   "metadata": {},
   "outputs": [
    {
     "data": {
      "text/plain": [
       "<function __main__.<lambda>(x)>"
      ]
     },
     "execution_count": 14,
     "metadata": {},
     "output_type": "execute_result"
    }
   ],
   "source": [
    "f"
   ]
  },
  {
   "cell_type": "code",
   "execution_count": 15,
   "id": "fb4c99eb",
   "metadata": {},
   "outputs": [
    {
     "data": {
      "text/plain": [
       "[False,\n",
       " True,\n",
       " False,\n",
       " True,\n",
       " False,\n",
       " True,\n",
       " False,\n",
       " True,\n",
       " False,\n",
       " True,\n",
       " False,\n",
       " True,\n",
       " False,\n",
       " True,\n",
       " False,\n",
       " True,\n",
       " False,\n",
       " True,\n",
       " False,\n",
       " True]"
      ]
     },
     "execution_count": 15,
     "metadata": {},
     "output_type": "execute_result"
    }
   ],
   "source": [
    "list(map(f,l))"
   ]
  },
  {
   "cell_type": "code",
   "execution_count": 16,
   "id": "08150c6a",
   "metadata": {},
   "outputs": [
    {
     "data": {
      "text/plain": [
       "[True,\n",
       " False,\n",
       " True,\n",
       " False,\n",
       " True,\n",
       " False,\n",
       " True,\n",
       " False,\n",
       " True,\n",
       " False,\n",
       " True,\n",
       " False,\n",
       " True,\n",
       " False,\n",
       " True,\n",
       " False,\n",
       " True,\n",
       " False,\n",
       " True,\n",
       " False]"
      ]
     },
     "execution_count": 16,
     "metadata": {},
     "output_type": "execute_result"
    }
   ],
   "source": [
    "f=lambda x: x%2==1\n",
    "f\n",
    "\n",
    "list(map(f,l))"
   ]
  },
  {
   "cell_type": "code",
   "execution_count": 17,
   "id": "f94a3277",
   "metadata": {},
   "outputs": [
    {
     "data": {
      "text/plain": [
       "[1,\n",
       " 4,\n",
       " 9,\n",
       " 16,\n",
       " 25,\n",
       " 36,\n",
       " 49,\n",
       " 64,\n",
       " 81,\n",
       " 100,\n",
       " 121,\n",
       " 144,\n",
       " 169,\n",
       " 196,\n",
       " 225,\n",
       " 256,\n",
       " 289,\n",
       " 324,\n",
       " 361,\n",
       " 400]"
      ]
     },
     "execution_count": 17,
     "metadata": {},
     "output_type": "execute_result"
    }
   ],
   "source": [
    "f=lambda x: x**2\n",
    "f\n",
    "\n",
    "list(map(f,l))"
   ]
  },
  {
   "cell_type": "code",
   "execution_count": 18,
   "id": "a4b8b4d5",
   "metadata": {},
   "outputs": [
    {
     "data": {
      "text/plain": [
       "[2, 3, 4, 5, 6, 7, 8, 9, 10, 11, 12, 13, 14, 15, 16, 17, 18, 19, 20, 21]"
      ]
     },
     "execution_count": 18,
     "metadata": {},
     "output_type": "execute_result"
    }
   ],
   "source": [
    "f=lambda x: x++1\n",
    "f\n",
    "\n",
    "list(map(f,l))"
   ]
  },
  {
   "cell_type": "code",
   "execution_count": 19,
   "id": "5cf2932a",
   "metadata": {},
   "outputs": [
    {
     "data": {
      "text/plain": [
       "[0, 1, 2, 3, 4, 5, 6, 7, 8, 9, 10, 11, 12, 13, 14, 15, 16, 17, 18, 19]"
      ]
     },
     "execution_count": 19,
     "metadata": {},
     "output_type": "execute_result"
    }
   ],
   "source": [
    "f=lambda x: x-1\n",
    "f\n",
    "\n",
    "list(map(f,l))"
   ]
  },
  {
   "cell_type": "code",
   "execution_count": 21,
   "id": "aaff580c",
   "metadata": {},
   "outputs": [
    {
     "data": {
      "text/plain": [
       "(11,\n",
       " 12,\n",
       " 13,\n",
       " 14,\n",
       " 15,\n",
       " 16,\n",
       " 17,\n",
       " 18,\n",
       " 19,\n",
       " 20,\n",
       " 21,\n",
       " 22,\n",
       " 23,\n",
       " 24,\n",
       " 25,\n",
       " 26,\n",
       " 27,\n",
       " 28,\n",
       " 29,\n",
       " 30)"
      ]
     },
     "execution_count": 21,
     "metadata": {},
     "output_type": "execute_result"
    }
   ],
   "source": [
    "l=[1,2,3,4,5,6,7,8,9,10,11,12,13,14,15,16,17,18,19,20]\n",
    "\n",
    "f=lambda x: x+10\n",
    "\n",
    "f\n",
    "\n",
    "tuple(map(f,l))"
   ]
  },
  {
   "cell_type": "code",
   "execution_count": 22,
   "id": "355bd672",
   "metadata": {},
   "outputs": [
    {
     "data": {
      "text/plain": [
       "{101,\n",
       " 102,\n",
       " 103,\n",
       " 104,\n",
       " 105,\n",
       " 106,\n",
       " 107,\n",
       " 108,\n",
       " 109,\n",
       " 110,\n",
       " 111,\n",
       " 112,\n",
       " 113,\n",
       " 114,\n",
       " 115,\n",
       " 116,\n",
       " 117,\n",
       " 118,\n",
       " 119,\n",
       " 120}"
      ]
     },
     "execution_count": 22,
     "metadata": {},
     "output_type": "execute_result"
    }
   ],
   "source": [
    "f =lambda x: x+100\n",
    "\n",
    "f\n",
    "\n",
    "set(map(f,l))"
   ]
  },
  {
   "cell_type": "code",
   "execution_count": 24,
   "id": "2eef68a7",
   "metadata": {},
   "outputs": [
    {
     "data": {
      "text/plain": [
       "[100,\n",
       " 200,\n",
       " 300,\n",
       " 400,\n",
       " 500,\n",
       " 600,\n",
       " 700,\n",
       " 800,\n",
       " 900,\n",
       " 1000,\n",
       " 1100,\n",
       " 1200,\n",
       " 1300,\n",
       " 1400,\n",
       " 1500,\n",
       " 1600,\n",
       " 1700,\n",
       " 1800,\n",
       " 1900,\n",
       " 2000]"
      ]
     },
     "execution_count": 24,
     "metadata": {},
     "output_type": "execute_result"
    }
   ],
   "source": [
    "f =lambda x: x*100\n",
    "\n",
    "f\n",
    "\n",
    "list(map(f,l))"
   ]
  },
  {
   "cell_type": "code",
   "execution_count": 1,
   "id": "9d029827",
   "metadata": {},
   "outputs": [
    {
     "data": {
      "text/plain": [
       "str"
      ]
     },
     "execution_count": 1,
     "metadata": {},
     "output_type": "execute_result"
    }
   ],
   "source": [
    "l=[1,2,3,4,5,6]\n",
    "\n",
    "f=lambda s: str(s)\n",
    "\n",
    "ls = list(map(f,l))\n",
    "\n",
    "type(ls[1])"
   ]
  },
  {
   "cell_type": "markdown",
   "id": "e1d76bd2",
   "metadata": {},
   "source": [
    "# Pandas are used to create dataframe and manipulte with dataframe and play with dataframe"
   ]
  },
  {
   "cell_type": "code",
   "execution_count": 2,
   "id": "e9b7258e",
   "metadata": {},
   "outputs": [],
   "source": [
    "import pandas as pd"
   ]
  },
  {
   "cell_type": "code",
   "execution_count": 4,
   "id": "cd598ad6",
   "metadata": {},
   "outputs": [
    {
     "data": {
      "text/html": [
       "<div>\n",
       "<style scoped>\n",
       "    .dataframe tbody tr th:only-of-type {\n",
       "        vertical-align: middle;\n",
       "    }\n",
       "\n",
       "    .dataframe tbody tr th {\n",
       "        vertical-align: top;\n",
       "    }\n",
       "\n",
       "    .dataframe thead th {\n",
       "        text-align: right;\n",
       "    }\n",
       "</style>\n",
       "<table border=\"1\" class=\"dataframe\">\n",
       "  <thead>\n",
       "    <tr style=\"text-align: right;\">\n",
       "      <th></th>\n",
       "      <th>names</th>\n",
       "      <th>Marks</th>\n",
       "      <th>RollNo.</th>\n",
       "    </tr>\n",
       "  </thead>\n",
       "  <tbody>\n",
       "    <tr>\n",
       "      <th>0</th>\n",
       "      <td>1</td>\n",
       "      <td>122</td>\n",
       "      <td>200</td>\n",
       "    </tr>\n",
       "    <tr>\n",
       "      <th>1</th>\n",
       "      <td>2</td>\n",
       "      <td>133</td>\n",
       "      <td>300</td>\n",
       "    </tr>\n",
       "    <tr>\n",
       "      <th>2</th>\n",
       "      <td>3</td>\n",
       "      <td>144</td>\n",
       "      <td>400</td>\n",
       "    </tr>\n",
       "    <tr>\n",
       "      <th>3</th>\n",
       "      <td>4</td>\n",
       "      <td>155</td>\n",
       "      <td>500</td>\n",
       "    </tr>\n",
       "    <tr>\n",
       "      <th>4</th>\n",
       "      <td>5</td>\n",
       "      <td>166</td>\n",
       "      <td>600</td>\n",
       "    </tr>\n",
       "  </tbody>\n",
       "</table>\n",
       "</div>"
      ],
      "text/plain": [
       "   names  Marks  RollNo.\n",
       "0      1    122      200\n",
       "1      2    133      300\n",
       "2      3    144      400\n",
       "3      4    155      500\n",
       "4      5    166      600"
      ]
     },
     "execution_count": 4,
     "metadata": {},
     "output_type": "execute_result"
    }
   ],
   "source": [
    "l1=[1,2,3,4,5]\n",
    "l2=[122,133,144,155,166]\n",
    "l3=[200,300,400,500,600]\n",
    "\n",
    "df = pd.DataFrame(columns=['names','Marks','RollNo.'])\n",
    "\n",
    "df['names']=l1\n",
    "df['Marks']=l2\n",
    "df['RollNo.']=l3\n",
    "\n",
    "df"
   ]
  },
  {
   "cell_type": "markdown",
   "id": "4b580430",
   "metadata": {},
   "source": [
    "# how to convert dictionary to Dataframe"
   ]
  },
  {
   "cell_type": "code",
   "execution_count": 5,
   "id": "112ad97e",
   "metadata": {},
   "outputs": [
    {
     "data": {
      "text/plain": [
       "dict_keys(['names', 'age'])"
      ]
     },
     "execution_count": 5,
     "metadata": {},
     "output_type": "execute_result"
    }
   ],
   "source": [
    "d= {'names':['suraj','superman','ironman','krish'],'age':[22,23,24,25]}\n",
    "\n",
    "d.keys()"
   ]
  },
  {
   "cell_type": "code",
   "execution_count": 6,
   "id": "e3505845",
   "metadata": {},
   "outputs": [],
   "source": [
    "df=pd.DataFrame(d)"
   ]
  },
  {
   "cell_type": "code",
   "execution_count": 7,
   "id": "1a9e75e0",
   "metadata": {},
   "outputs": [
    {
     "data": {
      "text/html": [
       "<div>\n",
       "<style scoped>\n",
       "    .dataframe tbody tr th:only-of-type {\n",
       "        vertical-align: middle;\n",
       "    }\n",
       "\n",
       "    .dataframe tbody tr th {\n",
       "        vertical-align: top;\n",
       "    }\n",
       "\n",
       "    .dataframe thead th {\n",
       "        text-align: right;\n",
       "    }\n",
       "</style>\n",
       "<table border=\"1\" class=\"dataframe\">\n",
       "  <thead>\n",
       "    <tr style=\"text-align: right;\">\n",
       "      <th></th>\n",
       "      <th>names</th>\n",
       "      <th>age</th>\n",
       "    </tr>\n",
       "  </thead>\n",
       "  <tbody>\n",
       "    <tr>\n",
       "      <th>0</th>\n",
       "      <td>suraj</td>\n",
       "      <td>22</td>\n",
       "    </tr>\n",
       "    <tr>\n",
       "      <th>1</th>\n",
       "      <td>superman</td>\n",
       "      <td>23</td>\n",
       "    </tr>\n",
       "    <tr>\n",
       "      <th>2</th>\n",
       "      <td>ironman</td>\n",
       "      <td>24</td>\n",
       "    </tr>\n",
       "    <tr>\n",
       "      <th>3</th>\n",
       "      <td>krish</td>\n",
       "      <td>25</td>\n",
       "    </tr>\n",
       "  </tbody>\n",
       "</table>\n",
       "</div>"
      ],
      "text/plain": [
       "      names  age\n",
       "0     suraj   22\n",
       "1  superman   23\n",
       "2   ironman   24\n",
       "3     krish   25"
      ]
     },
     "execution_count": 7,
     "metadata": {},
     "output_type": "execute_result"
    }
   ],
   "source": [
    "df"
   ]
  },
  {
   "cell_type": "code",
   "execution_count": 8,
   "id": "acc2c153",
   "metadata": {},
   "outputs": [
    {
     "data": {
      "text/html": [
       "<div>\n",
       "<style scoped>\n",
       "    .dataframe tbody tr th:only-of-type {\n",
       "        vertical-align: middle;\n",
       "    }\n",
       "\n",
       "    .dataframe tbody tr th {\n",
       "        vertical-align: top;\n",
       "    }\n",
       "\n",
       "    .dataframe thead th {\n",
       "        text-align: right;\n",
       "    }\n",
       "</style>\n",
       "<table border=\"1\" class=\"dataframe\">\n",
       "  <thead>\n",
       "    <tr style=\"text-align: right;\">\n",
       "      <th></th>\n",
       "      <th>names</th>\n",
       "      <th>age</th>\n",
       "    </tr>\n",
       "  </thead>\n",
       "  <tbody>\n",
       "    <tr>\n",
       "      <th>0</th>\n",
       "      <td>suraj</td>\n",
       "      <td>22</td>\n",
       "    </tr>\n",
       "    <tr>\n",
       "      <th>1</th>\n",
       "      <td>superman</td>\n",
       "      <td>23</td>\n",
       "    </tr>\n",
       "    <tr>\n",
       "      <th>2</th>\n",
       "      <td>ironman</td>\n",
       "      <td>24</td>\n",
       "    </tr>\n",
       "    <tr>\n",
       "      <th>3</th>\n",
       "      <td>krish</td>\n",
       "      <td>25</td>\n",
       "    </tr>\n",
       "  </tbody>\n",
       "</table>\n",
       "</div>"
      ],
      "text/plain": [
       "      names  age\n",
       "0     suraj   22\n",
       "1  superman   23\n",
       "2   ironman   24\n",
       "3     krish   25"
      ]
     },
     "execution_count": 8,
     "metadata": {},
     "output_type": "execute_result"
    }
   ],
   "source": [
    "df.tail()"
   ]
  },
  {
   "cell_type": "code",
   "execution_count": 9,
   "id": "ebf12b34",
   "metadata": {},
   "outputs": [
    {
     "data": {
      "text/html": [
       "<div>\n",
       "<style scoped>\n",
       "    .dataframe tbody tr th:only-of-type {\n",
       "        vertical-align: middle;\n",
       "    }\n",
       "\n",
       "    .dataframe tbody tr th {\n",
       "        vertical-align: top;\n",
       "    }\n",
       "\n",
       "    .dataframe thead th {\n",
       "        text-align: right;\n",
       "    }\n",
       "</style>\n",
       "<table border=\"1\" class=\"dataframe\">\n",
       "  <thead>\n",
       "    <tr style=\"text-align: right;\">\n",
       "      <th></th>\n",
       "      <th>names</th>\n",
       "      <th>age</th>\n",
       "    </tr>\n",
       "  </thead>\n",
       "  <tbody>\n",
       "    <tr>\n",
       "      <th>0</th>\n",
       "      <td>suraj</td>\n",
       "      <td>22</td>\n",
       "    </tr>\n",
       "    <tr>\n",
       "      <th>1</th>\n",
       "      <td>superman</td>\n",
       "      <td>23</td>\n",
       "    </tr>\n",
       "    <tr>\n",
       "      <th>2</th>\n",
       "      <td>ironman</td>\n",
       "      <td>24</td>\n",
       "    </tr>\n",
       "    <tr>\n",
       "      <th>3</th>\n",
       "      <td>krish</td>\n",
       "      <td>25</td>\n",
       "    </tr>\n",
       "  </tbody>\n",
       "</table>\n",
       "</div>"
      ],
      "text/plain": [
       "      names  age\n",
       "0     suraj   22\n",
       "1  superman   23\n",
       "2   ironman   24\n",
       "3     krish   25"
      ]
     },
     "execution_count": 9,
     "metadata": {},
     "output_type": "execute_result"
    }
   ],
   "source": [
    "df.head()"
   ]
  },
  {
   "cell_type": "code",
   "execution_count": 10,
   "id": "6e43985a",
   "metadata": {},
   "outputs": [],
   "source": [
    "df['Marks']=[22,33,44,55]"
   ]
  },
  {
   "cell_type": "code",
   "execution_count": 11,
   "id": "480a1886",
   "metadata": {},
   "outputs": [
    {
     "data": {
      "text/html": [
       "<div>\n",
       "<style scoped>\n",
       "    .dataframe tbody tr th:only-of-type {\n",
       "        vertical-align: middle;\n",
       "    }\n",
       "\n",
       "    .dataframe tbody tr th {\n",
       "        vertical-align: top;\n",
       "    }\n",
       "\n",
       "    .dataframe thead th {\n",
       "        text-align: right;\n",
       "    }\n",
       "</style>\n",
       "<table border=\"1\" class=\"dataframe\">\n",
       "  <thead>\n",
       "    <tr style=\"text-align: right;\">\n",
       "      <th></th>\n",
       "      <th>names</th>\n",
       "      <th>age</th>\n",
       "      <th>Marks</th>\n",
       "    </tr>\n",
       "  </thead>\n",
       "  <tbody>\n",
       "    <tr>\n",
       "      <th>0</th>\n",
       "      <td>suraj</td>\n",
       "      <td>22</td>\n",
       "      <td>22</td>\n",
       "    </tr>\n",
       "    <tr>\n",
       "      <th>1</th>\n",
       "      <td>superman</td>\n",
       "      <td>23</td>\n",
       "      <td>33</td>\n",
       "    </tr>\n",
       "    <tr>\n",
       "      <th>2</th>\n",
       "      <td>ironman</td>\n",
       "      <td>24</td>\n",
       "      <td>44</td>\n",
       "    </tr>\n",
       "    <tr>\n",
       "      <th>3</th>\n",
       "      <td>krish</td>\n",
       "      <td>25</td>\n",
       "      <td>55</td>\n",
       "    </tr>\n",
       "  </tbody>\n",
       "</table>\n",
       "</div>"
      ],
      "text/plain": [
       "      names  age  Marks\n",
       "0     suraj   22     22\n",
       "1  superman   23     33\n",
       "2   ironman   24     44\n",
       "3     krish   25     55"
      ]
     },
     "execution_count": 11,
     "metadata": {},
     "output_type": "execute_result"
    }
   ],
   "source": [
    "df"
   ]
  },
  {
   "cell_type": "code",
   "execution_count": 12,
   "id": "27042511",
   "metadata": {},
   "outputs": [
    {
     "data": {
      "text/html": [
       "<div>\n",
       "<style scoped>\n",
       "    .dataframe tbody tr th:only-of-type {\n",
       "        vertical-align: middle;\n",
       "    }\n",
       "\n",
       "    .dataframe tbody tr th {\n",
       "        vertical-align: top;\n",
       "    }\n",
       "\n",
       "    .dataframe thead th {\n",
       "        text-align: right;\n",
       "    }\n",
       "</style>\n",
       "<table border=\"1\" class=\"dataframe\">\n",
       "  <thead>\n",
       "    <tr style=\"text-align: right;\">\n",
       "      <th></th>\n",
       "      <th>names</th>\n",
       "      <th>age</th>\n",
       "      <th>Marks</th>\n",
       "      <th>Subject</th>\n",
       "    </tr>\n",
       "  </thead>\n",
       "  <tbody>\n",
       "    <tr>\n",
       "      <th>0</th>\n",
       "      <td>suraj</td>\n",
       "      <td>22</td>\n",
       "      <td>22</td>\n",
       "      <td>Statistics</td>\n",
       "    </tr>\n",
       "    <tr>\n",
       "      <th>1</th>\n",
       "      <td>superman</td>\n",
       "      <td>23</td>\n",
       "      <td>33</td>\n",
       "      <td>Mathematics</td>\n",
       "    </tr>\n",
       "    <tr>\n",
       "      <th>2</th>\n",
       "      <td>ironman</td>\n",
       "      <td>24</td>\n",
       "      <td>44</td>\n",
       "      <td>Physics</td>\n",
       "    </tr>\n",
       "    <tr>\n",
       "      <th>3</th>\n",
       "      <td>krish</td>\n",
       "      <td>25</td>\n",
       "      <td>55</td>\n",
       "      <td>Chemistry</td>\n",
       "    </tr>\n",
       "  </tbody>\n",
       "</table>\n",
       "</div>"
      ],
      "text/plain": [
       "      names  age  Marks      Subject\n",
       "0     suraj   22     22   Statistics\n",
       "1  superman   23     33  Mathematics\n",
       "2   ironman   24     44      Physics\n",
       "3     krish   25     55    Chemistry"
      ]
     },
     "execution_count": 12,
     "metadata": {},
     "output_type": "execute_result"
    }
   ],
   "source": [
    "df['Subject']=['Statistics','Mathematics','Physics','Chemistry']\n",
    "df"
   ]
  },
  {
   "cell_type": "code",
   "execution_count": 13,
   "id": "91300794",
   "metadata": {},
   "outputs": [
    {
     "data": {
      "text/html": [
       "<div>\n",
       "<style scoped>\n",
       "    .dataframe tbody tr th:only-of-type {\n",
       "        vertical-align: middle;\n",
       "    }\n",
       "\n",
       "    .dataframe tbody tr th {\n",
       "        vertical-align: top;\n",
       "    }\n",
       "\n",
       "    .dataframe thead th {\n",
       "        text-align: right;\n",
       "    }\n",
       "</style>\n",
       "<table border=\"1\" class=\"dataframe\">\n",
       "  <thead>\n",
       "    <tr style=\"text-align: right;\">\n",
       "      <th></th>\n",
       "      <th>names</th>\n",
       "      <th>age</th>\n",
       "      <th>Marks</th>\n",
       "      <th>Subject</th>\n",
       "      <th>Total</th>\n",
       "    </tr>\n",
       "  </thead>\n",
       "  <tbody>\n",
       "    <tr>\n",
       "      <th>0</th>\n",
       "      <td>suraj</td>\n",
       "      <td>22</td>\n",
       "      <td>22</td>\n",
       "      <td>Statistics</td>\n",
       "      <td>100</td>\n",
       "    </tr>\n",
       "    <tr>\n",
       "      <th>1</th>\n",
       "      <td>superman</td>\n",
       "      <td>23</td>\n",
       "      <td>33</td>\n",
       "      <td>Mathematics</td>\n",
       "      <td>100</td>\n",
       "    </tr>\n",
       "    <tr>\n",
       "      <th>2</th>\n",
       "      <td>ironman</td>\n",
       "      <td>24</td>\n",
       "      <td>44</td>\n",
       "      <td>Physics</td>\n",
       "      <td>100</td>\n",
       "    </tr>\n",
       "    <tr>\n",
       "      <th>3</th>\n",
       "      <td>krish</td>\n",
       "      <td>25</td>\n",
       "      <td>55</td>\n",
       "      <td>Chemistry</td>\n",
       "      <td>100</td>\n",
       "    </tr>\n",
       "  </tbody>\n",
       "</table>\n",
       "</div>"
      ],
      "text/plain": [
       "      names  age  Marks      Subject  Total\n",
       "0     suraj   22     22   Statistics    100\n",
       "1  superman   23     33  Mathematics    100\n",
       "2   ironman   24     44      Physics    100\n",
       "3     krish   25     55    Chemistry    100"
      ]
     },
     "execution_count": 13,
     "metadata": {},
     "output_type": "execute_result"
    }
   ],
   "source": [
    "df['Total']=[100,100,100,100]\n",
    "df"
   ]
  },
  {
   "cell_type": "code",
   "execution_count": 14,
   "id": "f7c048e9",
   "metadata": {},
   "outputs": [
    {
     "data": {
      "text/html": [
       "<div>\n",
       "<style scoped>\n",
       "    .dataframe tbody tr th:only-of-type {\n",
       "        vertical-align: middle;\n",
       "    }\n",
       "\n",
       "    .dataframe tbody tr th {\n",
       "        vertical-align: top;\n",
       "    }\n",
       "\n",
       "    .dataframe thead th {\n",
       "        text-align: right;\n",
       "    }\n",
       "</style>\n",
       "<table border=\"1\" class=\"dataframe\">\n",
       "  <thead>\n",
       "    <tr style=\"text-align: right;\">\n",
       "      <th></th>\n",
       "      <th>names</th>\n",
       "      <th>age</th>\n",
       "      <th>Marks</th>\n",
       "      <th>Subject</th>\n",
       "      <th>Total</th>\n",
       "      <th>percentage</th>\n",
       "    </tr>\n",
       "  </thead>\n",
       "  <tbody>\n",
       "    <tr>\n",
       "      <th>0</th>\n",
       "      <td>suraj</td>\n",
       "      <td>22</td>\n",
       "      <td>22</td>\n",
       "      <td>Statistics</td>\n",
       "      <td>100</td>\n",
       "      <td>98</td>\n",
       "    </tr>\n",
       "    <tr>\n",
       "      <th>1</th>\n",
       "      <td>superman</td>\n",
       "      <td>23</td>\n",
       "      <td>33</td>\n",
       "      <td>Mathematics</td>\n",
       "      <td>100</td>\n",
       "      <td>88</td>\n",
       "    </tr>\n",
       "    <tr>\n",
       "      <th>2</th>\n",
       "      <td>ironman</td>\n",
       "      <td>24</td>\n",
       "      <td>44</td>\n",
       "      <td>Physics</td>\n",
       "      <td>100</td>\n",
       "      <td>77</td>\n",
       "    </tr>\n",
       "    <tr>\n",
       "      <th>3</th>\n",
       "      <td>krish</td>\n",
       "      <td>25</td>\n",
       "      <td>55</td>\n",
       "      <td>Chemistry</td>\n",
       "      <td>100</td>\n",
       "      <td>44</td>\n",
       "    </tr>\n",
       "  </tbody>\n",
       "</table>\n",
       "</div>"
      ],
      "text/plain": [
       "      names  age  Marks      Subject  Total  percentage\n",
       "0     suraj   22     22   Statistics    100          98\n",
       "1  superman   23     33  Mathematics    100          88\n",
       "2   ironman   24     44      Physics    100          77\n",
       "3     krish   25     55    Chemistry    100          44"
      ]
     },
     "execution_count": 14,
     "metadata": {},
     "output_type": "execute_result"
    }
   ],
   "source": [
    "df['percentage']=[98,88,77,44]\n",
    "df"
   ]
  },
  {
   "cell_type": "code",
   "execution_count": 15,
   "id": "2779ac26",
   "metadata": {},
   "outputs": [],
   "source": [
    "import pandas as pd"
   ]
  },
  {
   "cell_type": "code",
   "execution_count": 16,
   "id": "6e677246",
   "metadata": {},
   "outputs": [],
   "source": [
    "l=[1,2,3,4,5,6,7]"
   ]
  },
  {
   "cell_type": "code",
   "execution_count": 17,
   "id": "25761ad7",
   "metadata": {},
   "outputs": [
    {
     "data": {
      "text/plain": [
       "pandas.core.series.Series"
      ]
     },
     "execution_count": 17,
     "metadata": {},
     "output_type": "execute_result"
    }
   ],
   "source": [
    "s=pd.Series(l)\n",
    "type(s)"
   ]
  },
  {
   "cell_type": "code",
   "execution_count": 18,
   "id": "e6a3b97a",
   "metadata": {},
   "outputs": [
    {
     "name": "stdout",
     "output_type": "stream",
     "text": [
      "0    4\n",
      "1    5\n",
      "2    6\n",
      "3    7\n",
      "4    8\n",
      "5    9\n",
      "dtype: int64\n",
      "0    1\n",
      "1    2\n",
      "2    3\n",
      "3    4\n",
      "4    5\n",
      "5    6\n",
      "6    7\n",
      "dtype: int64\n"
     ]
    }
   ],
   "source": [
    "t=(4,5,6,7,8,9)\n",
    "\n",
    "s1=pd.Series(t)\n",
    "\n",
    "type(s1)\n",
    "print(s1)\n",
    "print(s)"
   ]
  },
  {
   "cell_type": "code",
   "execution_count": 19,
   "id": "fdfdb367",
   "metadata": {},
   "outputs": [
    {
     "data": {
      "text/html": [
       "<div>\n",
       "<style scoped>\n",
       "    .dataframe tbody tr th:only-of-type {\n",
       "        vertical-align: middle;\n",
       "    }\n",
       "\n",
       "    .dataframe tbody tr th {\n",
       "        vertical-align: top;\n",
       "    }\n",
       "\n",
       "    .dataframe thead th {\n",
       "        text-align: right;\n",
       "    }\n",
       "</style>\n",
       "<table border=\"1\" class=\"dataframe\">\n",
       "  <thead>\n",
       "    <tr style=\"text-align: right;\">\n",
       "      <th></th>\n",
       "      <th>0</th>\n",
       "    </tr>\n",
       "  </thead>\n",
       "  <tbody>\n",
       "    <tr>\n",
       "      <th>4</th>\n",
       "      <td>5.0</td>\n",
       "    </tr>\n",
       "    <tr>\n",
       "      <th>5</th>\n",
       "      <td>6.0</td>\n",
       "    </tr>\n",
       "    <tr>\n",
       "      <th>6</th>\n",
       "      <td>7.0</td>\n",
       "    </tr>\n",
       "    <tr>\n",
       "      <th>7</th>\n",
       "      <td>NaN</td>\n",
       "    </tr>\n",
       "    <tr>\n",
       "      <th>8</th>\n",
       "      <td>NaN</td>\n",
       "    </tr>\n",
       "    <tr>\n",
       "      <th>9</th>\n",
       "      <td>NaN</td>\n",
       "    </tr>\n",
       "  </tbody>\n",
       "</table>\n",
       "</div>"
      ],
      "text/plain": [
       "     0\n",
       "4  5.0\n",
       "5  6.0\n",
       "6  7.0\n",
       "7  NaN\n",
       "8  NaN\n",
       "9  NaN"
      ]
     },
     "execution_count": 19,
     "metadata": {},
     "output_type": "execute_result"
    }
   ],
   "source": [
    "pd.DataFrame(s,s1)"
   ]
  },
  {
   "cell_type": "code",
   "execution_count": 20,
   "id": "c594ba62",
   "metadata": {},
   "outputs": [],
   "source": [
    "import pandas as pd"
   ]
  },
  {
   "cell_type": "code",
   "execution_count": 21,
   "id": "407348b3",
   "metadata": {},
   "outputs": [],
   "source": [
    "df=pd.DataFrame(columns=['names','PhoneNo.'])"
   ]
  },
  {
   "cell_type": "code",
   "execution_count": 22,
   "id": "0ac75f14",
   "metadata": {},
   "outputs": [
    {
     "data": {
      "text/html": [
       "<div>\n",
       "<style scoped>\n",
       "    .dataframe tbody tr th:only-of-type {\n",
       "        vertical-align: middle;\n",
       "    }\n",
       "\n",
       "    .dataframe tbody tr th {\n",
       "        vertical-align: top;\n",
       "    }\n",
       "\n",
       "    .dataframe thead th {\n",
       "        text-align: right;\n",
       "    }\n",
       "</style>\n",
       "<table border=\"1\" class=\"dataframe\">\n",
       "  <thead>\n",
       "    <tr style=\"text-align: right;\">\n",
       "      <th></th>\n",
       "      <th>names</th>\n",
       "      <th>PhoneNo.</th>\n",
       "    </tr>\n",
       "  </thead>\n",
       "  <tbody>\n",
       "  </tbody>\n",
       "</table>\n",
       "</div>"
      ],
      "text/plain": [
       "Empty DataFrame\n",
       "Columns: [names, PhoneNo.]\n",
       "Index: []"
      ]
     },
     "execution_count": 22,
     "metadata": {},
     "output_type": "execute_result"
    }
   ],
   "source": [
    "df"
   ]
  },
  {
   "cell_type": "markdown",
   "id": "ffc3e507",
   "metadata": {},
   "source": [
    "# group By Function"
   ]
  },
  {
   "cell_type": "code",
   "execution_count": 23,
   "id": "aca35f9e",
   "metadata": {},
   "outputs": [
    {
     "data": {
      "text/plain": [
       "['BooleanDtype',\n",
       " 'Categorical',\n",
       " 'CategoricalDtype',\n",
       " 'CategoricalIndex',\n",
       " 'DataFrame',\n",
       " 'DateOffset',\n",
       " 'DatetimeIndex',\n",
       " 'DatetimeTZDtype',\n",
       " 'ExcelFile',\n",
       " 'ExcelWriter',\n",
       " 'Flags',\n",
       " 'Float32Dtype',\n",
       " 'Float64Dtype',\n",
       " 'Float64Index',\n",
       " 'Grouper',\n",
       " 'HDFStore',\n",
       " 'Index',\n",
       " 'IndexSlice',\n",
       " 'Int16Dtype',\n",
       " 'Int32Dtype',\n",
       " 'Int64Dtype',\n",
       " 'Int64Index',\n",
       " 'Int8Dtype',\n",
       " 'Interval',\n",
       " 'IntervalDtype',\n",
       " 'IntervalIndex',\n",
       " 'MultiIndex',\n",
       " 'NA',\n",
       " 'NaT',\n",
       " 'NamedAgg',\n",
       " 'Period',\n",
       " 'PeriodDtype',\n",
       " 'PeriodIndex',\n",
       " 'RangeIndex',\n",
       " 'Series',\n",
       " 'SparseDtype',\n",
       " 'StringDtype',\n",
       " 'Timedelta',\n",
       " 'TimedeltaIndex',\n",
       " 'Timestamp',\n",
       " 'UInt16Dtype',\n",
       " 'UInt32Dtype',\n",
       " 'UInt64Dtype',\n",
       " 'UInt64Index',\n",
       " 'UInt8Dtype',\n",
       " '__all__',\n",
       " '__builtins__',\n",
       " '__cached__',\n",
       " '__deprecated_num_index_names',\n",
       " '__dir__',\n",
       " '__doc__',\n",
       " '__docformat__',\n",
       " '__file__',\n",
       " '__getattr__',\n",
       " '__git_version__',\n",
       " '__loader__',\n",
       " '__name__',\n",
       " '__package__',\n",
       " '__path__',\n",
       " '__spec__',\n",
       " '__version__',\n",
       " '_config',\n",
       " '_is_numpy_dev',\n",
       " '_libs',\n",
       " '_testing',\n",
       " '_typing',\n",
       " '_version',\n",
       " 'api',\n",
       " 'array',\n",
       " 'arrays',\n",
       " 'bdate_range',\n",
       " 'compat',\n",
       " 'concat',\n",
       " 'core',\n",
       " 'crosstab',\n",
       " 'cut',\n",
       " 'date_range',\n",
       " 'describe_option',\n",
       " 'errors',\n",
       " 'eval',\n",
       " 'factorize',\n",
       " 'get_dummies',\n",
       " 'get_option',\n",
       " 'infer_freq',\n",
       " 'interval_range',\n",
       " 'io',\n",
       " 'isna',\n",
       " 'isnull',\n",
       " 'json_normalize',\n",
       " 'lreshape',\n",
       " 'melt',\n",
       " 'merge',\n",
       " 'merge_asof',\n",
       " 'merge_ordered',\n",
       " 'notna',\n",
       " 'notnull',\n",
       " 'offsets',\n",
       " 'option_context',\n",
       " 'options',\n",
       " 'pandas',\n",
       " 'period_range',\n",
       " 'pivot',\n",
       " 'pivot_table',\n",
       " 'plotting',\n",
       " 'qcut',\n",
       " 'read_clipboard',\n",
       " 'read_csv',\n",
       " 'read_excel',\n",
       " 'read_feather',\n",
       " 'read_fwf',\n",
       " 'read_gbq',\n",
       " 'read_hdf',\n",
       " 'read_html',\n",
       " 'read_json',\n",
       " 'read_orc',\n",
       " 'read_parquet',\n",
       " 'read_pickle',\n",
       " 'read_sas',\n",
       " 'read_spss',\n",
       " 'read_sql',\n",
       " 'read_sql_query',\n",
       " 'read_sql_table',\n",
       " 'read_stata',\n",
       " 'read_table',\n",
       " 'read_xml',\n",
       " 'reset_option',\n",
       " 'set_eng_float_format',\n",
       " 'set_option',\n",
       " 'show_versions',\n",
       " 'test',\n",
       " 'testing',\n",
       " 'timedelta_range',\n",
       " 'to_datetime',\n",
       " 'to_numeric',\n",
       " 'to_pickle',\n",
       " 'to_timedelta',\n",
       " 'tseries',\n",
       " 'unique',\n",
       " 'util',\n",
       " 'value_counts',\n",
       " 'wide_to_long']"
      ]
     },
     "execution_count": 23,
     "metadata": {},
     "output_type": "execute_result"
    }
   ],
   "source": [
    "import pandas as pd\n",
    "\n",
    "dir(pd)"
   ]
  },
  {
   "cell_type": "code",
   "execution_count": 24,
   "id": "09f8c0cd",
   "metadata": {},
   "outputs": [
    {
     "data": {
      "text/plain": [
       "[1, 2, 3, 4, 5, 1, 2, 3, 4, 5]"
      ]
     },
     "execution_count": 24,
     "metadata": {},
     "output_type": "execute_result"
    }
   ],
   "source": [
    "import numpy as np\n",
    "\n",
    "x=[1,2,3,4,5]\n",
    "\n",
    "x*2"
   ]
  },
  {
   "cell_type": "code",
   "execution_count": 25,
   "id": "d264b2df",
   "metadata": {},
   "outputs": [],
   "source": [
    "y=np.array(x)"
   ]
  },
  {
   "cell_type": "code",
   "execution_count": 26,
   "id": "89e25147",
   "metadata": {},
   "outputs": [
    {
     "data": {
      "text/plain": [
       "array([1, 2, 3, 4, 5])"
      ]
     },
     "execution_count": 26,
     "metadata": {},
     "output_type": "execute_result"
    }
   ],
   "source": [
    "y"
   ]
  },
  {
   "cell_type": "code",
   "execution_count": 28,
   "id": "04c0b86a",
   "metadata": {},
   "outputs": [
    {
     "data": {
      "text/plain": [
       "numpy.ndarray"
      ]
     },
     "execution_count": 28,
     "metadata": {},
     "output_type": "execute_result"
    }
   ],
   "source": [
    "type(y)"
   ]
  },
  {
   "cell_type": "code",
   "execution_count": 29,
   "id": "657755c5",
   "metadata": {},
   "outputs": [
    {
     "name": "stdout",
     "output_type": "stream",
     "text": [
      "[101 102 103 104 105]\n"
     ]
    }
   ],
   "source": [
    "y3=y+100\n",
    "print(y3)\n",
    "\n"
   ]
  },
  {
   "cell_type": "markdown",
   "id": "fbda87c9",
   "metadata": {},
   "source": [
    "# one dimensional Array"
   ]
  },
  {
   "cell_type": "code",
   "execution_count": 30,
   "id": "fd964c1f",
   "metadata": {},
   "outputs": [
    {
     "data": {
      "text/plain": [
       "array([1, 2, 3, 4, 5])"
      ]
     },
     "execution_count": 30,
     "metadata": {},
     "output_type": "execute_result"
    }
   ],
   "source": [
    "a=np.array([1,2,3,4,5])\n",
    "a"
   ]
  },
  {
   "cell_type": "code",
   "execution_count": 31,
   "id": "e2ae6aeb",
   "metadata": {},
   "outputs": [
    {
     "data": {
      "text/plain": [
       "numpy.ndarray"
      ]
     },
     "execution_count": 31,
     "metadata": {},
     "output_type": "execute_result"
    }
   ],
   "source": [
    "type(a)"
   ]
  },
  {
   "cell_type": "markdown",
   "id": "a555a78d",
   "metadata": {},
   "source": [
    "# creating two dimensionl Array"
   ]
  },
  {
   "cell_type": "code",
   "execution_count": 32,
   "id": "0af35cbf",
   "metadata": {},
   "outputs": [
    {
     "data": {
      "text/plain": [
       "array([[ 1,  2,  3,  4,  5],\n",
       "       [ 6,  7,  8,  9, 10]])"
      ]
     },
     "execution_count": 32,
     "metadata": {},
     "output_type": "execute_result"
    }
   ],
   "source": [
    "b=np.array([(1,2,3,4,5),(6,7,8,9,10)])\n",
    "b"
   ]
  },
  {
   "cell_type": "markdown",
   "id": "4063c314",
   "metadata": {},
   "source": [
    "# creating three dimensionl Array"
   ]
  },
  {
   "cell_type": "code",
   "execution_count": 34,
   "id": "f0d58f2d",
   "metadata": {},
   "outputs": [
    {
     "data": {
      "text/plain": [
       "array([[ 1,  2,  3,  4,  5],\n",
       "       [ 6,  7,  8,  9, 10],\n",
       "       [11, 12, 13, 14, 15]])"
      ]
     },
     "execution_count": 34,
     "metadata": {},
     "output_type": "execute_result"
    }
   ],
   "source": [
    "c=np.array([(1,2,3,4,5),(6,7,8,9,10),(11,12,13,14,15)])\n",
    "c"
   ]
  },
  {
   "cell_type": "markdown",
   "id": "572acb03",
   "metadata": {},
   "source": [
    "# creating Four dimensionl Array"
   ]
  },
  {
   "cell_type": "code",
   "execution_count": 35,
   "id": "019e8f10",
   "metadata": {},
   "outputs": [
    {
     "data": {
      "text/plain": [
       "array([[ 1,  2,  3,  4,  5],\n",
       "       [ 6,  7,  8,  9, 10],\n",
       "       [11, 12, 13, 14, 15],\n",
       "       [16, 17, 18, 19, 20]])"
      ]
     },
     "execution_count": 35,
     "metadata": {},
     "output_type": "execute_result"
    }
   ],
   "source": [
    "d=np.array([(1,2,3,4,5),(6,7,8,9,10),(11,12,13,14,15),(16,17,18,19,20)])\n",
    "\n",
    "d"
   ]
  },
  {
   "cell_type": "markdown",
   "id": "0578a7b1",
   "metadata": {},
   "source": [
    "# Creating Numpy array with the help of range function"
   ]
  },
  {
   "cell_type": "code",
   "execution_count": 36,
   "id": "2d42ed14",
   "metadata": {},
   "outputs": [
    {
     "data": {
      "text/plain": [
       "array([1, 3, 5, 7, 9])"
      ]
     },
     "execution_count": 36,
     "metadata": {},
     "output_type": "execute_result"
    }
   ],
   "source": [
    "c=np.arange(1,10,2)\n",
    "c"
   ]
  },
  {
   "cell_type": "code",
   "execution_count": 37,
   "id": "68b5ea67",
   "metadata": {},
   "outputs": [
    {
     "data": {
      "text/plain": [
       "array([1, 2, 3, 4, 5, 6, 7, 8, 9])"
      ]
     },
     "execution_count": 37,
     "metadata": {},
     "output_type": "execute_result"
    }
   ],
   "source": [
    "c=np.arange(1,10,1)\n",
    "c"
   ]
  },
  {
   "cell_type": "code",
   "execution_count": 38,
   "id": "93551525",
   "metadata": {},
   "outputs": [
    {
     "data": {
      "text/plain": [
       "array([], dtype=int32)"
      ]
     },
     "execution_count": 38,
     "metadata": {},
     "output_type": "execute_result"
    }
   ],
   "source": [
    "c=np.arange(1,10,-1)\n",
    "c"
   ]
  },
  {
   "cell_type": "code",
   "execution_count": 41,
   "id": "116549c2",
   "metadata": {},
   "outputs": [
    {
     "data": {
      "text/plain": [
       "array([ 1. ,  2.5,  4. ,  5.5,  7. ,  8.5, 10. , 11.5, 13. , 14.5, 16. ,\n",
       "       17.5, 19. ])"
      ]
     },
     "execution_count": 41,
     "metadata": {},
     "output_type": "execute_result"
    }
   ],
   "source": [
    "c=np.arange(1,20,1.5)\n",
    "c"
   ]
  },
  {
   "cell_type": "markdown",
   "id": "4861cf6c",
   "metadata": {},
   "source": [
    "# Create numpy Array filled with Zero's"
   ]
  },
  {
   "cell_type": "code",
   "execution_count": 42,
   "id": "433bc161",
   "metadata": {},
   "outputs": [
    {
     "data": {
      "text/plain": [
       "array([[[0., 0., 0.],\n",
       "        [0., 0., 0.]]])"
      ]
     },
     "execution_count": 42,
     "metadata": {},
     "output_type": "execute_result"
    }
   ],
   "source": [
    "np.zeros((1,2,3))\n"
   ]
  },
  {
   "cell_type": "code",
   "execution_count": 43,
   "id": "a8cd4418",
   "metadata": {},
   "outputs": [
    {
     "data": {
      "text/plain": [
       "array([[0., 0., 0., 0.],\n",
       "       [0., 0., 0., 0.]])"
      ]
     },
     "execution_count": 43,
     "metadata": {},
     "output_type": "execute_result"
    }
   ],
   "source": [
    "np.zeros((2,4))"
   ]
  },
  {
   "cell_type": "code",
   "execution_count": 44,
   "id": "76e05e26",
   "metadata": {},
   "outputs": [
    {
     "data": {
      "text/plain": [
       "array([[0., 0., 0., 0., 0., 0., 0., 0., 0.],\n",
       "       [0., 0., 0., 0., 0., 0., 0., 0., 0.],\n",
       "       [0., 0., 0., 0., 0., 0., 0., 0., 0.]])"
      ]
     },
     "execution_count": 44,
     "metadata": {},
     "output_type": "execute_result"
    }
   ],
   "source": [
    "np.zeros((3,9))"
   ]
  },
  {
   "cell_type": "code",
   "execution_count": 45,
   "id": "bcc7cbb8",
   "metadata": {},
   "outputs": [
    {
     "data": {
      "text/plain": [
       "array([[0., 0., 0., 0., 0., 0., 0., 0., 0., 0., 0., 0., 0., 0., 0., 0.,\n",
       "        0., 0., 0., 0.],\n",
       "       [0., 0., 0., 0., 0., 0., 0., 0., 0., 0., 0., 0., 0., 0., 0., 0.,\n",
       "        0., 0., 0., 0.],\n",
       "       [0., 0., 0., 0., 0., 0., 0., 0., 0., 0., 0., 0., 0., 0., 0., 0.,\n",
       "        0., 0., 0., 0.],\n",
       "       [0., 0., 0., 0., 0., 0., 0., 0., 0., 0., 0., 0., 0., 0., 0., 0.,\n",
       "        0., 0., 0., 0.]])"
      ]
     },
     "execution_count": 45,
     "metadata": {},
     "output_type": "execute_result"
    }
   ],
   "source": [
    "np.zeros((4,20))"
   ]
  },
  {
   "cell_type": "markdown",
   "id": "3338916e",
   "metadata": {},
   "source": [
    "# Create Numpy Array filled with ones "
   ]
  },
  {
   "cell_type": "code",
   "execution_count": 46,
   "id": "848b1e2d",
   "metadata": {},
   "outputs": [
    {
     "data": {
      "text/plain": [
       "array([[1., 1., 1., 1., 1., 1.],\n",
       "       [1., 1., 1., 1., 1., 1.]])"
      ]
     },
     "execution_count": 46,
     "metadata": {},
     "output_type": "execute_result"
    }
   ],
   "source": [
    "np.ones((2,6))"
   ]
  },
  {
   "cell_type": "code",
   "execution_count": 47,
   "id": "2ac44959",
   "metadata": {},
   "outputs": [
    {
     "data": {
      "text/plain": [
       "array([[1., 1., 1., 1., 1., 1., 1., 1., 1., 1., 1., 1., 1., 1., 1., 1.,\n",
       "        1., 1., 1., 1.],\n",
       "       [1., 1., 1., 1., 1., 1., 1., 1., 1., 1., 1., 1., 1., 1., 1., 1.,\n",
       "        1., 1., 1., 1.],\n",
       "       [1., 1., 1., 1., 1., 1., 1., 1., 1., 1., 1., 1., 1., 1., 1., 1.,\n",
       "        1., 1., 1., 1.],\n",
       "       [1., 1., 1., 1., 1., 1., 1., 1., 1., 1., 1., 1., 1., 1., 1., 1.,\n",
       "        1., 1., 1., 1.],\n",
       "       [1., 1., 1., 1., 1., 1., 1., 1., 1., 1., 1., 1., 1., 1., 1., 1.,\n",
       "        1., 1., 1., 1.],\n",
       "       [1., 1., 1., 1., 1., 1., 1., 1., 1., 1., 1., 1., 1., 1., 1., 1.,\n",
       "        1., 1., 1., 1.]])"
      ]
     },
     "execution_count": 47,
     "metadata": {},
     "output_type": "execute_result"
    }
   ],
   "source": [
    "np.ones((6,20))"
   ]
  },
  {
   "cell_type": "markdown",
   "id": "4c1715b1",
   "metadata": {},
   "source": [
    "# Create Empty Array "
   ]
  },
  {
   "cell_type": "code",
   "execution_count": 48,
   "id": "43d67932",
   "metadata": {},
   "outputs": [
    {
     "data": {
      "text/plain": [
       "array([[0.19305392, 0.01746153, 0.27256349, 0.5172666 , 0.60106578],\n",
       "       [0.02553248, 0.47232939, 0.50531903, 0.2687835 , 0.9523102 ],\n",
       "       [0.44056428, 0.60064638, 0.45081342, 0.25358062, 0.53068372],\n",
       "       [0.81728458, 0.63516442, 0.77529183, 0.40990423, 0.43399679],\n",
       "       [0.93202989, 0.54996504, 0.4407757 , 0.3469478 , 0.38778589]])"
      ]
     },
     "execution_count": 48,
     "metadata": {},
     "output_type": "execute_result"
    }
   ],
   "source": [
    "np.random.random((5,5))"
   ]
  },
  {
   "cell_type": "markdown",
   "id": "f0f57e54",
   "metadata": {},
   "source": [
    "# Add Evenly spaced values between intervalues of arrays of length"
   ]
  },
  {
   "cell_type": "code",
   "execution_count": 50,
   "id": "36fe2f68",
   "metadata": {},
   "outputs": [
    {
     "data": {
      "text/plain": [
       "array([0.  , 0.25, 0.5 , 0.75, 1.  , 1.25, 1.5 , 1.75, 2.  ])"
      ]
     },
     "execution_count": 50,
     "metadata": {},
     "output_type": "execute_result"
    }
   ],
   "source": [
    "np.linspace(0,2,9)"
   ]
  },
  {
   "cell_type": "code",
   "execution_count": 51,
   "id": "a2fba6a0",
   "metadata": {},
   "outputs": [
    {
     "data": {
      "text/plain": [
       "array([0.        , 0.14285714, 0.28571429, 0.42857143, 0.57142857,\n",
       "       0.71428571, 0.85714286, 1.        , 1.14285714, 1.28571429,\n",
       "       1.42857143, 1.57142857, 1.71428571, 1.85714286, 2.        ])"
      ]
     },
     "execution_count": 51,
     "metadata": {},
     "output_type": "execute_result"
    }
   ],
   "source": [
    "np.linspace(0,2,15)"
   ]
  },
  {
   "cell_type": "code",
   "execution_count": 52,
   "id": "762ca40d",
   "metadata": {},
   "outputs": [
    {
     "name": "stdout",
     "output_type": "stream",
     "text": [
      "4\n"
     ]
    }
   ],
   "source": [
    "print(4)"
   ]
  },
  {
   "cell_type": "code",
   "execution_count": 53,
   "id": "7a4c12da",
   "metadata": {},
   "outputs": [
    {
     "data": {
      "text/plain": [
       "5"
      ]
     },
     "execution_count": 53,
     "metadata": {},
     "output_type": "execute_result"
    }
   ],
   "source": [
    "len(a)"
   ]
  },
  {
   "cell_type": "code",
   "execution_count": 54,
   "id": "e4bddbe2",
   "metadata": {},
   "outputs": [
    {
     "name": "stdout",
     "output_type": "stream",
     "text": [
      "[[ 1  2  3  4  5]\n",
      " [ 6  7  8  9 10]]\n"
     ]
    }
   ],
   "source": [
    "print(b)"
   ]
  },
  {
   "cell_type": "code",
   "execution_count": 55,
   "id": "7490736e",
   "metadata": {},
   "outputs": [
    {
     "data": {
      "text/plain": [
       "numpy.ndarray"
      ]
     },
     "execution_count": 55,
     "metadata": {},
     "output_type": "execute_result"
    }
   ],
   "source": [
    "type(b)"
   ]
  },
  {
   "cell_type": "code",
   "execution_count": 56,
   "id": "50bd319f",
   "metadata": {},
   "outputs": [
    {
     "data": {
      "text/plain": [
       "dtype('int32')"
      ]
     },
     "execution_count": 56,
     "metadata": {},
     "output_type": "execute_result"
    }
   ],
   "source": [
    "a.dtype"
   ]
  },
  {
   "cell_type": "code",
   "execution_count": 57,
   "id": "dce998c5",
   "metadata": {},
   "outputs": [
    {
     "data": {
      "text/plain": [
       "dtype('int32')"
      ]
     },
     "execution_count": 57,
     "metadata": {},
     "output_type": "execute_result"
    }
   ],
   "source": [
    "b.dtype"
   ]
  },
  {
   "cell_type": "markdown",
   "id": "31fc14e4",
   "metadata": {},
   "source": [
    "# Numpy Matrix"
   ]
  },
  {
   "cell_type": "code",
   "execution_count": 58,
   "id": "8fdc070c",
   "metadata": {},
   "outputs": [
    {
     "data": {
      "text/plain": [
       "matrix([[1, 2],\n",
       "        [3, 4]])"
      ]
     },
     "execution_count": 58,
     "metadata": {},
     "output_type": "execute_result"
    }
   ],
   "source": [
    "#how to create a numpy matrix.\n",
    "\n",
    "np.matrix('1 2;3 4')"
   ]
  },
  {
   "cell_type": "code",
   "execution_count": 59,
   "id": "dea7f361",
   "metadata": {},
   "outputs": [
    {
     "data": {
      "text/plain": [
       "matrix([[ 1, 20],\n",
       "        [21, 40]])"
      ]
     },
     "execution_count": 59,
     "metadata": {},
     "output_type": "execute_result"
    }
   ],
   "source": [
    "np.matrix('1 20;21 40')"
   ]
  },
  {
   "cell_type": "code",
   "execution_count": 60,
   "id": "5482bb5f",
   "metadata": {},
   "outputs": [
    {
     "data": {
      "text/plain": [
       "matrix([[ 1,  2,  3,  4],\n",
       "        [ 5,  6,  7,  8],\n",
       "        [ 9, 10, 11, 12],\n",
       "        [13, 14, 15, 16],\n",
       "        [17, 18, 19, 20]])"
      ]
     },
     "execution_count": 60,
     "metadata": {},
     "output_type": "execute_result"
    }
   ],
   "source": [
    "np.matrix('1 2 3 4; 5 6 7 8; 9 10 11 12; 13 14 15 16; 17 18 19 20')"
   ]
  },
  {
   "cell_type": "code",
   "execution_count": 61,
   "id": "7ee11a39",
   "metadata": {},
   "outputs": [
    {
     "data": {
      "text/plain": [
       "matrix([[ 1,  2,  3,  4,  5],\n",
       "        [ 6,  7,  8,  9, 10],\n",
       "        [11, 12, 13, 14, 15],\n",
       "        [16, 17, 18, 19, 20],\n",
       "        [21, 22, 23, 24, 25]])"
      ]
     },
     "execution_count": 61,
     "metadata": {},
     "output_type": "execute_result"
    }
   ],
   "source": [
    "# 2 method numpy matrix\n",
    "\n",
    "np.matrix([[1,2,3,4,5],[6,7,8,9,10],[11,12,13,14,15],[16,17,18,19,20],[21,22,23,24,25]])"
   ]
  },
  {
   "cell_type": "code",
   "execution_count": 62,
   "id": "306bbc50",
   "metadata": {},
   "outputs": [
    {
     "data": {
      "text/plain": [
       "(2, 5)"
      ]
     },
     "execution_count": 62,
     "metadata": {},
     "output_type": "execute_result"
    }
   ],
   "source": [
    "b.shape"
   ]
  },
  {
   "cell_type": "markdown",
   "id": "1b70e0b3",
   "metadata": {},
   "source": [
    "# Create sequence of integers with the specific values "
   ]
  },
  {
   "cell_type": "code",
   "execution_count": 63,
   "id": "8f13cb40",
   "metadata": {},
   "outputs": [
    {
     "data": {
      "text/plain": [
       "array([ 0,  5, 10, 15, 20, 25, 30, 35, 40, 45])"
      ]
     },
     "execution_count": 63,
     "metadata": {},
     "output_type": "execute_result"
    }
   ],
   "source": [
    "np.arange(0,50,5)"
   ]
  },
  {
   "cell_type": "code",
   "execution_count": 64,
   "id": "1c04c129",
   "metadata": {},
   "outputs": [
    {
     "data": {
      "text/plain": [
       "array([ 1,  2,  3,  4,  5,  6,  7,  8,  9, 10, 11, 12, 13, 14, 15, 16, 17,\n",
       "       18, 19, 20, 21, 22, 23, 24, 25, 26, 27, 28, 29, 30, 31, 32, 33, 34,\n",
       "       35, 36, 37, 38, 39, 40, 41, 42, 43, 44, 45, 46, 47, 48, 49])"
      ]
     },
     "execution_count": 64,
     "metadata": {},
     "output_type": "execute_result"
    }
   ],
   "source": [
    "np.arange(1,50,1)"
   ]
  },
  {
   "cell_type": "code",
   "execution_count": 65,
   "id": "faaba386",
   "metadata": {},
   "outputs": [
    {
     "data": {
      "text/plain": [
       "array([  1,  13,  25,  37,  49,  61,  73,  85,  97, 109])"
      ]
     },
     "execution_count": 65,
     "metadata": {},
     "output_type": "execute_result"
    }
   ],
   "source": [
    "np.arange(1,120,12)"
   ]
  },
  {
   "cell_type": "code",
   "execution_count": 71,
   "id": "1670f357",
   "metadata": {},
   "outputs": [
    {
     "name": "stdout",
     "output_type": "stream",
     "text": [
      "[ 0  5 10 15 20 25 30 35 40 45]\n"
     ]
    }
   ],
   "source": [
    "# Difference between arange and range \n",
    "\n",
    "f=np.arange(0,50,5)\n",
    "print(f)"
   ]
  },
  {
   "cell_type": "code",
   "execution_count": 72,
   "id": "51c88e67",
   "metadata": {},
   "outputs": [
    {
     "name": "stdout",
     "output_type": "stream",
     "text": [
      "[ 0  5 10 15 20 25 30 35 40 45]\n"
     ]
    },
    {
     "data": {
      "text/plain": [
       "numpy.ndarray"
      ]
     },
     "execution_count": 72,
     "metadata": {},
     "output_type": "execute_result"
    }
   ],
   "source": [
    "np.arange(0,50,5)\n",
    "print(f)\n",
    "type(f)"
   ]
  },
  {
   "cell_type": "code",
   "execution_count": 73,
   "id": "0267ebd3",
   "metadata": {},
   "outputs": [
    {
     "name": "stdout",
     "output_type": "stream",
     "text": [
      "(0, 5, 10, 15, 20, 25, 30, 35, 40, 45)\n"
     ]
    },
    {
     "data": {
      "text/plain": [
       "tuple"
      ]
     },
     "execution_count": 73,
     "metadata": {},
     "output_type": "execute_result"
    }
   ],
   "source": [
    "f=tuple(range(0,50,5))\n",
    "print(f)\n",
    "type(f)"
   ]
  },
  {
   "cell_type": "code",
   "execution_count": 2,
   "id": "424f9eb9",
   "metadata": {},
   "outputs": [
    {
     "data": {
      "text/plain": [
       "array([[1, 2, 3],\n",
       "       [4, 5, 6],\n",
       "       [7, 8, 9]])"
      ]
     },
     "execution_count": 2,
     "metadata": {},
     "output_type": "execute_result"
    }
   ],
   "source": [
    "import numpy as np\n",
    "\n",
    "a = np.array([[1,2,3],[4,5,6],[7,8,9]])\n",
    "a\n"
   ]
  },
  {
   "cell_type": "code",
   "execution_count": 3,
   "id": "6cc168f9",
   "metadata": {},
   "outputs": [
    {
     "data": {
      "text/plain": [
       "array([[4, 5, 6],\n",
       "       [7, 8, 9]])"
      ]
     },
     "execution_count": 3,
     "metadata": {},
     "output_type": "execute_result"
    }
   ],
   "source": [
    "np.delete(a,0,axis=0)"
   ]
  },
  {
   "cell_type": "code",
   "execution_count": 4,
   "id": "bc6d4d8e",
   "metadata": {},
   "outputs": [
    {
     "data": {
      "text/plain": [
       "array([[1, 2, 3],\n",
       "       [4, 5, 6],\n",
       "       [7, 8, 9]])"
      ]
     },
     "execution_count": 4,
     "metadata": {},
     "output_type": "execute_result"
    }
   ],
   "source": [
    "import numpy as np\n",
    "\n",
    "a = np.array([[1,2,3],[4,5,6],[7,8,9]])\n",
    "a\n"
   ]
  },
  {
   "cell_type": "code",
   "execution_count": 5,
   "id": "128972cf",
   "metadata": {},
   "outputs": [
    {
     "data": {
      "text/plain": [
       "array([[1, 3],\n",
       "       [4, 6],\n",
       "       [7, 9]])"
      ]
     },
     "execution_count": 5,
     "metadata": {},
     "output_type": "execute_result"
    }
   ],
   "source": [
    "np.delete(a,1,axis=1)"
   ]
  },
  {
   "cell_type": "code",
   "execution_count": 7,
   "id": "26f778c7",
   "metadata": {},
   "outputs": [
    {
     "data": {
      "text/plain": [
       "array([[1, 2, 3],\n",
       "       [4, 5, 6],\n",
       "       [7, 8, 9]])"
      ]
     },
     "execution_count": 7,
     "metadata": {},
     "output_type": "execute_result"
    }
   ],
   "source": [
    "b= np.array([[1,2,3],[4,5,6],[7,8,9]])\n",
    "b"
   ]
  },
  {
   "cell_type": "code",
   "execution_count": 8,
   "id": "613d2db8",
   "metadata": {},
   "outputs": [
    {
     "data": {
      "text/plain": [
       "array([[1, 2, 3],\n",
       "       [4, 5, 6]])"
      ]
     },
     "execution_count": 8,
     "metadata": {},
     "output_type": "execute_result"
    }
   ],
   "source": [
    "np.delete(b,2,axis=0)"
   ]
  },
  {
   "cell_type": "markdown",
   "id": "4e63afcf",
   "metadata": {},
   "source": [
    "# Reshaping the array"
   ]
  },
  {
   "cell_type": "code",
   "execution_count": 9,
   "id": "77214175",
   "metadata": {},
   "outputs": [
    {
     "data": {
      "text/plain": [
       "array([[1, 2, 3],\n",
       "       [4, 5, 6],\n",
       "       [7, 8, 9]])"
      ]
     },
     "execution_count": 9,
     "metadata": {},
     "output_type": "execute_result"
    }
   ],
   "source": [
    "c=np.array([[1,2,3],[4,5,6],[7,8,9]])\n",
    "c"
   ]
  },
  {
   "cell_type": "code",
   "execution_count": 10,
   "id": "d55ec14a",
   "metadata": {},
   "outputs": [
    {
     "data": {
      "text/plain": [
       "(3, 3)"
      ]
     },
     "execution_count": 10,
     "metadata": {},
     "output_type": "execute_result"
    }
   ],
   "source": [
    "c.shape"
   ]
  },
  {
   "cell_type": "code",
   "execution_count": 11,
   "id": "57a2a05c",
   "metadata": {},
   "outputs": [
    {
     "data": {
      "text/plain": [
       "array([4, 5, 6])"
      ]
     },
     "execution_count": 11,
     "metadata": {},
     "output_type": "execute_result"
    }
   ],
   "source": [
    "c[1]"
   ]
  },
  {
   "cell_type": "code",
   "execution_count": 12,
   "id": "f678f704",
   "metadata": {},
   "outputs": [
    {
     "data": {
      "text/plain": [
       "array([1, 2, 3])"
      ]
     },
     "execution_count": 12,
     "metadata": {},
     "output_type": "execute_result"
    }
   ],
   "source": [
    "c[0]"
   ]
  },
  {
   "cell_type": "code",
   "execution_count": 13,
   "id": "32966b53",
   "metadata": {},
   "outputs": [
    {
     "data": {
      "text/plain": [
       "array([[1, 2, 3]])"
      ]
     },
     "execution_count": 13,
     "metadata": {},
     "output_type": "execute_result"
    }
   ],
   "source": [
    "c[0:1]"
   ]
  },
  {
   "cell_type": "code",
   "execution_count": 14,
   "id": "387f5097",
   "metadata": {},
   "outputs": [
    {
     "data": {
      "text/plain": [
       "array([4, 5, 6])"
      ]
     },
     "execution_count": 14,
     "metadata": {},
     "output_type": "execute_result"
    }
   ],
   "source": [
    "c[1]"
   ]
  },
  {
   "cell_type": "code",
   "execution_count": 15,
   "id": "9a5417f6",
   "metadata": {},
   "outputs": [
    {
     "data": {
      "text/plain": [
       "array([7, 8, 9])"
      ]
     },
     "execution_count": 15,
     "metadata": {},
     "output_type": "execute_result"
    }
   ],
   "source": [
    "c[2]"
   ]
  },
  {
   "cell_type": "code",
   "execution_count": 16,
   "id": "37b64f8e",
   "metadata": {},
   "outputs": [
    {
     "data": {
      "text/plain": [
       "array([[1, 2, 3],\n",
       "       [4, 5, 6],\n",
       "       [7, 8, 9]])"
      ]
     },
     "execution_count": 16,
     "metadata": {},
     "output_type": "execute_result"
    }
   ],
   "source": [
    "c"
   ]
  },
  {
   "cell_type": "code",
   "execution_count": 17,
   "id": "e8ca6e89",
   "metadata": {},
   "outputs": [
    {
     "data": {
      "text/plain": [
       "2"
      ]
     },
     "execution_count": 17,
     "metadata": {},
     "output_type": "execute_result"
    }
   ],
   "source": [
    "c[0,1]"
   ]
  },
  {
   "cell_type": "code",
   "execution_count": 18,
   "id": "f218d428",
   "metadata": {},
   "outputs": [
    {
     "data": {
      "text/plain": [
       "5"
      ]
     },
     "execution_count": 18,
     "metadata": {},
     "output_type": "execute_result"
    }
   ],
   "source": [
    "c[1,1]"
   ]
  },
  {
   "cell_type": "code",
   "execution_count": 19,
   "id": "92293257",
   "metadata": {},
   "outputs": [
    {
     "data": {
      "text/plain": [
       "8"
      ]
     },
     "execution_count": 19,
     "metadata": {},
     "output_type": "execute_result"
    }
   ],
   "source": [
    "c[2,1]"
   ]
  },
  {
   "cell_type": "code",
   "execution_count": 20,
   "id": "54e1f7ac",
   "metadata": {},
   "outputs": [],
   "source": [
    "c=np.array([[1,2,3,4],[4,5,6,7],[7,8,9,100],])"
   ]
  },
  {
   "cell_type": "code",
   "execution_count": 21,
   "id": "906a1665",
   "metadata": {},
   "outputs": [
    {
     "data": {
      "text/plain": [
       "array([[  1,   2,   3,   4],\n",
       "       [  4,   5,   6,   7],\n",
       "       [  7,   8,   9, 100]])"
      ]
     },
     "execution_count": 21,
     "metadata": {},
     "output_type": "execute_result"
    }
   ],
   "source": [
    "c"
   ]
  },
  {
   "cell_type": "code",
   "execution_count": 22,
   "id": "a9bd0528",
   "metadata": {},
   "outputs": [],
   "source": [
    "c3=c.reshape(6,2)"
   ]
  },
  {
   "cell_type": "code",
   "execution_count": 23,
   "id": "41fdc40f",
   "metadata": {},
   "outputs": [
    {
     "data": {
      "text/plain": [
       "array([[  1,   2],\n",
       "       [  3,   4],\n",
       "       [  4,   5],\n",
       "       [  6,   7],\n",
       "       [  7,   8],\n",
       "       [  9, 100]])"
      ]
     },
     "execution_count": 23,
     "metadata": {},
     "output_type": "execute_result"
    }
   ],
   "source": [
    "c3"
   ]
  },
  {
   "cell_type": "code",
   "execution_count": 24,
   "id": "c5a6202d",
   "metadata": {},
   "outputs": [
    {
     "data": {
      "text/plain": [
       "array([  1,   2,   3,   4,   4,   5,   6,   7,   7,   8,   9, 100])"
      ]
     },
     "execution_count": 24,
     "metadata": {},
     "output_type": "execute_result"
    }
   ],
   "source": [
    "c3.flatten()"
   ]
  },
  {
   "cell_type": "markdown",
   "id": "f8c9ec84",
   "metadata": {},
   "source": [
    "# end of the numpy"
   ]
  },
  {
   "cell_type": "markdown",
   "id": "90b3d84b",
   "metadata": {},
   "source": [
    "# matplotlib Package\n",
    "matplotlib is a package which is used for the visualization purpose"
   ]
  },
  {
   "cell_type": "code",
   "execution_count": null,
   "id": "ae6dd3e0",
   "metadata": {},
   "outputs": [],
   "source": [
    "import matplotlib.pyplot as plt\n",
    "plt.hist()\n"
   ]
  },
  {
   "cell_type": "markdown",
   "id": "fe01f124",
   "metadata": {},
   "source": [
    "# Enumerate function with list"
   ]
  },
  {
   "cell_type": "code",
   "execution_count": 26,
   "id": "e4f7fb74",
   "metadata": {},
   "outputs": [
    {
     "name": "stdout",
     "output_type": "stream",
     "text": [
      "(0, 'suraj')\n",
      "(1, 'superman')\n",
      "(2, 'spyderman')\n",
      "(3, 'krish')\n",
      "(4, 'ironman')\n"
     ]
    }
   ],
   "source": [
    "l=['suraj','superman','spyderman','krish','ironman']\n",
    "for i in enumerate(l):\n",
    "    print(i)"
   ]
  },
  {
   "cell_type": "code",
   "execution_count": 27,
   "id": "2ffa3497",
   "metadata": {},
   "outputs": [
    {
     "name": "stdout",
     "output_type": "stream",
     "text": [
      "suraj\n",
      "superman\n",
      "spyderman\n",
      "krish\n",
      "ironman\n"
     ]
    }
   ],
   "source": [
    "for i, j in enumerate(l):\n",
    "    print(j)"
   ]
  },
  {
   "cell_type": "code",
   "execution_count": 28,
   "id": "dc70fe39",
   "metadata": {},
   "outputs": [
    {
     "name": "stdout",
     "output_type": "stream",
     "text": [
      "0\n",
      "1\n",
      "2\n",
      "3\n",
      "4\n"
     ]
    }
   ],
   "source": [
    "for i, j in enumerate(l):\n",
    "    print(i)"
   ]
  },
  {
   "cell_type": "code",
   "execution_count": 29,
   "id": "d4e35c32",
   "metadata": {},
   "outputs": [
    {
     "data": {
      "text/plain": [
       "['suraj', 'superman', 'spyderman', 'krish', 'ironman']"
      ]
     },
     "execution_count": 29,
     "metadata": {},
     "output_type": "execute_result"
    }
   ],
   "source": [
    "l"
   ]
  },
  {
   "cell_type": "code",
   "execution_count": 31,
   "id": "dd330576",
   "metadata": {},
   "outputs": [
    {
     "name": "stdout",
     "output_type": "stream",
     "text": [
      "3 krish\n",
      "4 ironman\n"
     ]
    }
   ],
   "source": [
    "for i , j in enumerate(l):\n",
    "    if i>2:\n",
    "        print(i,j)"
   ]
  },
  {
   "cell_type": "code",
   "execution_count": 32,
   "id": "9e62ac60",
   "metadata": {},
   "outputs": [
    {
     "name": "stdout",
     "output_type": "stream",
     "text": [
      "superman\n"
     ]
    }
   ],
   "source": [
    "for i, j in enumerate(l):\n",
    "    if i==1:\n",
    "        print(j)"
   ]
  },
  {
   "cell_type": "code",
   "execution_count": 33,
   "id": "c3ccc6a9",
   "metadata": {},
   "outputs": [
    {
     "name": "stdout",
     "output_type": "stream",
     "text": [
      "0\n",
      "1\n",
      "2\n",
      "3\n",
      "4\n"
     ]
    }
   ],
   "source": [
    "for i, j in enumerate(l , start=0):\n",
    "    print(i)"
   ]
  },
  {
   "cell_type": "code",
   "execution_count": 34,
   "id": "84e52454",
   "metadata": {},
   "outputs": [
    {
     "name": "stdout",
     "output_type": "stream",
     "text": [
      "(1, 'suraj')\n",
      "(2, 'superman')\n",
      "(3, 'spyderman')\n",
      "(4, 'krish')\n",
      "(5, 'ironman')\n"
     ]
    }
   ],
   "source": [
    "for i in enumerate(l,start=1):\n",
    "    print(i)"
   ]
  },
  {
   "cell_type": "code",
   "execution_count": 35,
   "id": "53753d78",
   "metadata": {},
   "outputs": [
    {
     "name": "stdout",
     "output_type": "stream",
     "text": [
      "suraj\n",
      "superman\n",
      "spyderman\n",
      "krish\n",
      "ironman\n"
     ]
    }
   ],
   "source": [
    "for i,j in enumerate(l,start=0):\n",
    "    print(j)\n"
   ]
  },
  {
   "cell_type": "code",
   "execution_count": 36,
   "id": "78761fb1",
   "metadata": {},
   "outputs": [
    {
     "name": "stdout",
     "output_type": "stream",
     "text": [
      "1\n",
      "2\n",
      "3\n",
      "4\n",
      "5\n"
     ]
    }
   ],
   "source": [
    "for i, j in enumerate(l,start=1):\n",
    "    print(i)"
   ]
  },
  {
   "cell_type": "code",
   "execution_count": 37,
   "id": "31b31ce6",
   "metadata": {},
   "outputs": [
    {
     "name": "stdout",
     "output_type": "stream",
     "text": [
      "5\n",
      "6\n",
      "7\n",
      "8\n",
      "9\n"
     ]
    }
   ],
   "source": [
    "for i , j in enumerate(l,start=5):\n",
    "    print(i)"
   ]
  },
  {
   "cell_type": "code",
   "execution_count": 38,
   "id": "012ac8a0",
   "metadata": {},
   "outputs": [
    {
     "name": "stdout",
     "output_type": "stream",
     "text": [
      "suraj 5\n",
      "superman 6\n",
      "spyderman 7\n",
      "krish 8\n",
      "ironman 9\n"
     ]
    }
   ],
   "source": [
    "for i, j in enumerate(l,start=5):\n",
    "    print(j,i)"
   ]
  },
  {
   "cell_type": "code",
   "execution_count": 39,
   "id": "62608055",
   "metadata": {},
   "outputs": [
    {
     "name": "stdout",
     "output_type": "stream",
     "text": [
      "5 suraj\n",
      "6 superman\n",
      "7 spyderman\n",
      "8 krish\n",
      "9 ironman\n"
     ]
    }
   ],
   "source": [
    "for i, j in enumerate(l,start=5):\n",
    "    print(i,j)"
   ]
  },
  {
   "cell_type": "code",
   "execution_count": 40,
   "id": "b15e201d",
   "metadata": {},
   "outputs": [
    {
     "name": "stdout",
     "output_type": "stream",
     "text": [
      "(5, 'suraj')\n",
      "(6, 'superman')\n",
      "(7, 'spyderman')\n",
      "(8, 'krish')\n",
      "(9, 'ironman')\n"
     ]
    }
   ],
   "source": [
    "for i in enumerate(l,start=5):\n",
    "    print(i)"
   ]
  },
  {
   "cell_type": "code",
   "execution_count": 41,
   "id": "65fef464",
   "metadata": {},
   "outputs": [
    {
     "name": "stdout",
     "output_type": "stream",
     "text": [
      "suraj 100\n",
      "superman 101\n",
      "spyderman 102\n",
      "krish 103\n",
      "ironman 104\n"
     ]
    }
   ],
   "source": [
    "for i, j in enumerate(l,start=100):\n",
    "    print(j,i)\n"
   ]
  },
  {
   "cell_type": "code",
   "execution_count": 42,
   "id": "8d3e5022",
   "metadata": {},
   "outputs": [
    {
     "name": "stdout",
     "output_type": "stream",
     "text": [
      "suraj 0\n",
      "superman 1\n",
      "spyderman 2\n",
      "krish 3\n",
      "ironman 4\n"
     ]
    }
   ],
   "source": [
    "for i,j in enumerate(l):\n",
    "    print(j,i)\n"
   ]
  },
  {
   "cell_type": "markdown",
   "id": "db225c39",
   "metadata": {},
   "source": [
    "# Enumeration function with tuple"
   ]
  },
  {
   "cell_type": "code",
   "execution_count": 43,
   "id": "1f0b9a25",
   "metadata": {},
   "outputs": [
    {
     "name": "stdout",
     "output_type": "stream",
     "text": [
      "(0, 'superman')\n",
      "(1, 'spyderman')\n",
      "(2, 'hero')\n",
      "(3, 'zero')\n",
      "(4, 'thanos')\n",
      "(5, 'thar')\n"
     ]
    }
   ],
   "source": [
    "t = (\"superman\",\"spyderman\",\"hero\",\"zero\",\"thanos\",\"thar\")\n",
    "t\n",
    "\n",
    "for i in enumerate(t):\n",
    "    print(i)"
   ]
  },
  {
   "cell_type": "code",
   "execution_count": 44,
   "id": "e2109165",
   "metadata": {},
   "outputs": [
    {
     "name": "stdout",
     "output_type": "stream",
     "text": [
      "(1, 'superman') ironman\n",
      "(2, 'spyderman') ironman\n",
      "(3, 'hero') ironman\n",
      "(4, 'zero') ironman\n",
      "(5, 'thanos') ironman\n",
      "(6, 'thar') ironman\n"
     ]
    }
   ],
   "source": [
    "for i in enumerate(t,start=1):\n",
    "    print(i,j)"
   ]
  },
  {
   "cell_type": "code",
   "execution_count": 46,
   "id": "7c401d5a",
   "metadata": {},
   "outputs": [
    {
     "name": "stdout",
     "output_type": "stream",
     "text": [
      "(2, 'superman') ironman\n",
      "(3, 'spyderman') ironman\n",
      "(4, 'hero') ironman\n",
      "(5, 'zero') ironman\n",
      "(6, 'thanos') ironman\n",
      "(7, 'thar') ironman\n"
     ]
    }
   ],
   "source": [
    "for i in enumerate(t,start=2):\n",
    "    print(i,j)"
   ]
  },
  {
   "cell_type": "code",
   "execution_count": 47,
   "id": "46dd6825",
   "metadata": {},
   "outputs": [
    {
     "name": "stdout",
     "output_type": "stream",
     "text": [
      "2 superman\n",
      "3 spyderman\n",
      "4 hero\n",
      "5 zero\n",
      "6 thanos\n",
      "7 thar\n"
     ]
    }
   ],
   "source": [
    "for i, j in enumerate(t, start=2):\n",
    "    print(i,j)"
   ]
  },
  {
   "cell_type": "code",
   "execution_count": 48,
   "id": "4d43cb47",
   "metadata": {},
   "outputs": [
    {
     "name": "stdout",
     "output_type": "stream",
     "text": [
      "100 superman\n",
      "101 spyderman\n",
      "102 hero\n",
      "103 zero\n",
      "104 thanos\n",
      "105 thar\n"
     ]
    }
   ],
   "source": [
    "for i, j in enumerate(t, start=100):\n",
    "    print(i,j)\n"
   ]
  },
  {
   "cell_type": "code",
   "execution_count": 49,
   "id": "84367795",
   "metadata": {},
   "outputs": [
    {
     "name": "stdout",
     "output_type": "stream",
     "text": [
      "0\n",
      "1\n",
      "2\n",
      "3\n",
      "4\n",
      "5\n"
     ]
    }
   ],
   "source": [
    "for i , j in enumerate(t):\n",
    "    print(i)\n"
   ]
  },
  {
   "cell_type": "markdown",
   "id": "e6efe5b0",
   "metadata": {},
   "source": [
    "# Zip() Function\n",
    "What is zip() function ?: Python Zip() method takes iterable or containers and returns a single iterable object , having mapping values from all the containers, it is used to map the similar index of multiple containers so that they can be used just a single entity. Syntax: Zip(*Iterable)"
   ]
  },
  {
   "cell_type": "code",
   "execution_count": 53,
   "id": "c7d35fd3",
   "metadata": {},
   "outputs": [],
   "source": [
    "list1 = [1,2,3,4,5,6]\n",
    "list2 = ['suraj','mayuresh','ganesh','kiran','vinay','mahesh']\n"
   ]
  },
  {
   "cell_type": "code",
   "execution_count": 55,
   "id": "3fcc6efe",
   "metadata": {},
   "outputs": [
    {
     "name": "stdout",
     "output_type": "stream",
     "text": [
      "(1, 'suraj')\n",
      "(2, 'mayuresh')\n",
      "(3, 'ganesh')\n",
      "(4, 'kiran')\n",
      "(5, 'vinay')\n",
      "(6, 'mahesh')\n"
     ]
    }
   ],
   "source": [
    "\n",
    "l3=zip(list1,list2)\n",
    "\n",
    "for i in l3:\n",
    "    print(i)"
   ]
  },
  {
   "cell_type": "code",
   "execution_count": 56,
   "id": "4ec8ee65",
   "metadata": {},
   "outputs": [],
   "source": [
    "list3 = list(zip(list1,list2))"
   ]
  },
  {
   "cell_type": "code",
   "execution_count": 57,
   "id": "40d2a69c",
   "metadata": {},
   "outputs": [
    {
     "data": {
      "text/plain": [
       "[(1, 'suraj'),\n",
       " (2, 'mayuresh'),\n",
       " (3, 'ganesh'),\n",
       " (4, 'kiran'),\n",
       " (5, 'vinay'),\n",
       " (6, 'mahesh')]"
      ]
     },
     "execution_count": 57,
     "metadata": {},
     "output_type": "execute_result"
    }
   ],
   "source": [
    "list3"
   ]
  },
  {
   "cell_type": "code",
   "execution_count": 58,
   "id": "dff4c031",
   "metadata": {},
   "outputs": [
    {
     "name": "stdout",
     "output_type": "stream",
     "text": [
      "[(1, 'suraj'), (2, 'mayuresh'), (3, 'ganesh'), (4, 'kiran'), (5, 'vinay'), (6, 'mahesh')]\n",
      "[(1, 'suraj'), (2, 'mayuresh'), (3, 'ganesh'), (4, 'kiran'), (5, 'vinay'), (6, 'mahesh')]\n",
      "[(1, 'suraj'), (2, 'mayuresh'), (3, 'ganesh'), (4, 'kiran'), (5, 'vinay'), (6, 'mahesh')]\n",
      "[(1, 'suraj'), (2, 'mayuresh'), (3, 'ganesh'), (4, 'kiran'), (5, 'vinay'), (6, 'mahesh')]\n",
      "[(1, 'suraj'), (2, 'mayuresh'), (3, 'ganesh'), (4, 'kiran'), (5, 'vinay'), (6, 'mahesh')]\n",
      "[(1, 'suraj'), (2, 'mayuresh'), (3, 'ganesh'), (4, 'kiran'), (5, 'vinay'), (6, 'mahesh')]\n"
     ]
    }
   ],
   "source": [
    "for i in list3:\n",
    "    print(list3)"
   ]
  },
  {
   "cell_type": "code",
   "execution_count": 59,
   "id": "faf0ea7d",
   "metadata": {},
   "outputs": [],
   "source": [
    "l1 = [1,2,3,4,5]\n",
    "l2 = ['suraj','simon','mitra','hello','superman','ironman']\n",
    "\n",
    "import pandas as pd"
   ]
  },
  {
   "cell_type": "code",
   "execution_count": 61,
   "id": "6dc706c9",
   "metadata": {},
   "outputs": [
    {
     "data": {
      "text/html": [
       "<div>\n",
       "<style scoped>\n",
       "    .dataframe tbody tr th:only-of-type {\n",
       "        vertical-align: middle;\n",
       "    }\n",
       "\n",
       "    .dataframe tbody tr th {\n",
       "        vertical-align: top;\n",
       "    }\n",
       "\n",
       "    .dataframe thead th {\n",
       "        text-align: right;\n",
       "    }\n",
       "</style>\n",
       "<table border=\"1\" class=\"dataframe\">\n",
       "  <thead>\n",
       "    <tr style=\"text-align: right;\">\n",
       "      <th></th>\n",
       "      <th>Roll.No</th>\n",
       "      <th>Name</th>\n",
       "    </tr>\n",
       "  </thead>\n",
       "  <tbody>\n",
       "    <tr>\n",
       "      <th>0</th>\n",
       "      <td>1</td>\n",
       "      <td>suraj</td>\n",
       "    </tr>\n",
       "    <tr>\n",
       "      <th>1</th>\n",
       "      <td>2</td>\n",
       "      <td>simon</td>\n",
       "    </tr>\n",
       "    <tr>\n",
       "      <th>2</th>\n",
       "      <td>3</td>\n",
       "      <td>mitra</td>\n",
       "    </tr>\n",
       "    <tr>\n",
       "      <th>3</th>\n",
       "      <td>4</td>\n",
       "      <td>hello</td>\n",
       "    </tr>\n",
       "    <tr>\n",
       "      <th>4</th>\n",
       "      <td>5</td>\n",
       "      <td>superman</td>\n",
       "    </tr>\n",
       "  </tbody>\n",
       "</table>\n",
       "</div>"
      ],
      "text/plain": [
       "   Roll.No      Name\n",
       "0        1     suraj\n",
       "1        2     simon\n",
       "2        3     mitra\n",
       "3        4     hello\n",
       "4        5  superman"
      ]
     },
     "execution_count": 61,
     "metadata": {},
     "output_type": "execute_result"
    }
   ],
   "source": [
    "df = pd.DataFrame(zip(l1,l2), columns=['Roll.No','Name'])\n",
    "df"
   ]
  },
  {
   "cell_type": "code",
   "execution_count": 62,
   "id": "ef489c3b",
   "metadata": {},
   "outputs": [],
   "source": [
    "list1 = [1,2,3,4,5]\n",
    "list2 = ['suraj','ganesh','mayuresh','kiran','vinay']\n",
    "list3 = [22,33,44,55,66]\n"
   ]
  },
  {
   "cell_type": "code",
   "execution_count": 63,
   "id": "84a08245",
   "metadata": {},
   "outputs": [
    {
     "data": {
      "text/html": [
       "<div>\n",
       "<style scoped>\n",
       "    .dataframe tbody tr th:only-of-type {\n",
       "        vertical-align: middle;\n",
       "    }\n",
       "\n",
       "    .dataframe tbody tr th {\n",
       "        vertical-align: top;\n",
       "    }\n",
       "\n",
       "    .dataframe thead th {\n",
       "        text-align: right;\n",
       "    }\n",
       "</style>\n",
       "<table border=\"1\" class=\"dataframe\">\n",
       "  <thead>\n",
       "    <tr style=\"text-align: right;\">\n",
       "      <th></th>\n",
       "      <th>Roll.No</th>\n",
       "      <th>Name</th>\n",
       "      <th>Marks</th>\n",
       "    </tr>\n",
       "  </thead>\n",
       "  <tbody>\n",
       "    <tr>\n",
       "      <th>0</th>\n",
       "      <td>1</td>\n",
       "      <td>suraj</td>\n",
       "      <td>22</td>\n",
       "    </tr>\n",
       "    <tr>\n",
       "      <th>1</th>\n",
       "      <td>2</td>\n",
       "      <td>ganesh</td>\n",
       "      <td>33</td>\n",
       "    </tr>\n",
       "    <tr>\n",
       "      <th>2</th>\n",
       "      <td>3</td>\n",
       "      <td>mayuresh</td>\n",
       "      <td>44</td>\n",
       "    </tr>\n",
       "    <tr>\n",
       "      <th>3</th>\n",
       "      <td>4</td>\n",
       "      <td>kiran</td>\n",
       "      <td>55</td>\n",
       "    </tr>\n",
       "    <tr>\n",
       "      <th>4</th>\n",
       "      <td>5</td>\n",
       "      <td>vinay</td>\n",
       "      <td>66</td>\n",
       "    </tr>\n",
       "  </tbody>\n",
       "</table>\n",
       "</div>"
      ],
      "text/plain": [
       "   Roll.No      Name  Marks\n",
       "0        1     suraj     22\n",
       "1        2    ganesh     33\n",
       "2        3  mayuresh     44\n",
       "3        4     kiran     55\n",
       "4        5     vinay     66"
      ]
     },
     "execution_count": 63,
     "metadata": {},
     "output_type": "execute_result"
    }
   ],
   "source": [
    "df = pd.DataFrame(zip(list1,list2,list3), columns=['Roll.No','Name','Marks'])\n",
    "df"
   ]
  },
  {
   "cell_type": "code",
   "execution_count": 64,
   "id": "cecb25e7",
   "metadata": {},
   "outputs": [
    {
     "name": "stdout",
     "output_type": "stream",
     "text": [
      "   Roll.No      Name  Marks\n",
      "0        1     suraj     22\n",
      "1        2    ganesh     33\n",
      "2        3  mayuresh     44\n",
      "3        4     kiran     55\n",
      "4        5     vinay     66\n"
     ]
    }
   ],
   "source": [
    "print(df)"
   ]
  },
  {
   "cell_type": "code",
   "execution_count": 65,
   "id": "8f5f2bc5",
   "metadata": {},
   "outputs": [],
   "source": [
    "list1 = [1,2,3,4,5]\n",
    "list2 = ['suraj','ganesh','mayuresh','kiran','vinay']\n",
    "list3 = ['English','History','Science','Maths','Marathi']\n",
    "list4 = [22,33,44,55,66]\n",
    "list5 = [100,100,100,100,100,100]"
   ]
  },
  {
   "cell_type": "code",
   "execution_count": 66,
   "id": "d72d91bc",
   "metadata": {},
   "outputs": [
    {
     "data": {
      "text/html": [
       "<div>\n",
       "<style scoped>\n",
       "    .dataframe tbody tr th:only-of-type {\n",
       "        vertical-align: middle;\n",
       "    }\n",
       "\n",
       "    .dataframe tbody tr th {\n",
       "        vertical-align: top;\n",
       "    }\n",
       "\n",
       "    .dataframe thead th {\n",
       "        text-align: right;\n",
       "    }\n",
       "</style>\n",
       "<table border=\"1\" class=\"dataframe\">\n",
       "  <thead>\n",
       "    <tr style=\"text-align: right;\">\n",
       "      <th></th>\n",
       "      <th>Roll.No</th>\n",
       "      <th>Name</th>\n",
       "      <th>Subject</th>\n",
       "      <th>Marks</th>\n",
       "      <th>Total.Marks</th>\n",
       "    </tr>\n",
       "  </thead>\n",
       "  <tbody>\n",
       "    <tr>\n",
       "      <th>0</th>\n",
       "      <td>1</td>\n",
       "      <td>suraj</td>\n",
       "      <td>English</td>\n",
       "      <td>22</td>\n",
       "      <td>100</td>\n",
       "    </tr>\n",
       "    <tr>\n",
       "      <th>1</th>\n",
       "      <td>2</td>\n",
       "      <td>ganesh</td>\n",
       "      <td>History</td>\n",
       "      <td>33</td>\n",
       "      <td>100</td>\n",
       "    </tr>\n",
       "    <tr>\n",
       "      <th>2</th>\n",
       "      <td>3</td>\n",
       "      <td>mayuresh</td>\n",
       "      <td>Science</td>\n",
       "      <td>44</td>\n",
       "      <td>100</td>\n",
       "    </tr>\n",
       "    <tr>\n",
       "      <th>3</th>\n",
       "      <td>4</td>\n",
       "      <td>kiran</td>\n",
       "      <td>Maths</td>\n",
       "      <td>55</td>\n",
       "      <td>100</td>\n",
       "    </tr>\n",
       "    <tr>\n",
       "      <th>4</th>\n",
       "      <td>5</td>\n",
       "      <td>vinay</td>\n",
       "      <td>Marathi</td>\n",
       "      <td>66</td>\n",
       "      <td>100</td>\n",
       "    </tr>\n",
       "  </tbody>\n",
       "</table>\n",
       "</div>"
      ],
      "text/plain": [
       "   Roll.No      Name  Subject  Marks  Total.Marks\n",
       "0        1     suraj  English     22          100\n",
       "1        2    ganesh  History     33          100\n",
       "2        3  mayuresh  Science     44          100\n",
       "3        4     kiran    Maths     55          100\n",
       "4        5     vinay  Marathi     66          100"
      ]
     },
     "execution_count": 66,
     "metadata": {},
     "output_type": "execute_result"
    }
   ],
   "source": [
    "df = pd.DataFrame(zip(list1,list2,list3,list4,list5), columns=['Roll.No','Name','Subject','Marks','Total.Marks'])\n",
    "df"
   ]
  },
  {
   "cell_type": "code",
   "execution_count": 71,
   "id": "4152efe3",
   "metadata": {},
   "outputs": [
    {
     "data": {
      "text/html": [
       "<div>\n",
       "<style scoped>\n",
       "    .dataframe tbody tr th:only-of-type {\n",
       "        vertical-align: middle;\n",
       "    }\n",
       "\n",
       "    .dataframe tbody tr th {\n",
       "        vertical-align: top;\n",
       "    }\n",
       "\n",
       "    .dataframe thead th {\n",
       "        text-align: right;\n",
       "    }\n",
       "</style>\n",
       "<table border=\"1\" class=\"dataframe\">\n",
       "  <thead>\n",
       "    <tr style=\"text-align: right;\">\n",
       "      <th></th>\n",
       "      <th>Serianl.No</th>\n",
       "      <th>Subject</th>\n",
       "      <th>Marks</th>\n",
       "      <th>Total.Marks</th>\n",
       "    </tr>\n",
       "  </thead>\n",
       "  <tbody>\n",
       "    <tr>\n",
       "      <th>0</th>\n",
       "      <td>1</td>\n",
       "      <td>Hindi</td>\n",
       "      <td>59</td>\n",
       "      <td>100</td>\n",
       "    </tr>\n",
       "    <tr>\n",
       "      <th>1</th>\n",
       "      <td>2</td>\n",
       "      <td>English</td>\n",
       "      <td>78</td>\n",
       "      <td>100</td>\n",
       "    </tr>\n",
       "    <tr>\n",
       "      <th>2</th>\n",
       "      <td>3</td>\n",
       "      <td>Marathi</td>\n",
       "      <td>69</td>\n",
       "      <td>100</td>\n",
       "    </tr>\n",
       "    <tr>\n",
       "      <th>3</th>\n",
       "      <td>4</td>\n",
       "      <td>Science</td>\n",
       "      <td>70</td>\n",
       "      <td>100</td>\n",
       "    </tr>\n",
       "    <tr>\n",
       "      <th>4</th>\n",
       "      <td>5</td>\n",
       "      <td>Mathematics</td>\n",
       "      <td>121</td>\n",
       "      <td>150</td>\n",
       "    </tr>\n",
       "    <tr>\n",
       "      <th>5</th>\n",
       "      <td>6</td>\n",
       "      <td>History</td>\n",
       "      <td>66</td>\n",
       "      <td>100</td>\n",
       "    </tr>\n",
       "    <tr>\n",
       "      <th>6</th>\n",
       "      <td>7</td>\n",
       "      <td>Geography</td>\n",
       "      <td>71</td>\n",
       "      <td>100</td>\n",
       "    </tr>\n",
       "  </tbody>\n",
       "</table>\n",
       "</div>"
      ],
      "text/plain": [
       "   Serianl.No      Subject  Marks  Total.Marks\n",
       "0           1        Hindi     59          100\n",
       "1           2      English     78          100\n",
       "2           3      Marathi     69          100\n",
       "3           4      Science     70          100\n",
       "4           5  Mathematics    121          150\n",
       "5           6      History     66          100\n",
       "6           7    Geography     71          100"
      ]
     },
     "execution_count": 71,
     "metadata": {},
     "output_type": "execute_result"
    }
   ],
   "source": [
    "l1 = [1,2,3,4,5,6,7]\n",
    "l2 = ['Hindi','English','Marathi','Science','Mathematics','History','Geography']\n",
    "l3 = [59,78,69,70,121,66,71]\n",
    "l4 = [100,100,100,100,150,100,100]\n",
    "df = pd.DataFrame(zip(l1,l2,l3,l4), columns=['Serianl.No','Subject','Marks','Total.Marks'])\n",
    "df"
   ]
  },
  {
   "cell_type": "code",
   "execution_count": 76,
   "id": "c1115354",
   "metadata": {},
   "outputs": [
    {
     "name": "stdout",
     "output_type": "stream",
     "text": [
      "       Serianl.No      Subject  Marks  Total.Marks\n",
      "0               1        Hindi     59          100\n",
      "1               2      English     78          100\n",
      "2               3      Marathi     69          100\n",
      "3               4      Science     70          100\n",
      "4               5  Mathematics    121          150\n",
      "5               6      History     66          100\n",
      "6               7    Geography     71          100\n",
      "Total        2136         2136   2136         2136\n"
     ]
    }
   ],
   "source": [
    "df.loc['Total'] = df['Marks'].sum()\n",
    "print(df)"
   ]
  },
  {
   "cell_type": "code",
   "execution_count": 77,
   "id": "674b75a9",
   "metadata": {},
   "outputs": [
    {
     "name": "stdout",
     "output_type": "stream",
     "text": [
      "       subjects  Marks\n",
      "0           NaN     59\n",
      "1           NaN     78\n",
      "2           NaN     69\n",
      "3           NaN     70\n",
      "4           NaN    121\n",
      "5           NaN     66\n",
      "6           NaN     71\n",
      "Total       NaN   2136\n"
     ]
    }
   ],
   "source": [
    "df= pd.DataFrame(df, columns=['subjects','Marks'])\n",
    "print(df)"
   ]
  },
  {
   "cell_type": "code",
   "execution_count": 78,
   "id": "99797d84",
   "metadata": {},
   "outputs": [
    {
     "name": "stdout",
     "output_type": "stream",
     "text": [
      "10\n"
     ]
    }
   ],
   "source": [
    "l=[1,2,3,4,5,6,7,8,9,10]\n",
    "\n",
    "f = lambda x:max(x)\n",
    "print(f(l))"
   ]
  },
  {
   "cell_type": "code",
   "execution_count": 79,
   "id": "1e90b7f9",
   "metadata": {},
   "outputs": [
    {
     "data": {
      "text/plain": [
       "['BooleanDtype',\n",
       " 'Categorical',\n",
       " 'CategoricalDtype',\n",
       " 'CategoricalIndex',\n",
       " 'DataFrame',\n",
       " 'DateOffset',\n",
       " 'DatetimeIndex',\n",
       " 'DatetimeTZDtype',\n",
       " 'ExcelFile',\n",
       " 'ExcelWriter',\n",
       " 'Flags',\n",
       " 'Float32Dtype',\n",
       " 'Float64Dtype',\n",
       " 'Float64Index',\n",
       " 'Grouper',\n",
       " 'HDFStore',\n",
       " 'Index',\n",
       " 'IndexSlice',\n",
       " 'Int16Dtype',\n",
       " 'Int32Dtype',\n",
       " 'Int64Dtype',\n",
       " 'Int64Index',\n",
       " 'Int8Dtype',\n",
       " 'Interval',\n",
       " 'IntervalDtype',\n",
       " 'IntervalIndex',\n",
       " 'MultiIndex',\n",
       " 'NA',\n",
       " 'NaT',\n",
       " 'NamedAgg',\n",
       " 'Period',\n",
       " 'PeriodDtype',\n",
       " 'PeriodIndex',\n",
       " 'RangeIndex',\n",
       " 'Series',\n",
       " 'SparseDtype',\n",
       " 'StringDtype',\n",
       " 'Timedelta',\n",
       " 'TimedeltaIndex',\n",
       " 'Timestamp',\n",
       " 'UInt16Dtype',\n",
       " 'UInt32Dtype',\n",
       " 'UInt64Dtype',\n",
       " 'UInt64Index',\n",
       " 'UInt8Dtype',\n",
       " '__all__',\n",
       " '__builtins__',\n",
       " '__cached__',\n",
       " '__deprecated_num_index_names',\n",
       " '__dir__',\n",
       " '__doc__',\n",
       " '__docformat__',\n",
       " '__file__',\n",
       " '__getattr__',\n",
       " '__git_version__',\n",
       " '__loader__',\n",
       " '__name__',\n",
       " '__package__',\n",
       " '__path__',\n",
       " '__spec__',\n",
       " '__version__',\n",
       " '_config',\n",
       " '_is_numpy_dev',\n",
       " '_libs',\n",
       " '_testing',\n",
       " '_typing',\n",
       " '_version',\n",
       " 'api',\n",
       " 'array',\n",
       " 'arrays',\n",
       " 'bdate_range',\n",
       " 'compat',\n",
       " 'concat',\n",
       " 'core',\n",
       " 'crosstab',\n",
       " 'cut',\n",
       " 'date_range',\n",
       " 'describe_option',\n",
       " 'errors',\n",
       " 'eval',\n",
       " 'factorize',\n",
       " 'get_dummies',\n",
       " 'get_option',\n",
       " 'infer_freq',\n",
       " 'interval_range',\n",
       " 'io',\n",
       " 'isna',\n",
       " 'isnull',\n",
       " 'json_normalize',\n",
       " 'lreshape',\n",
       " 'melt',\n",
       " 'merge',\n",
       " 'merge_asof',\n",
       " 'merge_ordered',\n",
       " 'notna',\n",
       " 'notnull',\n",
       " 'offsets',\n",
       " 'option_context',\n",
       " 'options',\n",
       " 'pandas',\n",
       " 'period_range',\n",
       " 'pivot',\n",
       " 'pivot_table',\n",
       " 'plotting',\n",
       " 'qcut',\n",
       " 'read_clipboard',\n",
       " 'read_csv',\n",
       " 'read_excel',\n",
       " 'read_feather',\n",
       " 'read_fwf',\n",
       " 'read_gbq',\n",
       " 'read_hdf',\n",
       " 'read_html',\n",
       " 'read_json',\n",
       " 'read_orc',\n",
       " 'read_parquet',\n",
       " 'read_pickle',\n",
       " 'read_sas',\n",
       " 'read_spss',\n",
       " 'read_sql',\n",
       " 'read_sql_query',\n",
       " 'read_sql_table',\n",
       " 'read_stata',\n",
       " 'read_table',\n",
       " 'read_xml',\n",
       " 'reset_option',\n",
       " 'set_eng_float_format',\n",
       " 'set_option',\n",
       " 'show_versions',\n",
       " 'test',\n",
       " 'testing',\n",
       " 'timedelta_range',\n",
       " 'to_datetime',\n",
       " 'to_numeric',\n",
       " 'to_pickle',\n",
       " 'to_timedelta',\n",
       " 'tseries',\n",
       " 'unique',\n",
       " 'util',\n",
       " 'value_counts',\n",
       " 'wide_to_long']"
      ]
     },
     "execution_count": 79,
     "metadata": {},
     "output_type": "execute_result"
    }
   ],
   "source": [
    "import pandas as pd\n",
    "\n",
    "dir(pd)"
   ]
  },
  {
   "cell_type": "markdown",
   "id": "40e8b7b1",
   "metadata": {},
   "source": [
    "# Unpacking Nested Lists"
   ]
  },
  {
   "cell_type": "code",
   "execution_count": 80,
   "id": "62eb6ae4",
   "metadata": {},
   "outputs": [],
   "source": [
    "l=[[1,2,3],[4,5,6],[7,8,9,10]]"
   ]
  },
  {
   "cell_type": "code",
   "execution_count": 81,
   "id": "b936ab33",
   "metadata": {},
   "outputs": [
    {
     "data": {
      "text/plain": [
       "[1, 2, 3, 4, 5, 6, 7, 8, 9, 10]"
      ]
     },
     "execution_count": 81,
     "metadata": {},
     "output_type": "execute_result"
    }
   ],
   "source": [
    "[j for i in l for j in i]"
   ]
  },
  {
   "cell_type": "code",
   "execution_count": 82,
   "id": "7b95b808",
   "metadata": {},
   "outputs": [
    {
     "name": "stdout",
     "output_type": "stream",
     "text": [
      "1\n",
      "2\n",
      "3\n",
      "4\n",
      "5\n",
      "6\n",
      "7\n",
      "8\n",
      "9\n",
      "10\n"
     ]
    }
   ],
   "source": [
    "for i in l :\n",
    "    for j in i:\n",
    "        print(j)"
   ]
  },
  {
   "cell_type": "code",
   "execution_count": 83,
   "id": "f774427a",
   "metadata": {},
   "outputs": [
    {
     "data": {
      "text/plain": [
       "[(1, 2, 3, 4), (5, 6, 7, 8), (9, 10, 11, 12), (13, 14, 15, 16)]"
      ]
     },
     "execution_count": 83,
     "metadata": {},
     "output_type": "execute_result"
    }
   ],
   "source": [
    "t = ((1,2,3,4),(5,6,7,8),(9,10,11,12),(13,14,15,16))\n",
    "[i for i in t]"
   ]
  },
  {
   "cell_type": "code",
   "execution_count": 90,
   "id": "fd2d8971",
   "metadata": {},
   "outputs": [
    {
     "name": "stdout",
     "output_type": "stream",
     "text": [
      "1\n",
      "2\n",
      "3\n",
      "4\n",
      "5\n",
      "6\n",
      "7\n",
      "8\n",
      "9\n",
      "10\n",
      "11\n",
      "12\n",
      "13\n",
      "14\n",
      "15\n",
      "16\n"
     ]
    }
   ],
   "source": [
    "for i in t:\n",
    "    for j in i:\n",
    "        print(j)"
   ]
  },
  {
   "cell_type": "code",
   "execution_count": 96,
   "id": "31ccb08f",
   "metadata": {},
   "outputs": [],
   "source": [
    "t1 =(1,2,3,4,5)"
   ]
  },
  {
   "cell_type": "code",
   "execution_count": 99,
   "id": "fe0c523a",
   "metadata": {},
   "outputs": [
    {
     "data": {
      "text/plain": [
       "[1, 2, 3, 4, 5]"
      ]
     },
     "execution_count": 99,
     "metadata": {},
     "output_type": "execute_result"
    }
   ],
   "source": [
    "[i for i in t1]"
   ]
  },
  {
   "cell_type": "code",
   "execution_count": 100,
   "id": "56b1b85f",
   "metadata": {},
   "outputs": [
    {
     "data": {
      "text/plain": [
       "((1, 2, 3, 4), (5, 6, 7, 8), (9, 10, 11, 12))"
      ]
     },
     "execution_count": 100,
     "metadata": {},
     "output_type": "execute_result"
    }
   ],
   "source": [
    "t = ((1,2,3,4),(5,6,7,8),(9,10,11,12))\n",
    "t"
   ]
  },
  {
   "cell_type": "code",
   "execution_count": 101,
   "id": "f45cd266",
   "metadata": {},
   "outputs": [
    {
     "data": {
      "text/plain": [
       "[1, 2, 3, 4, 5, 6, 7, 8, 9, 10, 11, 12]"
      ]
     },
     "execution_count": 101,
     "metadata": {},
     "output_type": "execute_result"
    }
   ],
   "source": [
    "[j for i in t for j in i]"
   ]
  },
  {
   "cell_type": "code",
   "execution_count": 104,
   "id": "cb3e1347",
   "metadata": {},
   "outputs": [],
   "source": [
    "l =[[[1,2,3,4,5],[6,7,8,9,10],[11,12,13,14,15],[16,17,18,19,20]]]"
   ]
  },
  {
   "cell_type": "code",
   "execution_count": 105,
   "id": "290a94aa",
   "metadata": {},
   "outputs": [
    {
     "data": {
      "text/plain": [
       "[1, 2, 3, 4, 5, 6, 7, 8, 9, 10, 11, 12, 13, 14, 15, 16, 17, 18, 19, 20]"
      ]
     },
     "execution_count": 105,
     "metadata": {},
     "output_type": "execute_result"
    }
   ],
   "source": [
    "[p for i in l for j in i for p in j]"
   ]
  },
  {
   "cell_type": "code",
   "execution_count": 106,
   "id": "514540a0",
   "metadata": {},
   "outputs": [
    {
     "data": {
      "text/plain": [
       "'Z'"
      ]
     },
     "execution_count": 106,
     "metadata": {},
     "output_type": "execute_result"
    }
   ],
   "source": [
    "l = [[\"Hat\",\"Glove\",\"Google\"],[\"Button\",\"Zipper\",\"Hook\"]]\n",
    "l[1][1][0]"
   ]
  },
  {
   "cell_type": "code",
   "execution_count": 108,
   "id": "c22e89c9",
   "metadata": {},
   "outputs": [
    {
     "data": {
      "text/plain": [
       "'Zipper'"
      ]
     },
     "execution_count": 108,
     "metadata": {},
     "output_type": "execute_result"
    }
   ],
   "source": [
    "l[1][1][0:6]"
   ]
  },
  {
   "cell_type": "code",
   "execution_count": 109,
   "id": "60fd1b76",
   "metadata": {},
   "outputs": [
    {
     "data": {
      "text/plain": [
       "'Blue'"
      ]
     },
     "execution_count": 109,
     "metadata": {},
     "output_type": "execute_result"
    }
   ],
   "source": [
    "l =[{\"Orange\":\"Orange\"},{\"Rose\":\"Red\"},{\"Violet\":\"Blue\"}]\n",
    "l[2][\"Violet\"]"
   ]
  },
  {
   "cell_type": "code",
   "execution_count": 111,
   "id": "4394d6fe",
   "metadata": {},
   "outputs": [
    {
     "data": {
      "text/plain": [
       "'dry'"
      ]
     },
     "execution_count": 111,
     "metadata": {},
     "output_type": "execute_result"
    }
   ],
   "source": [
    "d = {\"dakar\":{'weather':'Sunny','roads':'dry'}}\n",
    "d['dakar']['roads']"
   ]
  },
  {
   "cell_type": "markdown",
   "id": "672c0f11",
   "metadata": {},
   "source": [
    "# Sort.Function()"
   ]
  },
  {
   "cell_type": "code",
   "execution_count": 117,
   "id": "efdd6f79",
   "metadata": {},
   "outputs": [],
   "source": [
    "l = [1,2,3,4,5,6,70,80,90,111,120,150,160,20,1000,1211,1511,1600]"
   ]
  },
  {
   "cell_type": "code",
   "execution_count": 118,
   "id": "dc6a14a9",
   "metadata": {},
   "outputs": [],
   "source": [
    "l.sort()"
   ]
  },
  {
   "cell_type": "code",
   "execution_count": 119,
   "id": "f214a2f7",
   "metadata": {},
   "outputs": [
    {
     "data": {
      "text/plain": [
       "[1, 2, 3, 4, 5, 6, 20, 70, 80, 90, 111, 120, 150, 160, 1000, 1211, 1511, 1600]"
      ]
     },
     "execution_count": 119,
     "metadata": {},
     "output_type": "execute_result"
    }
   ],
   "source": [
    "l"
   ]
  },
  {
   "cell_type": "code",
   "execution_count": 120,
   "id": "61660fed",
   "metadata": {},
   "outputs": [],
   "source": [
    "l.reverse()"
   ]
  },
  {
   "cell_type": "code",
   "execution_count": 121,
   "id": "6944297b",
   "metadata": {},
   "outputs": [
    {
     "data": {
      "text/plain": [
       "[1600, 1511, 1211, 1000, 160, 150, 120, 111, 90, 80, 70, 20, 6, 5, 4, 3, 2, 1]"
      ]
     },
     "execution_count": 121,
     "metadata": {},
     "output_type": "execute_result"
    }
   ],
   "source": [
    "l"
   ]
  },
  {
   "cell_type": "code",
   "execution_count": 122,
   "id": "c155a20f",
   "metadata": {},
   "outputs": [],
   "source": [
    "l.sort(reverse=True)"
   ]
  },
  {
   "cell_type": "code",
   "execution_count": 123,
   "id": "77eff56d",
   "metadata": {},
   "outputs": [
    {
     "data": {
      "text/plain": [
       "[1600, 1511, 1211, 1000, 160, 150, 120, 111, 90, 80, 70, 20, 6, 5, 4, 3, 2, 1]"
      ]
     },
     "execution_count": 123,
     "metadata": {},
     "output_type": "execute_result"
    }
   ],
   "source": [
    "l"
   ]
  },
  {
   "cell_type": "code",
   "execution_count": 124,
   "id": "49413810",
   "metadata": {},
   "outputs": [],
   "source": [
    "l=[5,6,7,9,10,11,15,16,1,2,3,4,12,13,14,17,18,19,20,21,22,29,30,31,39,40,45]"
   ]
  },
  {
   "cell_type": "code",
   "execution_count": 126,
   "id": "bc5630df",
   "metadata": {},
   "outputs": [],
   "source": [
    "l.sort()"
   ]
  },
  {
   "cell_type": "code",
   "execution_count": 127,
   "id": "c86cacbf",
   "metadata": {},
   "outputs": [
    {
     "data": {
      "text/plain": [
       "[1,\n",
       " 2,\n",
       " 3,\n",
       " 4,\n",
       " 5,\n",
       " 6,\n",
       " 7,\n",
       " 9,\n",
       " 10,\n",
       " 11,\n",
       " 12,\n",
       " 13,\n",
       " 14,\n",
       " 15,\n",
       " 16,\n",
       " 17,\n",
       " 18,\n",
       " 19,\n",
       " 20,\n",
       " 21,\n",
       " 22,\n",
       " 29,\n",
       " 30,\n",
       " 31,\n",
       " 39,\n",
       " 40,\n",
       " 45]"
      ]
     },
     "execution_count": 127,
     "metadata": {},
     "output_type": "execute_result"
    }
   ],
   "source": [
    "l"
   ]
  },
  {
   "cell_type": "code",
   "execution_count": 128,
   "id": "2e9e3c60",
   "metadata": {},
   "outputs": [],
   "source": [
    "l.sort(reverse=False)"
   ]
  },
  {
   "cell_type": "code",
   "execution_count": 129,
   "id": "64e979ea",
   "metadata": {},
   "outputs": [
    {
     "data": {
      "text/plain": [
       "[1,\n",
       " 2,\n",
       " 3,\n",
       " 4,\n",
       " 5,\n",
       " 6,\n",
       " 7,\n",
       " 9,\n",
       " 10,\n",
       " 11,\n",
       " 12,\n",
       " 13,\n",
       " 14,\n",
       " 15,\n",
       " 16,\n",
       " 17,\n",
       " 18,\n",
       " 19,\n",
       " 20,\n",
       " 21,\n",
       " 22,\n",
       " 29,\n",
       " 30,\n",
       " 31,\n",
       " 39,\n",
       " 40,\n",
       " 45]"
      ]
     },
     "execution_count": 129,
     "metadata": {},
     "output_type": "execute_result"
    }
   ],
   "source": [
    "l\n"
   ]
  },
  {
   "cell_type": "code",
   "execution_count": 130,
   "id": "639af9f8",
   "metadata": {},
   "outputs": [
    {
     "data": {
      "text/plain": [
       "['hero', 'spyderman', 'suraj', 'thanos']"
      ]
     },
     "execution_count": 130,
     "metadata": {},
     "output_type": "execute_result"
    }
   ],
   "source": [
    "d1 = {'suraj':2,'hero':1,'spyderman':4,'thanos':3}\n",
    "sorted(d1)"
   ]
  },
  {
   "cell_type": "code",
   "execution_count": 136,
   "id": "b4e0a676",
   "metadata": {},
   "outputs": [
    {
     "data": {
      "text/plain": [
       "['thanos', 'suraj', 'spyderman', 'hero']"
      ]
     },
     "execution_count": 136,
     "metadata": {},
     "output_type": "execute_result"
    }
   ],
   "source": [
    "sorted(d1, reverse=True)"
   ]
  },
  {
   "cell_type": "code",
   "execution_count": 131,
   "id": "6c30f01e",
   "metadata": {},
   "outputs": [
    {
     "data": {
      "text/plain": [
       "[1, 2, 2, 3, 4, 5, 6, 8, 9]"
      ]
     },
     "execution_count": 131,
     "metadata": {},
     "output_type": "execute_result"
    }
   ],
   "source": [
    "t =(1,4,2,8,9,2,3,6,5)\n",
    "\n",
    "sorted(t)"
   ]
  },
  {
   "cell_type": "code",
   "execution_count": 133,
   "id": "b6f71663",
   "metadata": {},
   "outputs": [
    {
     "ename": "AttributeError",
     "evalue": "'tuple' object has no attribute 'sorted'",
     "output_type": "error",
     "traceback": [
      "\u001b[1;31m---------------------------------------------------------------------------\u001b[0m",
      "\u001b[1;31mAttributeError\u001b[0m                            Traceback (most recent call last)",
      "\u001b[1;32m~\\AppData\\Local\\Temp\\ipykernel_18000\\1885202705.py\u001b[0m in \u001b[0;36m<module>\u001b[1;34m\u001b[0m\n\u001b[1;32m----> 1\u001b[1;33m \u001b[0mt\u001b[0m\u001b[1;33m.\u001b[0m\u001b[0msorted\u001b[0m\u001b[1;33m(\u001b[0m\u001b[1;33m)\u001b[0m\u001b[1;33m\u001b[0m\u001b[1;33m\u001b[0m\u001b[0m\n\u001b[0m",
      "\u001b[1;31mAttributeError\u001b[0m: 'tuple' object has no attribute 'sorted'"
     ]
    }
   ],
   "source": [
    "t.sorted()"
   ]
  },
  {
   "cell_type": "code",
   "execution_count": 134,
   "id": "311a53df",
   "metadata": {},
   "outputs": [
    {
     "data": {
      "text/plain": [
       "[11, 12, 13, 15, 16, 18, 19, 20, 25, 26, 28, 29, 30, 35, 38, 39, 40]"
      ]
     },
     "execution_count": 134,
     "metadata": {},
     "output_type": "execute_result"
    }
   ],
   "source": [
    "l =[11,12,13,15,16,18,19,20,25,26,28,29,30,35,38,39,40]\n",
    "sorted(l)"
   ]
  },
  {
   "cell_type": "code",
   "execution_count": 137,
   "id": "95b0cfc1",
   "metadata": {},
   "outputs": [
    {
     "data": {
      "text/plain": [
       "[40, 39, 38, 35, 30, 29, 28, 26, 25, 20, 19, 18, 16, 15, 13, 12, 11]"
      ]
     },
     "execution_count": 137,
     "metadata": {},
     "output_type": "execute_result"
    }
   ],
   "source": [
    "sorted(l,reverse=True)"
   ]
  },
  {
   "cell_type": "code",
   "execution_count": 138,
   "id": "96dd70b6",
   "metadata": {},
   "outputs": [
    {
     "data": {
      "text/plain": [
       "[11, 12, 13, 15, 16, 18, 19, 20, 25, 26, 28, 29, 30, 35, 38, 39, 40]"
      ]
     },
     "execution_count": 138,
     "metadata": {},
     "output_type": "execute_result"
    }
   ],
   "source": [
    "sorted(l,reverse=False)"
   ]
  },
  {
   "cell_type": "code",
   "execution_count": 139,
   "id": "4ee3dfac",
   "metadata": {},
   "outputs": [],
   "source": [
    "d=['suraj','hero','superman','thanos']\n"
   ]
  },
  {
   "cell_type": "code",
   "execution_count": 140,
   "id": "3c612a21",
   "metadata": {},
   "outputs": [
    {
     "data": {
      "text/plain": [
       "['suraj', 'hero', 'superman', 'thanos']"
      ]
     },
     "execution_count": 140,
     "metadata": {},
     "output_type": "execute_result"
    }
   ],
   "source": [
    "d"
   ]
  },
  {
   "cell_type": "code",
   "execution_count": 141,
   "id": "6a6ddc6a",
   "metadata": {},
   "outputs": [],
   "source": [
    "l=[1,2,3,-4,-6,-1000,-20]"
   ]
  },
  {
   "cell_type": "code",
   "execution_count": 142,
   "id": "247baeb6",
   "metadata": {},
   "outputs": [
    {
     "data": {
      "text/plain": [
       "<filter at 0x18bad7f63a0>"
      ]
     },
     "execution_count": 142,
     "metadata": {},
     "output_type": "execute_result"
    }
   ],
   "source": [
    "f = lambda x:x<0\n",
    "\n",
    "filter(f,l)\n"
   ]
  },
  {
   "cell_type": "code",
   "execution_count": 143,
   "id": "1f61df7d",
   "metadata": {},
   "outputs": [
    {
     "data": {
      "text/plain": [
       "[1, 2, 3]"
      ]
     },
     "execution_count": 143,
     "metadata": {},
     "output_type": "execute_result"
    }
   ],
   "source": [
    "[i for i in l if i>0]"
   ]
  },
  {
   "cell_type": "code",
   "execution_count": 144,
   "id": "14e1ebcd",
   "metadata": {},
   "outputs": [],
   "source": [
    "l=[1,2,3,4,5,6,7,7,8,9,9,9,9]"
   ]
  },
  {
   "cell_type": "code",
   "execution_count": 145,
   "id": "e067f3d3",
   "metadata": {},
   "outputs": [
    {
     "data": {
      "text/plain": [
       "[2, 4, 6, 8]"
      ]
     },
     "execution_count": 145,
     "metadata": {},
     "output_type": "execute_result"
    }
   ],
   "source": [
    "f = lambda x:x%2==0\n",
    "list(filter(f,l))"
   ]
  },
  {
   "cell_type": "code",
   "execution_count": 146,
   "id": "9c2cc161",
   "metadata": {},
   "outputs": [
    {
     "data": {
      "text/plain": [
       "[1, 2, 3, 4, 5, 6, 7, 7, 8, 9, 9, 9, 9]"
      ]
     },
     "execution_count": 146,
     "metadata": {},
     "output_type": "execute_result"
    }
   ],
   "source": [
    "f = lambda x:x%1==0\n",
    "list(filter(f,l))"
   ]
  },
  {
   "cell_type": "code",
   "execution_count": null,
   "id": "e19300b0",
   "metadata": {},
   "outputs": [],
   "source": []
  },
  {
   "cell_type": "code",
   "execution_count": null,
   "id": "5381458f",
   "metadata": {},
   "outputs": [],
   "source": []
  },
  {
   "cell_type": "code",
   "execution_count": null,
   "id": "6ae6fa14",
   "metadata": {},
   "outputs": [],
   "source": []
  },
  {
   "cell_type": "code",
   "execution_count": null,
   "id": "0749aadb",
   "metadata": {},
   "outputs": [],
   "source": []
  },
  {
   "cell_type": "code",
   "execution_count": null,
   "id": "b788c022",
   "metadata": {},
   "outputs": [],
   "source": []
  },
  {
   "cell_type": "code",
   "execution_count": null,
   "id": "01aa8510",
   "metadata": {},
   "outputs": [],
   "source": []
  },
  {
   "cell_type": "code",
   "execution_count": null,
   "id": "c7f7dd9c",
   "metadata": {},
   "outputs": [],
   "source": []
  },
  {
   "cell_type": "code",
   "execution_count": null,
   "id": "30f3d989",
   "metadata": {},
   "outputs": [],
   "source": []
  },
  {
   "cell_type": "code",
   "execution_count": null,
   "id": "75d0a41e",
   "metadata": {},
   "outputs": [],
   "source": []
  },
  {
   "cell_type": "code",
   "execution_count": null,
   "id": "7c7e0b96",
   "metadata": {},
   "outputs": [],
   "source": []
  },
  {
   "cell_type": "code",
   "execution_count": null,
   "id": "fd5f90c0",
   "metadata": {},
   "outputs": [],
   "source": []
  },
  {
   "cell_type": "code",
   "execution_count": null,
   "id": "fafd2e8c",
   "metadata": {},
   "outputs": [],
   "source": []
  },
  {
   "cell_type": "code",
   "execution_count": null,
   "id": "0b2add06",
   "metadata": {},
   "outputs": [],
   "source": []
  },
  {
   "cell_type": "code",
   "execution_count": null,
   "id": "baef3f8e",
   "metadata": {},
   "outputs": [],
   "source": []
  },
  {
   "cell_type": "code",
   "execution_count": null,
   "id": "2c56cbcc",
   "metadata": {},
   "outputs": [],
   "source": []
  },
  {
   "cell_type": "code",
   "execution_count": null,
   "id": "013d192c",
   "metadata": {},
   "outputs": [],
   "source": []
  },
  {
   "cell_type": "code",
   "execution_count": null,
   "id": "35e2f6f5",
   "metadata": {},
   "outputs": [],
   "source": []
  },
  {
   "cell_type": "code",
   "execution_count": null,
   "id": "8b77057f",
   "metadata": {},
   "outputs": [],
   "source": []
  },
  {
   "cell_type": "code",
   "execution_count": null,
   "id": "ddee3c91",
   "metadata": {},
   "outputs": [],
   "source": []
  },
  {
   "cell_type": "code",
   "execution_count": null,
   "id": "a56d7e70",
   "metadata": {},
   "outputs": [],
   "source": []
  },
  {
   "cell_type": "code",
   "execution_count": null,
   "id": "4b516f19",
   "metadata": {},
   "outputs": [],
   "source": []
  },
  {
   "cell_type": "code",
   "execution_count": null,
   "id": "4b66af78",
   "metadata": {},
   "outputs": [],
   "source": []
  },
  {
   "cell_type": "code",
   "execution_count": null,
   "id": "eef0bdd1",
   "metadata": {},
   "outputs": [],
   "source": []
  },
  {
   "cell_type": "code",
   "execution_count": null,
   "id": "8adff6d9",
   "metadata": {},
   "outputs": [],
   "source": []
  },
  {
   "cell_type": "code",
   "execution_count": null,
   "id": "049ef871",
   "metadata": {},
   "outputs": [],
   "source": []
  },
  {
   "cell_type": "code",
   "execution_count": null,
   "id": "7e286aec",
   "metadata": {},
   "outputs": [],
   "source": []
  },
  {
   "cell_type": "code",
   "execution_count": null,
   "id": "031292a7",
   "metadata": {},
   "outputs": [],
   "source": []
  },
  {
   "cell_type": "code",
   "execution_count": null,
   "id": "0d2fbdff",
   "metadata": {},
   "outputs": [],
   "source": []
  },
  {
   "cell_type": "code",
   "execution_count": null,
   "id": "f0b2ba8a",
   "metadata": {},
   "outputs": [],
   "source": []
  },
  {
   "cell_type": "code",
   "execution_count": null,
   "id": "b482cf47",
   "metadata": {},
   "outputs": [],
   "source": []
  },
  {
   "cell_type": "code",
   "execution_count": null,
   "id": "2ed25028",
   "metadata": {},
   "outputs": [],
   "source": []
  },
  {
   "cell_type": "code",
   "execution_count": null,
   "id": "73f428c4",
   "metadata": {},
   "outputs": [],
   "source": []
  },
  {
   "cell_type": "code",
   "execution_count": null,
   "id": "8dac122f",
   "metadata": {},
   "outputs": [],
   "source": []
  },
  {
   "cell_type": "code",
   "execution_count": null,
   "id": "12fc02cd",
   "metadata": {},
   "outputs": [],
   "source": []
  },
  {
   "cell_type": "code",
   "execution_count": null,
   "id": "155c36dd",
   "metadata": {},
   "outputs": [],
   "source": []
  },
  {
   "cell_type": "code",
   "execution_count": null,
   "id": "e692138a",
   "metadata": {},
   "outputs": [],
   "source": []
  },
  {
   "cell_type": "code",
   "execution_count": null,
   "id": "d1ffc46a",
   "metadata": {},
   "outputs": [],
   "source": []
  },
  {
   "cell_type": "raw",
   "id": "571f64ce",
   "metadata": {},
   "source": []
  }
 ],
 "metadata": {
  "kernelspec": {
   "display_name": "Python 3 (ipykernel)",
   "language": "python",
   "name": "python3"
  },
  "language_info": {
   "codemirror_mode": {
    "name": "ipython",
    "version": 3
   },
   "file_extension": ".py",
   "mimetype": "text/x-python",
   "name": "python",
   "nbconvert_exporter": "python",
   "pygments_lexer": "ipython3",
   "version": "3.9.13"
  }
 },
 "nbformat": 4,
 "nbformat_minor": 5
}
